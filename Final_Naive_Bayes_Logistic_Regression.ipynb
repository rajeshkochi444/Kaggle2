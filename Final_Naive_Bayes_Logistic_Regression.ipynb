{
 "cells": [
  {
   "cell_type": "code",
   "execution_count": 1,
   "id": "f21c86ac",
   "metadata": {},
   "outputs": [],
   "source": [
    "import pandas as pd\n",
    "import numpy as np\n",
    "#for text pre-processing\n",
    "import re, string\n",
    "import nltk\n",
    "from nltk.tokenize import word_tokenize\n",
    "from nltk.corpus import stopwords\n",
    "from nltk.tokenize import word_tokenize\n",
    "from nltk.stem import SnowballStemmer\n",
    "from nltk.corpus import wordnet\n",
    "from nltk.stem import WordNetLemmatizer\n",
    "#nltk.download('punkt')\n",
    "#nltk.download('averaged_perceptron_tagger')\n",
    "#nltk.download('wordnet')\n",
    "#nltk.download('omw-1.4')\n",
    "\n",
    "from sklearn.feature_extraction.text import TfidfVectorizer\n",
    "from sklearn.feature_extraction.text import CountVectorizer\n",
    "\n",
    "from sklearn.model_selection import train_test_split\n",
    "from sklearn.naive_bayes import MultinomialNB\n",
    "from sklearn.metrics import classification_report, f1_score, accuracy_score, confusion_matrix\n",
    "from sklearn.metrics import roc_curve, auc, roc_auc_score\n",
    "from sklearn.calibration import calibration_curve, CalibrationDisplay\n",
    "from sklearn import metrics"
   ]
  },
  {
   "cell_type": "code",
   "execution_count": 2,
   "id": "72defce8",
   "metadata": {},
   "outputs": [],
   "source": [
    "from nltk.corpus import stopwords\n",
    "stopwords_list = set(stopwords.words('english'))\n",
    "#stopwords_list"
   ]
  },
  {
   "cell_type": "code",
   "execution_count": 3,
   "id": "a25d2018",
   "metadata": {},
   "outputs": [],
   "source": [
    "train_data = pd.read_csv(\"train_data.csv\")\n",
    "train_results = pd.read_csv(\"train_results.csv\")\n",
    "test_data = pd.read_csv(\"test_data.csv\")"
   ]
  },
  {
   "cell_type": "code",
   "execution_count": 4,
   "id": "7689a2f4",
   "metadata": {},
   "outputs": [
    {
     "name": "stdout",
     "output_type": "stream",
     "text": [
      "1040323\n",
      "560175\n"
     ]
    }
   ],
   "source": [
    "print(len(train_data))\n",
    "print(len(test_data))"
   ]
  },
  {
   "cell_type": "code",
   "execution_count": 5,
   "id": "2071ced1",
   "metadata": {},
   "outputs": [
    {
     "data": {
      "text/html": [
       "<div>\n",
       "<style scoped>\n",
       "    .dataframe tbody tr th:only-of-type {\n",
       "        vertical-align: middle;\n",
       "    }\n",
       "\n",
       "    .dataframe tbody tr th {\n",
       "        vertical-align: top;\n",
       "    }\n",
       "\n",
       "    .dataframe thead th {\n",
       "        text-align: right;\n",
       "    }\n",
       "</style>\n",
       "<table border=\"1\" class=\"dataframe\">\n",
       "  <thead>\n",
       "    <tr style=\"text-align: right;\">\n",
       "      <th></th>\n",
       "      <th>id</th>\n",
       "      <th>text</th>\n",
       "    </tr>\n",
       "  </thead>\n",
       "  <tbody>\n",
       "    <tr>\n",
       "      <th>0</th>\n",
       "      <td>0</td>\n",
       "      <td>Anyway Im getting of for a while</td>\n",
       "    </tr>\n",
       "    <tr>\n",
       "      <th>1</th>\n",
       "      <td>1</td>\n",
       "      <td>My red, Apache isn't feelin too well this morn...</td>\n",
       "    </tr>\n",
       "    <tr>\n",
       "      <th>2</th>\n",
       "      <td>2</td>\n",
       "      <td>@danyelljoy you should be  its great. friday w...</td>\n",
       "    </tr>\n",
       "    <tr>\n",
       "      <th>3</th>\n",
       "      <td>3</td>\n",
       "      <td>its 11:30pm and i dont wanna sleep; so i debat...</td>\n",
       "    </tr>\n",
       "    <tr>\n",
       "      <th>4</th>\n",
       "      <td>4</td>\n",
       "      <td>Why does twitter eat my DM's?  Not happy</td>\n",
       "    </tr>\n",
       "    <tr>\n",
       "      <th>...</th>\n",
       "      <td>...</td>\n",
       "      <td>...</td>\n",
       "    </tr>\n",
       "    <tr>\n",
       "      <th>1040318</th>\n",
       "      <td>1040318</td>\n",
       "      <td>getting ready 2 watch mental</td>\n",
       "    </tr>\n",
       "    <tr>\n",
       "      <th>1040319</th>\n",
       "      <td>1040319</td>\n",
       "      <td>Wristcutters and Half Nelson are on Sundance F...</td>\n",
       "    </tr>\n",
       "    <tr>\n",
       "      <th>1040320</th>\n",
       "      <td>1040320</td>\n",
       "      <td>@t_isfortammy Going out in Northbridge makes m...</td>\n",
       "    </tr>\n",
       "    <tr>\n",
       "      <th>1040321</th>\n",
       "      <td>1040321</td>\n",
       "      <td>@iModel_ lol.... Gorgeous...lol! U look sooo m...</td>\n",
       "    </tr>\n",
       "    <tr>\n",
       "      <th>1040322</th>\n",
       "      <td>1040322</td>\n",
       "      <td>@iamjonathancook why?</td>\n",
       "    </tr>\n",
       "  </tbody>\n",
       "</table>\n",
       "<p>1040323 rows × 2 columns</p>\n",
       "</div>"
      ],
      "text/plain": [
       "              id                                               text\n",
       "0              0                  Anyway Im getting of for a while \n",
       "1              1  My red, Apache isn't feelin too well this morn...\n",
       "2              2  @danyelljoy you should be  its great. friday w...\n",
       "3              3  its 11:30pm and i dont wanna sleep; so i debat...\n",
       "4              4          Why does twitter eat my DM's?  Not happy \n",
       "...          ...                                                ...\n",
       "1040318  1040318                      getting ready 2 watch mental \n",
       "1040319  1040319  Wristcutters and Half Nelson are on Sundance F...\n",
       "1040320  1040320  @t_isfortammy Going out in Northbridge makes m...\n",
       "1040321  1040321  @iModel_ lol.... Gorgeous...lol! U look sooo m...\n",
       "1040322  1040322                             @iamjonathancook why? \n",
       "\n",
       "[1040323 rows x 2 columns]"
      ]
     },
     "execution_count": 5,
     "metadata": {},
     "output_type": "execute_result"
    }
   ],
   "source": [
    "train_data"
   ]
  },
  {
   "cell_type": "code",
   "execution_count": 6,
   "id": "b0c19f81",
   "metadata": {},
   "outputs": [
    {
     "data": {
      "text/plain": [
       "id      0\n",
       "text    0\n",
       "dtype: int64"
      ]
     },
     "execution_count": 6,
     "metadata": {},
     "output_type": "execute_result"
    }
   ],
   "source": [
    "train_data.isnull().sum()"
   ]
  },
  {
   "cell_type": "code",
   "execution_count": 7,
   "id": "fba645e7",
   "metadata": {},
   "outputs": [
    {
     "data": {
      "text/html": [
       "<div>\n",
       "<style scoped>\n",
       "    .dataframe tbody tr th:only-of-type {\n",
       "        vertical-align: middle;\n",
       "    }\n",
       "\n",
       "    .dataframe tbody tr th {\n",
       "        vertical-align: top;\n",
       "    }\n",
       "\n",
       "    .dataframe thead th {\n",
       "        text-align: right;\n",
       "    }\n",
       "</style>\n",
       "<table border=\"1\" class=\"dataframe\">\n",
       "  <thead>\n",
       "    <tr style=\"text-align: right;\">\n",
       "      <th></th>\n",
       "      <th>id</th>\n",
       "      <th>text</th>\n",
       "    </tr>\n",
       "  </thead>\n",
       "  <tbody>\n",
       "    <tr>\n",
       "      <th>0</th>\n",
       "      <td>0</td>\n",
       "      <td>so cut... missed out on all the TCE EXTREME ME...</td>\n",
       "    </tr>\n",
       "    <tr>\n",
       "      <th>1</th>\n",
       "      <td>1</td>\n",
       "      <td>Thank you very much Wasin  this is awesome lol</td>\n",
       "    </tr>\n",
       "    <tr>\n",
       "      <th>2</th>\n",
       "      <td>2</td>\n",
       "      <td>Squeezing in some internet time before Dustin ...</td>\n",
       "    </tr>\n",
       "    <tr>\n",
       "      <th>3</th>\n",
       "      <td>3</td>\n",
       "      <td>@fanoou; Oh i do have moral but i'm gonna be b...</td>\n",
       "    </tr>\n",
       "    <tr>\n",
       "      <th>4</th>\n",
       "      <td>4</td>\n",
       "      <td>@NSuissa   I just bought Sammy some joint/hip ...</td>\n",
       "    </tr>\n",
       "    <tr>\n",
       "      <th>...</th>\n",
       "      <td>...</td>\n",
       "      <td>...</td>\n",
       "    </tr>\n",
       "    <tr>\n",
       "      <th>560170</th>\n",
       "      <td>560170</td>\n",
       "      <td>@meganintime So is mine and I've only got abou...</td>\n",
       "    </tr>\n",
       "    <tr>\n",
       "      <th>560171</th>\n",
       "      <td>560171</td>\n",
       "      <td>@FairyForest Thanks cutie ) Wishing u a wonder...</td>\n",
       "    </tr>\n",
       "    <tr>\n",
       "      <th>560172</th>\n",
       "      <td>560172</td>\n",
       "      <td>ok know i just got home my family just drop me...</td>\n",
       "    </tr>\n",
       "    <tr>\n",
       "      <th>560173</th>\n",
       "      <td>560173</td>\n",
       "      <td>long run status: complete. Now time for church...</td>\n",
       "    </tr>\n",
       "    <tr>\n",
       "      <th>560174</th>\n",
       "      <td>560174</td>\n",
       "      <td>@textualoffender Doestovesky yes,remaining 3 w...</td>\n",
       "    </tr>\n",
       "  </tbody>\n",
       "</table>\n",
       "<p>560175 rows × 2 columns</p>\n",
       "</div>"
      ],
      "text/plain": [
       "            id                                               text\n",
       "0            0  so cut... missed out on all the TCE EXTREME ME...\n",
       "1            1     Thank you very much Wasin  this is awesome lol\n",
       "2            2  Squeezing in some internet time before Dustin ...\n",
       "3            3  @fanoou; Oh i do have moral but i'm gonna be b...\n",
       "4            4  @NSuissa   I just bought Sammy some joint/hip ...\n",
       "...        ...                                                ...\n",
       "560170  560170  @meganintime So is mine and I've only got abou...\n",
       "560171  560171  @FairyForest Thanks cutie ) Wishing u a wonder...\n",
       "560172  560172  ok know i just got home my family just drop me...\n",
       "560173  560173  long run status: complete. Now time for church...\n",
       "560174  560174  @textualoffender Doestovesky yes,remaining 3 w...\n",
       "\n",
       "[560175 rows x 2 columns]"
      ]
     },
     "execution_count": 7,
     "metadata": {},
     "output_type": "execute_result"
    }
   ],
   "source": [
    "test_data"
   ]
  },
  {
   "cell_type": "code",
   "execution_count": 8,
   "id": "1a28d148",
   "metadata": {},
   "outputs": [
    {
     "data": {
      "text/plain": [
       "0         so cut... missed out on all the TCE EXTREME ME...\n",
       "1            Thank you very much Wasin  this is awesome lol\n",
       "2         Squeezing in some internet time before Dustin ...\n",
       "3         @fanoou; Oh i do have moral but i'm gonna be b...\n",
       "4         @NSuissa   I just bought Sammy some joint/hip ...\n",
       "                                ...                        \n",
       "560170    @meganintime So is mine and I've only got abou...\n",
       "560171    @FairyForest Thanks cutie ) Wishing u a wonder...\n",
       "560172    ok know i just got home my family just drop me...\n",
       "560173    long run status: complete. Now time for church...\n",
       "560174    @textualoffender Doestovesky yes,remaining 3 w...\n",
       "Name: text, Length: 560175, dtype: object"
      ]
     },
     "execution_count": 8,
     "metadata": {},
     "output_type": "execute_result"
    }
   ],
   "source": [
    "test_data['text']"
   ]
  },
  {
   "cell_type": "code",
   "execution_count": 9,
   "id": "e165619d",
   "metadata": {},
   "outputs": [
    {
     "data": {
      "text/html": [
       "<div>\n",
       "<style scoped>\n",
       "    .dataframe tbody tr th:only-of-type {\n",
       "        vertical-align: middle;\n",
       "    }\n",
       "\n",
       "    .dataframe tbody tr th {\n",
       "        vertical-align: top;\n",
       "    }\n",
       "\n",
       "    .dataframe thead th {\n",
       "        text-align: right;\n",
       "    }\n",
       "</style>\n",
       "<table border=\"1\" class=\"dataframe\">\n",
       "  <thead>\n",
       "    <tr style=\"text-align: right;\">\n",
       "      <th></th>\n",
       "      <th>target</th>\n",
       "    </tr>\n",
       "  </thead>\n",
       "  <tbody>\n",
       "    <tr>\n",
       "      <th>0</th>\n",
       "      <td>2</td>\n",
       "    </tr>\n",
       "    <tr>\n",
       "      <th>1</th>\n",
       "      <td>0</td>\n",
       "    </tr>\n",
       "    <tr>\n",
       "      <th>2</th>\n",
       "      <td>2</td>\n",
       "    </tr>\n",
       "    <tr>\n",
       "      <th>3</th>\n",
       "      <td>2</td>\n",
       "    </tr>\n",
       "    <tr>\n",
       "      <th>4</th>\n",
       "      <td>0</td>\n",
       "    </tr>\n",
       "    <tr>\n",
       "      <th>...</th>\n",
       "      <td>...</td>\n",
       "    </tr>\n",
       "    <tr>\n",
       "      <th>1040318</th>\n",
       "      <td>2</td>\n",
       "    </tr>\n",
       "    <tr>\n",
       "      <th>1040319</th>\n",
       "      <td>0</td>\n",
       "    </tr>\n",
       "    <tr>\n",
       "      <th>1040320</th>\n",
       "      <td>0</td>\n",
       "    </tr>\n",
       "    <tr>\n",
       "      <th>1040321</th>\n",
       "      <td>2</td>\n",
       "    </tr>\n",
       "    <tr>\n",
       "      <th>1040322</th>\n",
       "      <td>0</td>\n",
       "    </tr>\n",
       "  </tbody>\n",
       "</table>\n",
       "<p>1040323 rows × 1 columns</p>\n",
       "</div>"
      ],
      "text/plain": [
       "         target\n",
       "0             2\n",
       "1             0\n",
       "2             2\n",
       "3             2\n",
       "4             0\n",
       "...         ...\n",
       "1040318       2\n",
       "1040319       0\n",
       "1040320       0\n",
       "1040321       2\n",
       "1040322       0\n",
       "\n",
       "[1040323 rows x 1 columns]"
      ]
     },
     "execution_count": 9,
     "metadata": {},
     "output_type": "execute_result"
    }
   ],
   "source": [
    "full_train_label = train_results['target'].replace(['negative' , 'neutral', 'positive'] , [0,1,2])\n",
    "train_target = pd.DataFrame(full_train_label)\n",
    "train_target"
   ]
  },
  {
   "cell_type": "code",
   "execution_count": 10,
   "id": "eaca144f",
   "metadata": {},
   "outputs": [
    {
     "data": {
      "text/plain": [
       "2    520436\n",
       "0    519803\n",
       "1        84\n",
       "Name: target, dtype: int64"
      ]
     },
     "execution_count": 10,
     "metadata": {},
     "output_type": "execute_result"
    }
   ],
   "source": [
    "full_train_label.value_counts()"
   ]
  },
  {
   "cell_type": "code",
   "execution_count": 11,
   "id": "f41823c8",
   "metadata": {},
   "outputs": [
    {
     "data": {
      "text/plain": [
       "positive    520436\n",
       "negative    519803\n",
       "neutral         84\n",
       "Name: target, dtype: int64"
      ]
     },
     "execution_count": 11,
     "metadata": {},
     "output_type": "execute_result"
    }
   ],
   "source": [
    "train_results['target'].value_counts()"
   ]
  },
  {
   "cell_type": "code",
   "execution_count": 12,
   "id": "42b39dd8",
   "metadata": {},
   "outputs": [],
   "source": [
    "#convert to lowercase, strip and remove punctuations\n",
    "def preprocess(text):\n",
    "    text = text.lower() \n",
    "    text=  text.strip()  \n",
    "    text=  re.compile('<.*?>').sub('', text) \n",
    "    text = re.compile('[%s]' % re.escape(string.punctuation)).sub(' ', text)  \n",
    "    text = re.sub('\\s+', ' ', text)  \n",
    "    text = re.sub(r'\\[[0-9]*\\]',' ',text) \n",
    "    text= re.sub(r'[^\\w\\s]', '', str(text).lower().strip())\n",
    "    text = re.sub(r'\\d',' ',text) \n",
    "    text = re.sub(r'\\s+',' ',text) \n",
    "    text = re.sub(r'https?://\\S+|www\\.\\S+', '', text) # Removes url\n",
    "    text = re.compile(r'<[^>]+>').sub('', text) #Removes HTML tags:\n",
    "    text = re.sub(r\"\\s+[a-zA-Z]\\s+\", ' ', text) # Single character removal\n",
    "    text = re.sub(r'\\s+', ' ', text) # Remove multiple spaces\n",
    "    return text\n",
    "\n",
    "# STOPWORD REMOVAL\n",
    "def stopword(string):\n",
    "    a= [i for i in string.split() if i not in stopwords.words('english')]\n",
    "    return ' '.join(a)\n",
    "\n",
    "#LEMMATIZATION\n",
    "# Initialize the lemmatizer\n",
    "wl = WordNetLemmatizer()\n",
    " \n",
    "# This is a helper function to map NTLK position tags\n",
    "def get_wordnet_pos(tag):\n",
    "    if tag.startswith('J'):\n",
    "        return wordnet.ADJ\n",
    "    elif tag.startswith('V'):\n",
    "        return wordnet.VERB\n",
    "    elif tag.startswith('N'):\n",
    "        return wordnet.NOUN\n",
    "    elif tag.startswith('R'):\n",
    "        return wordnet.ADV\n",
    "    else:\n",
    "        return wordnet.NOUN\n",
    "    \n",
    "# Tokenize the sentence\n",
    "def lemmatizer(string):\n",
    "    word_pos_tags = nltk.pos_tag(word_tokenize(string)) # Get position tags\n",
    "    a=[wl.lemmatize(tag[0], get_wordnet_pos(tag[1])) for idx, tag in enumerate(word_pos_tags)] # Map the position tag and lemmatize the word/token\n",
    "    return \" \".join(a)\n",
    "\n",
    "def finalpreprocess(string):\n",
    "    #return lemmatizer(stopword(preprocess(string)))\n",
    "    return lemmatizer(preprocess(string))"
   ]
  },
  {
   "cell_type": "code",
   "execution_count": 13,
   "id": "87975895",
   "metadata": {},
   "outputs": [
    {
     "data": {
      "text/html": [
       "<div>\n",
       "<style scoped>\n",
       "    .dataframe tbody tr th:only-of-type {\n",
       "        vertical-align: middle;\n",
       "    }\n",
       "\n",
       "    .dataframe tbody tr th {\n",
       "        vertical-align: top;\n",
       "    }\n",
       "\n",
       "    .dataframe thead th {\n",
       "        text-align: right;\n",
       "    }\n",
       "</style>\n",
       "<table border=\"1\" class=\"dataframe\">\n",
       "  <thead>\n",
       "    <tr style=\"text-align: right;\">\n",
       "      <th></th>\n",
       "      <th>id</th>\n",
       "      <th>text</th>\n",
       "      <th>clean_text</th>\n",
       "    </tr>\n",
       "  </thead>\n",
       "  <tbody>\n",
       "    <tr>\n",
       "      <th>0</th>\n",
       "      <td>0</td>\n",
       "      <td>Anyway Im getting of for a while</td>\n",
       "      <td>anyway im getting of for while</td>\n",
       "    </tr>\n",
       "    <tr>\n",
       "      <th>1</th>\n",
       "      <td>1</td>\n",
       "      <td>My red, Apache isn't feelin too well this morn...</td>\n",
       "      <td>my red apache isn feelin too well this morning...</td>\n",
       "    </tr>\n",
       "    <tr>\n",
       "      <th>2</th>\n",
       "      <td>2</td>\n",
       "      <td>@danyelljoy you should be  its great. friday w...</td>\n",
       "      <td>danyelljoy you should be its great friday will...</td>\n",
       "    </tr>\n",
       "    <tr>\n",
       "      <th>3</th>\n",
       "      <td>3</td>\n",
       "      <td>its 11:30pm and i dont wanna sleep; so i debat...</td>\n",
       "      <td>its pm and dont wanna sleep so debated with my...</td>\n",
       "    </tr>\n",
       "    <tr>\n",
       "      <th>4</th>\n",
       "      <td>4</td>\n",
       "      <td>Why does twitter eat my DM's?  Not happy</td>\n",
       "      <td>why does twitter eat my dm not happy</td>\n",
       "    </tr>\n",
       "    <tr>\n",
       "      <th>...</th>\n",
       "      <td>...</td>\n",
       "      <td>...</td>\n",
       "      <td>...</td>\n",
       "    </tr>\n",
       "    <tr>\n",
       "      <th>1040318</th>\n",
       "      <td>1040318</td>\n",
       "      <td>getting ready 2 watch mental</td>\n",
       "      <td>getting ready watch mental</td>\n",
       "    </tr>\n",
       "    <tr>\n",
       "      <th>1040319</th>\n",
       "      <td>1040319</td>\n",
       "      <td>Wristcutters and Half Nelson are on Sundance F...</td>\n",
       "      <td>wristcutters and half nelson are on sundance f...</td>\n",
       "    </tr>\n",
       "    <tr>\n",
       "      <th>1040320</th>\n",
       "      <td>1040320</td>\n",
       "      <td>@t_isfortammy Going out in Northbridge makes m...</td>\n",
       "      <td>t isfortammy going out in northbridge makes me...</td>\n",
       "    </tr>\n",
       "    <tr>\n",
       "      <th>1040321</th>\n",
       "      <td>1040321</td>\n",
       "      <td>@iModel_ lol.... Gorgeous...lol! U look sooo m...</td>\n",
       "      <td>imodel lol gorgeous lol look sooo much like th...</td>\n",
       "    </tr>\n",
       "    <tr>\n",
       "      <th>1040322</th>\n",
       "      <td>1040322</td>\n",
       "      <td>@iamjonathancook why?</td>\n",
       "      <td>iamjonathancook why</td>\n",
       "    </tr>\n",
       "  </tbody>\n",
       "</table>\n",
       "<p>1040323 rows × 3 columns</p>\n",
       "</div>"
      ],
      "text/plain": [
       "              id                                               text  \\\n",
       "0              0                  Anyway Im getting of for a while    \n",
       "1              1  My red, Apache isn't feelin too well this morn...   \n",
       "2              2  @danyelljoy you should be  its great. friday w...   \n",
       "3              3  its 11:30pm and i dont wanna sleep; so i debat...   \n",
       "4              4          Why does twitter eat my DM's?  Not happy    \n",
       "...          ...                                                ...   \n",
       "1040318  1040318                      getting ready 2 watch mental    \n",
       "1040319  1040319  Wristcutters and Half Nelson are on Sundance F...   \n",
       "1040320  1040320  @t_isfortammy Going out in Northbridge makes m...   \n",
       "1040321  1040321  @iModel_ lol.... Gorgeous...lol! U look sooo m...   \n",
       "1040322  1040322                             @iamjonathancook why?    \n",
       "\n",
       "                                                clean_text  \n",
       "0                           anyway im getting of for while  \n",
       "1        my red apache isn feelin too well this morning...  \n",
       "2        danyelljoy you should be its great friday will...  \n",
       "3        its pm and dont wanna sleep so debated with my...  \n",
       "4                     why does twitter eat my dm not happy  \n",
       "...                                                    ...  \n",
       "1040318                         getting ready watch mental  \n",
       "1040319  wristcutters and half nelson are on sundance f...  \n",
       "1040320  t isfortammy going out in northbridge makes me...  \n",
       "1040321  imodel lol gorgeous lol look sooo much like th...  \n",
       "1040322                                iamjonathancook why  \n",
       "\n",
       "[1040323 rows x 3 columns]"
      ]
     },
     "execution_count": 13,
     "metadata": {},
     "output_type": "execute_result"
    }
   ],
   "source": [
    "train_data['clean_text']=train_data['text'].map(lambda s:preprocess(s)) \n",
    "train_data"
   ]
  },
  {
   "cell_type": "code",
   "execution_count": 14,
   "id": "33adcc08",
   "metadata": {},
   "outputs": [
    {
     "data": {
      "text/html": [
       "<div>\n",
       "<style scoped>\n",
       "    .dataframe tbody tr th:only-of-type {\n",
       "        vertical-align: middle;\n",
       "    }\n",
       "\n",
       "    .dataframe tbody tr th {\n",
       "        vertical-align: top;\n",
       "    }\n",
       "\n",
       "    .dataframe thead th {\n",
       "        text-align: right;\n",
       "    }\n",
       "</style>\n",
       "<table border=\"1\" class=\"dataframe\">\n",
       "  <thead>\n",
       "    <tr style=\"text-align: right;\">\n",
       "      <th></th>\n",
       "      <th>clean_text</th>\n",
       "    </tr>\n",
       "  </thead>\n",
       "  <tbody>\n",
       "    <tr>\n",
       "      <th>0</th>\n",
       "      <td>anyway im getting of for while</td>\n",
       "    </tr>\n",
       "    <tr>\n",
       "      <th>1</th>\n",
       "      <td>my red apache isn feelin too well this morning...</td>\n",
       "    </tr>\n",
       "    <tr>\n",
       "      <th>2</th>\n",
       "      <td>danyelljoy you should be its great friday will...</td>\n",
       "    </tr>\n",
       "    <tr>\n",
       "      <th>3</th>\n",
       "      <td>its pm and dont wanna sleep so debated with my...</td>\n",
       "    </tr>\n",
       "    <tr>\n",
       "      <th>4</th>\n",
       "      <td>why does twitter eat my dm not happy</td>\n",
       "    </tr>\n",
       "    <tr>\n",
       "      <th>...</th>\n",
       "      <td>...</td>\n",
       "    </tr>\n",
       "    <tr>\n",
       "      <th>1040318</th>\n",
       "      <td>getting ready watch mental</td>\n",
       "    </tr>\n",
       "    <tr>\n",
       "      <th>1040319</th>\n",
       "      <td>wristcutters and half nelson are on sundance f...</td>\n",
       "    </tr>\n",
       "    <tr>\n",
       "      <th>1040320</th>\n",
       "      <td>t isfortammy going out in northbridge makes me...</td>\n",
       "    </tr>\n",
       "    <tr>\n",
       "      <th>1040321</th>\n",
       "      <td>imodel lol gorgeous lol look sooo much like th...</td>\n",
       "    </tr>\n",
       "    <tr>\n",
       "      <th>1040322</th>\n",
       "      <td>iamjonathancook why</td>\n",
       "    </tr>\n",
       "  </tbody>\n",
       "</table>\n",
       "<p>1040323 rows × 1 columns</p>\n",
       "</div>"
      ],
      "text/plain": [
       "                                                clean_text\n",
       "0                           anyway im getting of for while\n",
       "1        my red apache isn feelin too well this morning...\n",
       "2        danyelljoy you should be its great friday will...\n",
       "3        its pm and dont wanna sleep so debated with my...\n",
       "4                     why does twitter eat my dm not happy\n",
       "...                                                    ...\n",
       "1040318                         getting ready watch mental\n",
       "1040319  wristcutters and half nelson are on sundance f...\n",
       "1040320  t isfortammy going out in northbridge makes me...\n",
       "1040321  imodel lol gorgeous lol look sooo much like th...\n",
       "1040322                                iamjonathancook why\n",
       "\n",
       "[1040323 rows x 1 columns]"
      ]
     },
     "execution_count": 14,
     "metadata": {},
     "output_type": "execute_result"
    }
   ],
   "source": [
    "df_clean = pd.DataFrame(train_data['clean_text'])\n",
    "df_clean"
   ]
  },
  {
   "cell_type": "code",
   "execution_count": 15,
   "id": "967612f6",
   "metadata": {},
   "outputs": [],
   "source": [
    "df_clean = pd.concat([df_clean, train_target], axis=1)\n",
    "\n",
    "df_clean.to_csv('train_cleaned_text_target_final_rani.csv')"
   ]
  },
  {
   "cell_type": "code",
   "execution_count": 16,
   "id": "e947083b",
   "metadata": {},
   "outputs": [
    {
     "data": {
      "text/html": [
       "<div>\n",
       "<style scoped>\n",
       "    .dataframe tbody tr th:only-of-type {\n",
       "        vertical-align: middle;\n",
       "    }\n",
       "\n",
       "    .dataframe tbody tr th {\n",
       "        vertical-align: top;\n",
       "    }\n",
       "\n",
       "    .dataframe thead th {\n",
       "        text-align: right;\n",
       "    }\n",
       "</style>\n",
       "<table border=\"1\" class=\"dataframe\">\n",
       "  <thead>\n",
       "    <tr style=\"text-align: right;\">\n",
       "      <th></th>\n",
       "      <th>clean_text</th>\n",
       "      <th>target</th>\n",
       "    </tr>\n",
       "  </thead>\n",
       "  <tbody>\n",
       "    <tr>\n",
       "      <th>0</th>\n",
       "      <td>anyway im getting of for while</td>\n",
       "      <td>2</td>\n",
       "    </tr>\n",
       "    <tr>\n",
       "      <th>1</th>\n",
       "      <td>my red apache isn feelin too well this morning...</td>\n",
       "      <td>0</td>\n",
       "    </tr>\n",
       "    <tr>\n",
       "      <th>2</th>\n",
       "      <td>danyelljoy you should be its great friday will...</td>\n",
       "      <td>2</td>\n",
       "    </tr>\n",
       "    <tr>\n",
       "      <th>3</th>\n",
       "      <td>its pm and dont wanna sleep so debated with my...</td>\n",
       "      <td>2</td>\n",
       "    </tr>\n",
       "    <tr>\n",
       "      <th>4</th>\n",
       "      <td>why does twitter eat my dm not happy</td>\n",
       "      <td>0</td>\n",
       "    </tr>\n",
       "    <tr>\n",
       "      <th>...</th>\n",
       "      <td>...</td>\n",
       "      <td>...</td>\n",
       "    </tr>\n",
       "    <tr>\n",
       "      <th>1040318</th>\n",
       "      <td>getting ready watch mental</td>\n",
       "      <td>2</td>\n",
       "    </tr>\n",
       "    <tr>\n",
       "      <th>1040319</th>\n",
       "      <td>wristcutters and half nelson are on sundance f...</td>\n",
       "      <td>0</td>\n",
       "    </tr>\n",
       "    <tr>\n",
       "      <th>1040320</th>\n",
       "      <td>t isfortammy going out in northbridge makes me...</td>\n",
       "      <td>0</td>\n",
       "    </tr>\n",
       "    <tr>\n",
       "      <th>1040321</th>\n",
       "      <td>imodel lol gorgeous lol look sooo much like th...</td>\n",
       "      <td>2</td>\n",
       "    </tr>\n",
       "    <tr>\n",
       "      <th>1040322</th>\n",
       "      <td>iamjonathancook why</td>\n",
       "      <td>0</td>\n",
       "    </tr>\n",
       "  </tbody>\n",
       "</table>\n",
       "<p>1040323 rows × 2 columns</p>\n",
       "</div>"
      ],
      "text/plain": [
       "                                                clean_text  target\n",
       "0                           anyway im getting of for while       2\n",
       "1        my red apache isn feelin too well this morning...       0\n",
       "2        danyelljoy you should be its great friday will...       2\n",
       "3        its pm and dont wanna sleep so debated with my...       2\n",
       "4                     why does twitter eat my dm not happy       0\n",
       "...                                                    ...     ...\n",
       "1040318                         getting ready watch mental       2\n",
       "1040319  wristcutters and half nelson are on sundance f...       0\n",
       "1040320  t isfortammy going out in northbridge makes me...       0\n",
       "1040321  imodel lol gorgeous lol look sooo much like th...       2\n",
       "1040322                                iamjonathancook why       0\n",
       "\n",
       "[1040323 rows x 2 columns]"
      ]
     },
     "execution_count": 16,
     "metadata": {},
     "output_type": "execute_result"
    }
   ],
   "source": [
    "df_clean"
   ]
  },
  {
   "cell_type": "code",
   "execution_count": 17,
   "id": "04f7ccac",
   "metadata": {},
   "outputs": [],
   "source": [
    "#SPLITTING THE TRAINING DATASET INTO TRAIN AND TEST\n",
    "X_train, X_test, y_train, y_test = train_test_split(df_clean[\"clean_text\"],df_clean[\"target\"],test_size=0.2,shuffle=True, random_state=8)"
   ]
  },
  {
   "cell_type": "code",
   "execution_count": 18,
   "id": "2869aba4",
   "metadata": {},
   "outputs": [
    {
     "data": {
      "text/plain": [
       "198662    jlneveloff want to go too quinto too bad we re...\n",
       "198588    what do you guys think of this laptop http is ...\n",
       "497233    thecoveted boo their name seemed so familiar w...\n",
       "850715    staying in because a dicky tummy and feel bit ...\n",
       "592604    listing to my pod and slept my neck wrong so i...\n",
       "                                ...                        \n",
       "231557      mrcakey hope you have beer to keep you cool too\n",
       "780649    envisioning photo campaign ugly organic food t...\n",
       "149489    chillin in la still dont know when m goin home...\n",
       "550228              tonesa we re tryina find somethin to do\n",
       "594371                              watta so busy right now\n",
       "Name: clean_text, Length: 832258, dtype: object"
      ]
     },
     "execution_count": 18,
     "metadata": {},
     "output_type": "execute_result"
    }
   ],
   "source": [
    "X_train"
   ]
  },
  {
   "cell_type": "code",
   "execution_count": 19,
   "id": "b4dc6647",
   "metadata": {},
   "outputs": [
    {
     "name": "stdout",
     "output_type": "stream",
     "text": [
      "Naive Bayes\n"
     ]
    },
    {
     "name": "stderr",
     "output_type": "stream",
     "text": [
      "C:\\Users\\rajes\\anaconda3\\lib\\site-packages\\sklearn\\metrics\\_classification.py:1318: UndefinedMetricWarning: Precision and F-score are ill-defined and being set to 0.0 in labels with no predicted samples. Use `zero_division` parameter to control this behavior.\n",
      "  _warn_prf(average, modifier, msg_start, len(result))\n",
      "C:\\Users\\rajes\\anaconda3\\lib\\site-packages\\sklearn\\metrics\\_classification.py:1318: UndefinedMetricWarning: Precision and F-score are ill-defined and being set to 0.0 in labels with no predicted samples. Use `zero_division` parameter to control this behavior.\n",
      "  _warn_prf(average, modifier, msg_start, len(result))\n",
      "C:\\Users\\rajes\\anaconda3\\lib\\site-packages\\sklearn\\metrics\\_classification.py:1318: UndefinedMetricWarning: Precision and F-score are ill-defined and being set to 0.0 in labels with no predicted samples. Use `zero_division` parameter to control this behavior.\n",
      "  _warn_prf(average, modifier, msg_start, len(result))\n"
     ]
    },
    {
     "name": "stdout",
     "output_type": "stream",
     "text": [
      "              precision    recall  f1-score   support\n",
      "\n",
      "           0       0.79      0.81      0.80    103647\n",
      "           1       0.00      0.00      0.00        11\n",
      "           2       0.80      0.79      0.80    104407\n",
      "\n",
      "    accuracy                           0.80    208065\n",
      "   macro avg       0.53      0.53      0.53    208065\n",
      "weighted avg       0.80      0.80      0.80    208065\n",
      "\n",
      "Confusion Matrix: [[83511     0 20136]\n",
      " [    1     0    10]\n",
      " [21882     0 82525]]\n",
      "accuracy: 0.7980006248047485\n"
     ]
    },
    {
     "data": {
      "text/plain": [
       "<sklearn.metrics._plot.confusion_matrix.ConfusionMatrixDisplay at 0x27344e7c9d0>"
      ]
     },
     "execution_count": 19,
     "metadata": {},
     "output_type": "execute_result"
    },
    {
     "data": {
      "image/png": "[encoded data removed]",
      "text/plain": [
       "<Figure size 432x288 with 2 Axes>"
      ]
     },
     "metadata": {
      "needs_background": "light"
     },
     "output_type": "display_data"
    }
   ],
   "source": [
    "# vectorization using Bag-of-Words (with Tf-Idf ) and Word2Vec\n",
    "#Tf-Idf\n",
    "\n",
    "from sklearn.feature_extraction.text import TfidfVectorizer\n",
    "from sklearn.feature_extraction.text import CountVectorizer\n",
    "\n",
    "tfidf_vectorizer = TfidfVectorizer(max_features=150000, ngram_range=(1,3))\n",
    "X_train_vectors_tfidf = tfidf_vectorizer.fit_transform(X_train) \n",
    "X_test_vectors_tfidf = tfidf_vectorizer.transform(X_test)\n",
    "\n",
    "#FITTING THE CLASSIFICATION MODEL using Naive Bayes(tf-idf)\n",
    "\n",
    "print(\"Naive Bayes\")\n",
    "\n",
    "nb_tfidf = MultinomialNB()\n",
    "nb_tfidf.fit(X_train_vectors_tfidf, y_train)  \n",
    "\n",
    "#Predict y value for test dataset\n",
    "y_predict = nb_tfidf.predict(X_test_vectors_tfidf)\n",
    "y_prob = nb_tfidf.predict_proba(X_test_vectors_tfidf)[:,1]\n",
    "\n",
    "cf_matrix = confusion_matrix(y_test, y_predict)\n",
    "print(classification_report(y_test,y_predict))\n",
    "print('Confusion Matrix:',cf_matrix)\n",
    "\n",
    "print(\"accuracy:\", metrics.accuracy_score(y_test, y_predict))\n",
    "\n",
    "\n",
    "disp = metrics.ConfusionMatrixDisplay(confusion_matrix = cf_matrix)\n",
    "disp.plot()\n"
   ]
  },
  {
   "cell_type": "code",
   "execution_count": 20,
   "id": "885c42fe",
   "metadata": {},
   "outputs": [
    {
     "name": "stdout",
     "output_type": "stream",
     "text": [
      "Logistic Regression \n",
      "              precision    recall  f1-score   support\n",
      "\n",
      "           0       0.82      0.81      0.82    103647\n",
      "           1       0.00      0.00      0.00        11\n",
      "           2       0.82      0.83      0.82    104407\n",
      "\n",
      "    accuracy                           0.82    208065\n",
      "   macro avg       0.55      0.55      0.55    208065\n",
      "weighted avg       0.82      0.82      0.82    208065\n",
      "\n",
      "Confusion Matrix: [[84069     0 19578]\n",
      " [    1     0    10]\n",
      " [17880     0 86527]]\n",
      "accuracy: 0.8199168529065436\n"
     ]
    },
    {
     "name": "stderr",
     "output_type": "stream",
     "text": [
      "C:\\Users\\rajes\\anaconda3\\lib\\site-packages\\sklearn\\metrics\\_classification.py:1318: UndefinedMetricWarning: Precision and F-score are ill-defined and being set to 0.0 in labels with no predicted samples. Use `zero_division` parameter to control this behavior.\n",
      "  _warn_prf(average, modifier, msg_start, len(result))\n",
      "C:\\Users\\rajes\\anaconda3\\lib\\site-packages\\sklearn\\metrics\\_classification.py:1318: UndefinedMetricWarning: Precision and F-score are ill-defined and being set to 0.0 in labels with no predicted samples. Use `zero_division` parameter to control this behavior.\n",
      "  _warn_prf(average, modifier, msg_start, len(result))\n",
      "C:\\Users\\rajes\\anaconda3\\lib\\site-packages\\sklearn\\metrics\\_classification.py:1318: UndefinedMetricWarning: Precision and F-score are ill-defined and being set to 0.0 in labels with no predicted samples. Use `zero_division` parameter to control this behavior.\n",
      "  _warn_prf(average, modifier, msg_start, len(result))\n"
     ]
    },
    {
     "data": {
      "text/plain": [
       "<sklearn.metrics._plot.confusion_matrix.ConfusionMatrixDisplay at 0x2735620e940>"
      ]
     },
     "execution_count": 20,
     "metadata": {},
     "output_type": "execute_result"
    },
    {
     "data": {
      "image/png": "[encoded data removed]",
      "text/plain": [
       "<Figure size 432x288 with 2 Axes>"
      ]
     },
     "metadata": {
      "needs_background": "light"
     },
     "output_type": "display_data"
    }
   ],
   "source": [
    "from sklearn.linear_model import LogisticRegression\n",
    "\n",
    "print(\"Logistic Regression \")\n",
    "\n",
    "# Logistic Regression tf-idf)\n",
    "lr  = LogisticRegression(C=1.0, max_iter=5000)\n",
    "lr.fit(X_train_vectors_tfidf, y_train)  \n",
    "#Predict y value for test dataset\n",
    "y_predict = lr.predict(X_test_vectors_tfidf)\n",
    "y_prob = lr.predict_proba(X_test_vectors_tfidf)[:,1]\n",
    "\n",
    "cf_matrix = confusion_matrix(y_test, y_predict)\n",
    "print(classification_report(y_test,y_predict))\n",
    "print('Confusion Matrix:',cf_matrix)\n",
    "\n",
    "print(\"accuracy:\", metrics.accuracy_score(y_test, y_predict))\n",
    "\n",
    "\n",
    "disp = metrics.ConfusionMatrixDisplay(confusion_matrix = cf_matrix)\n",
    "disp.plot()\n"
   ]
  },
  {
   "cell_type": "code",
   "execution_count": 21,
   "id": "191284d4",
   "metadata": {},
   "outputs": [
    {
     "name": "stdout",
     "output_type": "stream",
     "text": [
      "Naive Bayes\n",
      "              precision    recall  f1-score   support\n",
      "\n",
      "           0       0.79      0.81      0.80    103647\n",
      "           1       0.00      0.00      0.00        11\n",
      "           2       0.81      0.79      0.80    104407\n",
      "\n",
      "    accuracy                           0.80    208065\n",
      "   macro avg       0.53      0.53      0.53    208065\n",
      "weighted avg       0.80      0.80      0.80    208065\n",
      "\n",
      "Confusion Matrix: [[83722     0 19925]\n",
      " [    1     0    10]\n",
      " [21767     0 82640]]\n",
      "accuracy: 0.7995674428664119\n"
     ]
    },
    {
     "name": "stderr",
     "output_type": "stream",
     "text": [
      "C:\\Users\\rajes\\anaconda3\\lib\\site-packages\\sklearn\\metrics\\_classification.py:1318: UndefinedMetricWarning: Precision and F-score are ill-defined and being set to 0.0 in labels with no predicted samples. Use `zero_division` parameter to control this behavior.\n",
      "  _warn_prf(average, modifier, msg_start, len(result))\n",
      "C:\\Users\\rajes\\anaconda3\\lib\\site-packages\\sklearn\\metrics\\_classification.py:1318: UndefinedMetricWarning: Precision and F-score are ill-defined and being set to 0.0 in labels with no predicted samples. Use `zero_division` parameter to control this behavior.\n",
      "  _warn_prf(average, modifier, msg_start, len(result))\n",
      "C:\\Users\\rajes\\anaconda3\\lib\\site-packages\\sklearn\\metrics\\_classification.py:1318: UndefinedMetricWarning: Precision and F-score are ill-defined and being set to 0.0 in labels with no predicted samples. Use `zero_division` parameter to control this behavior.\n",
      "  _warn_prf(average, modifier, msg_start, len(result))\n"
     ]
    },
    {
     "data": {
      "text/plain": [
       "<sklearn.metrics._plot.confusion_matrix.ConfusionMatrixDisplay at 0x2730771ba00>"
      ]
     },
     "execution_count": 21,
     "metadata": {},
     "output_type": "execute_result"
    },
    {
     "data": {
      "image/png": "[encoded data removed]",
      "text/plain": [
       "<Figure size 432x288 with 2 Axes>"
      ]
     },
     "metadata": {
      "needs_background": "light"
     },
     "output_type": "display_data"
    }
   ],
   "source": [
    "# vectorization using Bag-of-Words (with Tf-Idf ) \n",
    "\n",
    "tfidf_vectorizer = TfidfVectorizer(max_features=200000, ngram_range=(1,3))\n",
    "X_train_vectors_tfidf = tfidf_vectorizer.fit_transform(X_train) \n",
    "X_test_vectors_tfidf = tfidf_vectorizer.transform(X_test)\n",
    "\n",
    "#FITTING THE CLASSIFICATION MODEL using Naive Bayes(tf-idf)\n",
    "\n",
    "print(\"Naive Bayes\")\n",
    "\n",
    "nb_tfidf = MultinomialNB()\n",
    "nb_tfidf.fit(X_train_vectors_tfidf, y_train)  \n",
    "#Predict y value for test dataset\n",
    "y_predict = nb_tfidf.predict(X_test_vectors_tfidf)\n",
    "y_prob = nb_tfidf.predict_proba(X_test_vectors_tfidf)[:,1]\n",
    "\n",
    "cf_matrix = confusion_matrix(y_test, y_predict)\n",
    "print(classification_report(y_test,y_predict))\n",
    "print('Confusion Matrix:',cf_matrix)\n",
    "\n",
    "print(\"accuracy:\", metrics.accuracy_score(y_test, y_predict))\n",
    "\n",
    "\n",
    "disp = metrics.ConfusionMatrixDisplay(confusion_matrix = cf_matrix)\n",
    "disp.plot()\n"
   ]
  },
  {
   "cell_type": "code",
   "execution_count": 22,
   "id": "cf382667",
   "metadata": {},
   "outputs": [
    {
     "name": "stdout",
     "output_type": "stream",
     "text": [
      "Logistic Regression \n",
      "              precision    recall  f1-score   support\n",
      "\n",
      "           0       0.83      0.81      0.82    103647\n",
      "           1       0.00      0.00      0.00        11\n",
      "           2       0.82      0.83      0.82    104407\n",
      "\n",
      "    accuracy                           0.82    208065\n",
      "   macro avg       0.55      0.55      0.55    208065\n",
      "weighted avg       0.82      0.82      0.82    208065\n",
      "\n",
      "Confusion Matrix: [[84125     0 19522]\n",
      " [    1     0    10]\n",
      " [17843     0 86564]]\n",
      "accuracy: 0.8203638286112513\n"
     ]
    },
    {
     "name": "stderr",
     "output_type": "stream",
     "text": [
      "C:\\Users\\rajes\\anaconda3\\lib\\site-packages\\sklearn\\metrics\\_classification.py:1318: UndefinedMetricWarning: Precision and F-score are ill-defined and being set to 0.0 in labels with no predicted samples. Use `zero_division` parameter to control this behavior.\n",
      "  _warn_prf(average, modifier, msg_start, len(result))\n",
      "C:\\Users\\rajes\\anaconda3\\lib\\site-packages\\sklearn\\metrics\\_classification.py:1318: UndefinedMetricWarning: Precision and F-score are ill-defined and being set to 0.0 in labels with no predicted samples. Use `zero_division` parameter to control this behavior.\n",
      "  _warn_prf(average, modifier, msg_start, len(result))\n",
      "C:\\Users\\rajes\\anaconda3\\lib\\site-packages\\sklearn\\metrics\\_classification.py:1318: UndefinedMetricWarning: Precision and F-score are ill-defined and being set to 0.0 in labels with no predicted samples. Use `zero_division` parameter to control this behavior.\n",
      "  _warn_prf(average, modifier, msg_start, len(result))\n"
     ]
    },
    {
     "data": {
      "text/plain": [
       "<sklearn.metrics._plot.confusion_matrix.ConfusionMatrixDisplay at 0x27366249040>"
      ]
     },
     "execution_count": 22,
     "metadata": {},
     "output_type": "execute_result"
    },
    {
     "data": {
      "image/png": "[encoded data removed]",
      "text/plain": [
       "<Figure size 432x288 with 2 Axes>"
      ]
     },
     "metadata": {
      "needs_background": "light"
     },
     "output_type": "display_data"
    }
   ],
   "source": [
    "from sklearn.linear_model import LogisticRegression\n",
    "\n",
    "# Logistic Regression tf-idf)\n",
    "print(\"Logistic Regression \")\n",
    "\n",
    "lr  = LogisticRegression(C=1.0, max_iter=5000)\n",
    "lr.fit(X_train_vectors_tfidf, y_train)  \n",
    "#Predict y value for test dataset\n",
    "y_predict = lr.predict(X_test_vectors_tfidf)\n",
    "y_prob = lr.predict_proba(X_test_vectors_tfidf)[:,1]\n",
    "\n",
    "cf_matrix = confusion_matrix(y_test, y_predict)\n",
    "print(classification_report(y_test,y_predict))\n",
    "print('Confusion Matrix:',cf_matrix)\n",
    "\n",
    "print(\"accuracy:\", metrics.accuracy_score(y_test, y_predict))\n",
    "\n",
    "\n",
    "disp = metrics.ConfusionMatrixDisplay(confusion_matrix = cf_matrix)\n",
    "disp.plot()\n"
   ]
  },
  {
   "cell_type": "code",
   "execution_count": 23,
   "id": "99cd2687",
   "metadata": {},
   "outputs": [
    {
     "name": "stdout",
     "output_type": "stream",
     "text": [
      "Naive Bayes\n",
      "              precision    recall  f1-score   support\n",
      "\n",
      "           0       0.79      0.81      0.80    103647\n",
      "           1       0.00      0.00      0.00        11\n",
      "           2       0.81      0.79      0.80    104407\n",
      "\n",
      "    accuracy                           0.80    208065\n",
      "   macro avg       0.53      0.53      0.53    208065\n",
      "weighted avg       0.80      0.80      0.80    208065\n",
      "\n",
      "Confusion Matrix: [[83961     0 19686]\n",
      " [    1     0    10]\n",
      " [22200     0 82207]]\n",
      "accuracy: 0.798635041934011\n"
     ]
    },
    {
     "name": "stderr",
     "output_type": "stream",
     "text": [
      "C:\\Users\\rajes\\anaconda3\\lib\\site-packages\\sklearn\\metrics\\_classification.py:1318: UndefinedMetricWarning: Precision and F-score are ill-defined and being set to 0.0 in labels with no predicted samples. Use `zero_division` parameter to control this behavior.\n",
      "  _warn_prf(average, modifier, msg_start, len(result))\n",
      "C:\\Users\\rajes\\anaconda3\\lib\\site-packages\\sklearn\\metrics\\_classification.py:1318: UndefinedMetricWarning: Precision and F-score are ill-defined and being set to 0.0 in labels with no predicted samples. Use `zero_division` parameter to control this behavior.\n",
      "  _warn_prf(average, modifier, msg_start, len(result))\n",
      "C:\\Users\\rajes\\anaconda3\\lib\\site-packages\\sklearn\\metrics\\_classification.py:1318: UndefinedMetricWarning: Precision and F-score are ill-defined and being set to 0.0 in labels with no predicted samples. Use `zero_division` parameter to control this behavior.\n",
      "  _warn_prf(average, modifier, msg_start, len(result))\n"
     ]
    },
    {
     "data": {
      "text/plain": [
       "<sklearn.metrics._plot.confusion_matrix.ConfusionMatrixDisplay at 0x27349dc0e20>"
      ]
     },
     "execution_count": 23,
     "metadata": {},
     "output_type": "execute_result"
    },
    {
     "data": {
      "image/png": "[encoded data removed]",
      "text/plain": [
       "<Figure size 432x288 with 2 Axes>"
      ]
     },
     "metadata": {
      "needs_background": "light"
     },
     "output_type": "display_data"
    }
   ],
   "source": [
    "# vectorization using Bag-of-Words (with Tf-Idf ) \n",
    "\n",
    "\n",
    "tfidf_vectorizer = TfidfVectorizer(max_features=150000, ngram_range=(1,2))\n",
    "X_train_vectors_tfidf = tfidf_vectorizer.fit_transform(X_train) \n",
    "X_test_vectors_tfidf = tfidf_vectorizer.transform(X_test)\n",
    "\n",
    "#FITTING THE CLASSIFICATION MODEL using Naive Bayes(tf-idf)\n",
    "\n",
    "print(\"Naive Bayes\")\n",
    "\n",
    "nb_tfidf = MultinomialNB()\n",
    "nb_tfidf.fit(X_train_vectors_tfidf, y_train)  \n",
    "#Predict y value for test dataset\n",
    "y_predict = nb_tfidf.predict(X_test_vectors_tfidf)\n",
    "y_prob = nb_tfidf.predict_proba(X_test_vectors_tfidf)[:,1]\n",
    "\n",
    "cf_matrix = confusion_matrix(y_test, y_predict)\n",
    "print(classification_report(y_test,y_predict))\n",
    "print('Confusion Matrix:',cf_matrix)\n",
    "\n",
    "print(\"accuracy:\", metrics.accuracy_score(y_test, y_predict))\n",
    "\n",
    "\n",
    "disp = metrics.ConfusionMatrixDisplay(confusion_matrix = cf_matrix)\n",
    "disp.plot()\n",
    "\n"
   ]
  },
  {
   "cell_type": "code",
   "execution_count": 24,
   "id": "fb44b6be",
   "metadata": {},
   "outputs": [
    {
     "name": "stdout",
     "output_type": "stream",
     "text": [
      "Logistic Regression \n",
      "              precision    recall  f1-score   support\n",
      "\n",
      "           0       0.82      0.81      0.82    103647\n",
      "           1       0.00      0.00      0.00        11\n",
      "           2       0.81      0.83      0.82    104407\n",
      "\n",
      "    accuracy                           0.82    208065\n",
      "   macro avg       0.55      0.55      0.55    208065\n",
      "weighted avg       0.82      0.82      0.82    208065\n",
      "\n",
      "Confusion Matrix: [[83999     0 19648]\n",
      " [    1     0    10]\n",
      " [17914     0 86493]]\n",
      "accuracy: 0.8194170091077307\n"
     ]
    },
    {
     "name": "stderr",
     "output_type": "stream",
     "text": [
      "C:\\Users\\rajes\\anaconda3\\lib\\site-packages\\sklearn\\metrics\\_classification.py:1318: UndefinedMetricWarning: Precision and F-score are ill-defined and being set to 0.0 in labels with no predicted samples. Use `zero_division` parameter to control this behavior.\n",
      "  _warn_prf(average, modifier, msg_start, len(result))\n",
      "C:\\Users\\rajes\\anaconda3\\lib\\site-packages\\sklearn\\metrics\\_classification.py:1318: UndefinedMetricWarning: Precision and F-score are ill-defined and being set to 0.0 in labels with no predicted samples. Use `zero_division` parameter to control this behavior.\n",
      "  _warn_prf(average, modifier, msg_start, len(result))\n",
      "C:\\Users\\rajes\\anaconda3\\lib\\site-packages\\sklearn\\metrics\\_classification.py:1318: UndefinedMetricWarning: Precision and F-score are ill-defined and being set to 0.0 in labels with no predicted samples. Use `zero_division` parameter to control this behavior.\n",
      "  _warn_prf(average, modifier, msg_start, len(result))\n"
     ]
    },
    {
     "data": {
      "text/plain": [
       "<sklearn.metrics._plot.confusion_matrix.ConfusionMatrixDisplay at 0x2730eb74a00>"
      ]
     },
     "execution_count": 24,
     "metadata": {},
     "output_type": "execute_result"
    },
    {
     "data": {
      "image/png": "[encoded data removed]",
      "text/plain": [
       "<Figure size 432x288 with 2 Axes>"
      ]
     },
     "metadata": {
      "needs_background": "light"
     },
     "output_type": "display_data"
    }
   ],
   "source": [
    "from sklearn.linear_model import LogisticRegression\n",
    "\n",
    "# Logistic Regression tf-idf)\n",
    "print(\"Logistic Regression \")\n",
    "\n",
    "lr  = LogisticRegression(C=1.0, max_iter=5000)\n",
    "lr.fit(X_train_vectors_tfidf, y_train)  \n",
    "#Predict y value for test dataset\n",
    "y_predict = lr.predict(X_test_vectors_tfidf)\n",
    "y_prob = lr.predict_proba(X_test_vectors_tfidf)[:,1]\n",
    "\n",
    "cf_matrix = confusion_matrix(y_test, y_predict)\n",
    "print(classification_report(y_test,y_predict))\n",
    "print('Confusion Matrix:',cf_matrix)\n",
    "\n",
    "print(\"accuracy:\", metrics.accuracy_score(y_test, y_predict))\n",
    "\n",
    "\n",
    "disp = metrics.ConfusionMatrixDisplay(confusion_matrix = cf_matrix)\n",
    "disp.plot()\n"
   ]
  },
  {
   "cell_type": "code",
   "execution_count": 25,
   "id": "881b3b1a",
   "metadata": {},
   "outputs": [
    {
     "name": "stdout",
     "output_type": "stream",
     "text": [
      "Naive Bayes\n",
      "              precision    recall  f1-score   support\n",
      "\n",
      "           0       0.79      0.81      0.80    103647\n",
      "           1       0.00      0.00      0.00        11\n",
      "           2       0.81      0.79      0.80    104407\n",
      "\n",
      "    accuracy                           0.80    208065\n",
      "   macro avg       0.53      0.53      0.53    208065\n",
      "weighted avg       0.80      0.80      0.80    208065\n",
      "\n",
      "Confusion Matrix: [[84156     0 19491]\n",
      " [    1     0    10]\n",
      " [22162     0 82245]]\n",
      "accuracy: 0.7997548842909667\n"
     ]
    },
    {
     "name": "stderr",
     "output_type": "stream",
     "text": [
      "C:\\Users\\rajes\\anaconda3\\lib\\site-packages\\sklearn\\metrics\\_classification.py:1318: UndefinedMetricWarning: Precision and F-score are ill-defined and being set to 0.0 in labels with no predicted samples. Use `zero_division` parameter to control this behavior.\n",
      "  _warn_prf(average, modifier, msg_start, len(result))\n",
      "C:\\Users\\rajes\\anaconda3\\lib\\site-packages\\sklearn\\metrics\\_classification.py:1318: UndefinedMetricWarning: Precision and F-score are ill-defined and being set to 0.0 in labels with no predicted samples. Use `zero_division` parameter to control this behavior.\n",
      "  _warn_prf(average, modifier, msg_start, len(result))\n",
      "C:\\Users\\rajes\\anaconda3\\lib\\site-packages\\sklearn\\metrics\\_classification.py:1318: UndefinedMetricWarning: Precision and F-score are ill-defined and being set to 0.0 in labels with no predicted samples. Use `zero_division` parameter to control this behavior.\n",
      "  _warn_prf(average, modifier, msg_start, len(result))\n"
     ]
    },
    {
     "data": {
      "text/plain": [
       "<sklearn.metrics._plot.confusion_matrix.ConfusionMatrixDisplay at 0x2734963dfd0>"
      ]
     },
     "execution_count": 25,
     "metadata": {},
     "output_type": "execute_result"
    },
    {
     "data": {
      "image/png": "[encoded data removed]",
      "text/plain": [
       "<Figure size 432x288 with 2 Axes>"
      ]
     },
     "metadata": {
      "needs_background": "light"
     },
     "output_type": "display_data"
    }
   ],
   "source": [
    "# vectorization using Bag-of-Words (with Tf-Idf ) \n",
    "\n",
    "\n",
    "tfidf_vectorizer = TfidfVectorizer(max_features=200000, ngram_range=(1,2))\n",
    "X_train_vectors_tfidf = tfidf_vectorizer.fit_transform(X_train) \n",
    "X_test_vectors_tfidf = tfidf_vectorizer.transform(X_test)\n",
    "\n",
    "#FITTING THE CLASSIFICATION MODEL using Naive Bayes(tf-idf)\n",
    "\n",
    "print(\"Naive Bayes\")\n",
    "\n",
    "nb_tfidf = MultinomialNB()\n",
    "nb_tfidf.fit(X_train_vectors_tfidf, y_train)  \n",
    "#Predict y value for test dataset\n",
    "y_predict = nb_tfidf.predict(X_test_vectors_tfidf)\n",
    "y_prob = nb_tfidf.predict_proba(X_test_vectors_tfidf)[:,1]\n",
    "\n",
    "cf_matrix = confusion_matrix(y_test, y_predict)\n",
    "print(classification_report(y_test,y_predict))\n",
    "print('Confusion Matrix:',cf_matrix)\n",
    "\n",
    "print(\"accuracy:\", metrics.accuracy_score(y_test, y_predict))\n",
    "\n",
    "\n",
    "disp = metrics.ConfusionMatrixDisplay(confusion_matrix = cf_matrix)\n",
    "disp.plot()\n"
   ]
  },
  {
   "cell_type": "code",
   "execution_count": 26,
   "id": "c81296a5",
   "metadata": {},
   "outputs": [
    {
     "name": "stdout",
     "output_type": "stream",
     "text": [
      "Logistic Regression \n",
      "              precision    recall  f1-score   support\n",
      "\n",
      "           0       0.82      0.81      0.82    103647\n",
      "           1       0.00      0.00      0.00        11\n",
      "           2       0.82      0.83      0.82    104407\n",
      "\n",
      "    accuracy                           0.82    208065\n",
      "   macro avg       0.55      0.55      0.55    208065\n",
      "weighted avg       0.82      0.82      0.82    208065\n",
      "\n",
      "Confusion Matrix: [[84045     0 19602]\n",
      " [    1     0    10]\n",
      " [17845     0 86562]]\n",
      "accuracy: 0.8199697210006488\n"
     ]
    },
    {
     "name": "stderr",
     "output_type": "stream",
     "text": [
      "C:\\Users\\rajes\\anaconda3\\lib\\site-packages\\sklearn\\metrics\\_classification.py:1318: UndefinedMetricWarning: Precision and F-score are ill-defined and being set to 0.0 in labels with no predicted samples. Use `zero_division` parameter to control this behavior.\n",
      "  _warn_prf(average, modifier, msg_start, len(result))\n",
      "C:\\Users\\rajes\\anaconda3\\lib\\site-packages\\sklearn\\metrics\\_classification.py:1318: UndefinedMetricWarning: Precision and F-score are ill-defined and being set to 0.0 in labels with no predicted samples. Use `zero_division` parameter to control this behavior.\n",
      "  _warn_prf(average, modifier, msg_start, len(result))\n",
      "C:\\Users\\rajes\\anaconda3\\lib\\site-packages\\sklearn\\metrics\\_classification.py:1318: UndefinedMetricWarning: Precision and F-score are ill-defined and being set to 0.0 in labels with no predicted samples. Use `zero_division` parameter to control this behavior.\n",
      "  _warn_prf(average, modifier, msg_start, len(result))\n"
     ]
    },
    {
     "data": {
      "text/plain": [
       "<sklearn.metrics._plot.confusion_matrix.ConfusionMatrixDisplay at 0x27359097700>"
      ]
     },
     "execution_count": 26,
     "metadata": {},
     "output_type": "execute_result"
    },
    {
     "data": {
      "image/png": "[encoded data removed]",
      "text/plain": [
       "<Figure size 432x288 with 2 Axes>"
      ]
     },
     "metadata": {
      "needs_background": "light"
     },
     "output_type": "display_data"
    }
   ],
   "source": [
    "from sklearn.linear_model import LogisticRegression\n",
    "\n",
    "# Logistic Regression tf-idf)\n",
    "\n",
    "print(\"Logistic Regression \")\n",
    "\n",
    "lr  = LogisticRegression(C=1.0, max_iter=5000)\n",
    "lr.fit(X_train_vectors_tfidf, y_train)  \n",
    "\n",
    "#Predict y value for test dataset\n",
    "y_predict = lr.predict(X_test_vectors_tfidf)\n",
    "y_prob = lr.predict_proba(X_test_vectors_tfidf)[:,1]\n",
    "\n",
    "cf_matrix = confusion_matrix(y_test, y_predict)\n",
    "print(classification_report(y_test,y_predict))\n",
    "print('Confusion Matrix:',cf_matrix)\n",
    "\n",
    "print(\"accuracy:\", metrics.accuracy_score(y_test, y_predict))\n",
    "\n",
    "\n",
    "disp = metrics.ConfusionMatrixDisplay(confusion_matrix = cf_matrix)\n",
    "disp.plot()\n"
   ]
  },
  {
   "cell_type": "code",
   "execution_count": 27,
   "id": "74931bd8",
   "metadata": {},
   "outputs": [
    {
     "name": "stdout",
     "output_type": "stream",
     "text": [
      "Naive Bayes\n",
      "              precision    recall  f1-score   support\n",
      "\n",
      "           0       0.79      0.81      0.80    103647\n",
      "           1       0.00      0.00      0.00        11\n",
      "           2       0.81      0.79      0.80    104407\n",
      "\n",
      "    accuracy                           0.80    208065\n",
      "   macro avg       0.53      0.53      0.53    208065\n",
      "weighted avg       0.80      0.80      0.80    208065\n",
      "\n",
      "Confusion Matrix: [[83943     0 19704]\n",
      " [    1     0    10]\n",
      " [21734     0 82673]]\n",
      "accuracy: 0.8007882152212049\n"
     ]
    },
    {
     "name": "stderr",
     "output_type": "stream",
     "text": [
      "C:\\Users\\rajes\\anaconda3\\lib\\site-packages\\sklearn\\metrics\\_classification.py:1318: UndefinedMetricWarning: Precision and F-score are ill-defined and being set to 0.0 in labels with no predicted samples. Use `zero_division` parameter to control this behavior.\n",
      "  _warn_prf(average, modifier, msg_start, len(result))\n",
      "C:\\Users\\rajes\\anaconda3\\lib\\site-packages\\sklearn\\metrics\\_classification.py:1318: UndefinedMetricWarning: Precision and F-score are ill-defined and being set to 0.0 in labels with no predicted samples. Use `zero_division` parameter to control this behavior.\n",
      "  _warn_prf(average, modifier, msg_start, len(result))\n",
      "C:\\Users\\rajes\\anaconda3\\lib\\site-packages\\sklearn\\metrics\\_classification.py:1318: UndefinedMetricWarning: Precision and F-score are ill-defined and being set to 0.0 in labels with no predicted samples. Use `zero_division` parameter to control this behavior.\n",
      "  _warn_prf(average, modifier, msg_start, len(result))\n"
     ]
    },
    {
     "data": {
      "text/plain": [
       "<sklearn.metrics._plot.confusion_matrix.ConfusionMatrixDisplay at 0x27363daa880>"
      ]
     },
     "execution_count": 27,
     "metadata": {},
     "output_type": "execute_result"
    },
    {
     "data": {
      "image/png": "[encoded data removed]",
      "text/plain": [
       "<Figure size 432x288 with 2 Axes>"
      ]
     },
     "metadata": {
      "needs_background": "light"
     },
     "output_type": "display_data"
    }
   ],
   "source": [
    "# vectorization using Bag-of-Words (with Tf-Idf ) \n",
    "\n",
    "\n",
    "tfidf_vectorizer = TfidfVectorizer(max_features=300000, ngram_range=(1,3))\n",
    "X_train_vectors_tfidf = tfidf_vectorizer.fit_transform(X_train) \n",
    "X_test_vectors_tfidf = tfidf_vectorizer.transform(X_test)\n",
    "\n",
    "#FITTING THE CLASSIFICATION MODEL using Naive Bayes(tf-idf)\n",
    "\n",
    "print(\"Naive Bayes\")\n",
    "\n",
    "nb_tfidf = MultinomialNB()\n",
    "nb_tfidf.fit(X_train_vectors_tfidf, y_train)  \n",
    "#Predict y value for test dataset\n",
    "y_predict = nb_tfidf.predict(X_test_vectors_tfidf)\n",
    "y_prob = nb_tfidf.predict_proba(X_test_vectors_tfidf)[:,1]\n",
    "\n",
    "cf_matrix = confusion_matrix(y_test, y_predict)\n",
    "print(classification_report(y_test,y_predict))\n",
    "print('Confusion Matrix:',cf_matrix)\n",
    "\n",
    "print(\"accuracy:\", metrics.accuracy_score(y_test, y_predict))\n",
    "\n",
    "\n",
    "disp = metrics.ConfusionMatrixDisplay(confusion_matrix = cf_matrix)\n",
    "disp.plot()"
   ]
  },
  {
   "cell_type": "code",
   "execution_count": 28,
   "id": "fd2df2c7",
   "metadata": {},
   "outputs": [
    {
     "name": "stdout",
     "output_type": "stream",
     "text": [
      "Logistic Regression \n",
      "              precision    recall  f1-score   support\n",
      "\n",
      "           0       0.83      0.81      0.82    103647\n",
      "           1       0.00      0.00      0.00        11\n",
      "           2       0.82      0.83      0.82    104407\n",
      "\n",
      "    accuracy                           0.82    208065\n",
      "   macro avg       0.55      0.55      0.55    208065\n",
      "weighted avg       0.82      0.82      0.82    208065\n",
      "\n",
      "Confusion Matrix: [[84241     0 19406]\n",
      " [    1     0    10]\n",
      " [17799     0 86608]]\n",
      "accuracy: 0.8211328190709634\n"
     ]
    },
    {
     "name": "stderr",
     "output_type": "stream",
     "text": [
      "C:\\Users\\rajes\\anaconda3\\lib\\site-packages\\sklearn\\metrics\\_classification.py:1318: UndefinedMetricWarning: Precision and F-score are ill-defined and being set to 0.0 in labels with no predicted samples. Use `zero_division` parameter to control this behavior.\n",
      "  _warn_prf(average, modifier, msg_start, len(result))\n",
      "C:\\Users\\rajes\\anaconda3\\lib\\site-packages\\sklearn\\metrics\\_classification.py:1318: UndefinedMetricWarning: Precision and F-score are ill-defined and being set to 0.0 in labels with no predicted samples. Use `zero_division` parameter to control this behavior.\n",
      "  _warn_prf(average, modifier, msg_start, len(result))\n",
      "C:\\Users\\rajes\\anaconda3\\lib\\site-packages\\sklearn\\metrics\\_classification.py:1318: UndefinedMetricWarning: Precision and F-score are ill-defined and being set to 0.0 in labels with no predicted samples. Use `zero_division` parameter to control this behavior.\n",
      "  _warn_prf(average, modifier, msg_start, len(result))\n"
     ]
    },
    {
     "data": {
      "text/plain": [
       "<sklearn.metrics._plot.confusion_matrix.ConfusionMatrixDisplay at 0x2732b26a220>"
      ]
     },
     "execution_count": 28,
     "metadata": {},
     "output_type": "execute_result"
    },
    {
     "data": {
      "image/png": "[encoded data removed]",
      "text/plain": [
       "<Figure size 432x288 with 2 Axes>"
      ]
     },
     "metadata": {
      "needs_background": "light"
     },
     "output_type": "display_data"
    }
   ],
   "source": [
    "from sklearn.linear_model import LogisticRegression\n",
    "\n",
    "# Logistic Regression tf-idf)\n",
    "\n",
    "print(\"Logistic Regression \")\n",
    "\n",
    "lr  = LogisticRegression(C=1.0, max_iter=5000)\n",
    "lr.fit(X_train_vectors_tfidf, y_train)  \n",
    "\n",
    "#Predict y value for test dataset\n",
    "y_predict = lr.predict(X_test_vectors_tfidf)\n",
    "y_prob = lr.predict_proba(X_test_vectors_tfidf)[:,1]\n",
    "\n",
    "cf_matrix = confusion_matrix(y_test, y_predict)\n",
    "print(classification_report(y_test,y_predict))\n",
    "print('Confusion Matrix:',cf_matrix)\n",
    "\n",
    "print(\"accuracy:\", metrics.accuracy_score(y_test, y_predict))\n",
    "\n",
    "\n",
    "disp = metrics.ConfusionMatrixDisplay(confusion_matrix = cf_matrix)\n",
    "disp.plot()\n"
   ]
  },
  {
   "cell_type": "code",
   "execution_count": 29,
   "id": "99a2622b",
   "metadata": {},
   "outputs": [
    {
     "name": "stdout",
     "output_type": "stream",
     "text": [
      "Naive Bayes\n",
      "              precision    recall  f1-score   support\n",
      "\n",
      "           0       0.79      0.81      0.80    103647\n",
      "           1       0.00      0.00      0.00        11\n",
      "           2       0.81      0.79      0.80    104407\n",
      "\n",
      "    accuracy                           0.80    208065\n",
      "   macro avg       0.53      0.53      0.53    208065\n",
      "weighted avg       0.80      0.80      0.80    208065\n",
      "\n",
      "Confusion Matrix: [[84044     0 19603]\n",
      " [    1     0    10]\n",
      " [21703     0 82704]]\n",
      "accuracy: 0.8014226323504674\n"
     ]
    },
    {
     "name": "stderr",
     "output_type": "stream",
     "text": [
      "C:\\Users\\rajes\\anaconda3\\lib\\site-packages\\sklearn\\metrics\\_classification.py:1318: UndefinedMetricWarning: Precision and F-score are ill-defined and being set to 0.0 in labels with no predicted samples. Use `zero_division` parameter to control this behavior.\n",
      "  _warn_prf(average, modifier, msg_start, len(result))\n",
      "C:\\Users\\rajes\\anaconda3\\lib\\site-packages\\sklearn\\metrics\\_classification.py:1318: UndefinedMetricWarning: Precision and F-score are ill-defined and being set to 0.0 in labels with no predicted samples. Use `zero_division` parameter to control this behavior.\n",
      "  _warn_prf(average, modifier, msg_start, len(result))\n",
      "C:\\Users\\rajes\\anaconda3\\lib\\site-packages\\sklearn\\metrics\\_classification.py:1318: UndefinedMetricWarning: Precision and F-score are ill-defined and being set to 0.0 in labels with no predicted samples. Use `zero_division` parameter to control this behavior.\n",
      "  _warn_prf(average, modifier, msg_start, len(result))\n"
     ]
    },
    {
     "data": {
      "text/plain": [
       "<sklearn.metrics._plot.confusion_matrix.ConfusionMatrixDisplay at 0x27310940ac0>"
      ]
     },
     "execution_count": 29,
     "metadata": {},
     "output_type": "execute_result"
    },
    {
     "data": {
      "image/png": "[encoded data removed]",
      "text/plain": [
       "<Figure size 432x288 with 2 Axes>"
      ]
     },
     "metadata": {
      "needs_background": "light"
     },
     "output_type": "display_data"
    }
   ],
   "source": [
    "# vectorization using Bag-of-Words (with Tf-Idf ) \n",
    "\n",
    "\n",
    "tfidf_vectorizer = TfidfVectorizer(max_features=400000, ngram_range=(1,3))\n",
    "X_train_vectors_tfidf = tfidf_vectorizer.fit_transform(X_train) \n",
    "X_test_vectors_tfidf = tfidf_vectorizer.transform(X_test)\n",
    "\n",
    "#FITTING THE CLASSIFICATION MODEL using Naive Bayes(tf-idf)\n",
    "\n",
    "print(\"Naive Bayes\")\n",
    "\n",
    "nb_tfidf = MultinomialNB()\n",
    "nb_tfidf.fit(X_train_vectors_tfidf, y_train)  \n",
    "#Predict y value for test dataset\n",
    "y_predict = nb_tfidf.predict(X_test_vectors_tfidf)\n",
    "y_prob = nb_tfidf.predict_proba(X_test_vectors_tfidf)[:,1]\n",
    "\n",
    "cf_matrix = confusion_matrix(y_test, y_predict)\n",
    "print(classification_report(y_test,y_predict))\n",
    "print('Confusion Matrix:',cf_matrix)\n",
    "\n",
    "print(\"accuracy:\", metrics.accuracy_score(y_test, y_predict))\n",
    "\n",
    "\n",
    "disp = metrics.ConfusionMatrixDisplay(confusion_matrix = cf_matrix)\n",
    "disp.plot()"
   ]
  },
  {
   "cell_type": "code",
   "execution_count": 30,
   "id": "7ae0ff4a",
   "metadata": {},
   "outputs": [
    {
     "name": "stdout",
     "output_type": "stream",
     "text": [
      "Logistic Regression \n",
      "              precision    recall  f1-score   support\n",
      "\n",
      "           0       0.83      0.81      0.82    103647\n",
      "           1       0.00      0.00      0.00        11\n",
      "           2       0.82      0.83      0.82    104407\n",
      "\n",
      "    accuracy                           0.82    208065\n",
      "   macro avg       0.55      0.55      0.55    208065\n",
      "weighted avg       0.82      0.82      0.82    208065\n",
      "\n",
      "Confusion Matrix: [[84308     0 19339]\n",
      " [    1     0    10]\n",
      " [17799     0 86608]]\n",
      "accuracy: 0.8214548338259678\n"
     ]
    },
    {
     "name": "stderr",
     "output_type": "stream",
     "text": [
      "C:\\Users\\rajes\\anaconda3\\lib\\site-packages\\sklearn\\metrics\\_classification.py:1318: UndefinedMetricWarning: Precision and F-score are ill-defined and being set to 0.0 in labels with no predicted samples. Use `zero_division` parameter to control this behavior.\n",
      "  _warn_prf(average, modifier, msg_start, len(result))\n",
      "C:\\Users\\rajes\\anaconda3\\lib\\site-packages\\sklearn\\metrics\\_classification.py:1318: UndefinedMetricWarning: Precision and F-score are ill-defined and being set to 0.0 in labels with no predicted samples. Use `zero_division` parameter to control this behavior.\n",
      "  _warn_prf(average, modifier, msg_start, len(result))\n",
      "C:\\Users\\rajes\\anaconda3\\lib\\site-packages\\sklearn\\metrics\\_classification.py:1318: UndefinedMetricWarning: Precision and F-score are ill-defined and being set to 0.0 in labels with no predicted samples. Use `zero_division` parameter to control this behavior.\n",
      "  _warn_prf(average, modifier, msg_start, len(result))\n"
     ]
    },
    {
     "data": {
      "text/plain": [
       "<sklearn.metrics._plot.confusion_matrix.ConfusionMatrixDisplay at 0x273521a9310>"
      ]
     },
     "execution_count": 30,
     "metadata": {},
     "output_type": "execute_result"
    },
    {
     "data": {
      "image/png": "[encoded data removed]",
      "text/plain": [
       "<Figure size 432x288 with 2 Axes>"
      ]
     },
     "metadata": {
      "needs_background": "light"
     },
     "output_type": "display_data"
    }
   ],
   "source": [
    "from sklearn.linear_model import LogisticRegression\n",
    "\n",
    "# Logistic Regression tf-idf)\n",
    "\n",
    "print(\"Logistic Regression \")\n",
    "\n",
    "lr  = LogisticRegression(C=1.0, max_iter=5000)\n",
    "lr.fit(X_train_vectors_tfidf, y_train)  \n",
    "\n",
    "#Predict y value for test dataset\n",
    "y_predict = lr.predict(X_test_vectors_tfidf)\n",
    "y_prob = lr.predict_proba(X_test_vectors_tfidf)[:,1]\n",
    "\n",
    "cf_matrix = confusion_matrix(y_test, y_predict)\n",
    "print(classification_report(y_test,y_predict))\n",
    "print('Confusion Matrix:',cf_matrix)\n",
    "\n",
    "print(\"accuracy:\", metrics.accuracy_score(y_test, y_predict))\n",
    "\n",
    "\n",
    "disp = metrics.ConfusionMatrixDisplay(confusion_matrix = cf_matrix)\n",
    "disp.plot()\n"
   ]
  },
  {
   "cell_type": "markdown",
   "id": "3475d875",
   "metadata": {},
   "source": [
    "\n",
    "## Hyperparamter Search C values"
   ]
  },
  {
   "cell_type": "code",
   "execution_count": 31,
   "id": "d1dafdac",
   "metadata": {},
   "outputs": [],
   "source": [
    "\n",
    "tfidf_vectorizer = TfidfVectorizer(max_features=200000, ngram_range=(1,3))\n",
    "X_train_vectors_tfidf = tfidf_vectorizer.fit_transform(X_train) \n",
    "X_test_vectors_tfidf = tfidf_vectorizer.transform(X_test)"
   ]
  },
  {
   "cell_type": "code",
   "execution_count": 32,
   "id": "4a0500e2",
   "metadata": {},
   "outputs": [
    {
     "name": "stdout",
     "output_type": "stream",
     "text": [
      "Logistic Regression \n",
      "              precision    recall  f1-score   support\n",
      "\n",
      "           0       0.73      0.77      0.75    103647\n",
      "           1       0.00      0.00      0.00        11\n",
      "           2       0.76      0.72      0.74    104407\n",
      "\n",
      "    accuracy                           0.74    208065\n",
      "   macro avg       0.50      0.50      0.50    208065\n",
      "weighted avg       0.74      0.74      0.74    208065\n",
      "\n",
      "Confusion Matrix: [[79294     0 24353]\n",
      " [    1     0    10]\n",
      " [29053     0 75354]]\n",
      "accuracy: 0.7432677288347391\n"
     ]
    },
    {
     "name": "stderr",
     "output_type": "stream",
     "text": [
      "C:\\Users\\rajes\\anaconda3\\lib\\site-packages\\sklearn\\metrics\\_classification.py:1318: UndefinedMetricWarning: Precision and F-score are ill-defined and being set to 0.0 in labels with no predicted samples. Use `zero_division` parameter to control this behavior.\n",
      "  _warn_prf(average, modifier, msg_start, len(result))\n",
      "C:\\Users\\rajes\\anaconda3\\lib\\site-packages\\sklearn\\metrics\\_classification.py:1318: UndefinedMetricWarning: Precision and F-score are ill-defined and being set to 0.0 in labels with no predicted samples. Use `zero_division` parameter to control this behavior.\n",
      "  _warn_prf(average, modifier, msg_start, len(result))\n",
      "C:\\Users\\rajes\\anaconda3\\lib\\site-packages\\sklearn\\metrics\\_classification.py:1318: UndefinedMetricWarning: Precision and F-score are ill-defined and being set to 0.0 in labels with no predicted samples. Use `zero_division` parameter to control this behavior.\n",
      "  _warn_prf(average, modifier, msg_start, len(result))\n"
     ]
    },
    {
     "data": {
      "text/plain": [
       "<sklearn.metrics._plot.confusion_matrix.ConfusionMatrixDisplay at 0x2735644d400>"
      ]
     },
     "execution_count": 32,
     "metadata": {},
     "output_type": "execute_result"
    },
    {
     "data": {
      "image/png": "[encoded data removed]",
      "text/plain": [
       "<Figure size 432x288 with 2 Axes>"
      ]
     },
     "metadata": {
      "needs_background": "light"
     },
     "output_type": "display_data"
    }
   ],
   "source": [
    "from sklearn.linear_model import LogisticRegression\n",
    "\n",
    "# Logistic Regression tf-idf)\n",
    "\n",
    "print(\"Logistic Regression \")\n",
    "\n",
    "lr  = LogisticRegression(C=0.001, max_iter=5000)\n",
    "lr.fit(X_train_vectors_tfidf, y_train)  \n",
    "\n",
    "#Predict y value for test dataset\n",
    "y_predict = lr.predict(X_test_vectors_tfidf)\n",
    "y_prob = lr.predict_proba(X_test_vectors_tfidf)[:,1]\n",
    "\n",
    "cf_matrix = confusion_matrix(y_test, y_predict)\n",
    "print(classification_report(y_test,y_predict))\n",
    "print('Confusion Matrix:',cf_matrix)\n",
    "\n",
    "print(\"accuracy:\", metrics.accuracy_score(y_test, y_predict))\n",
    "\n",
    "\n",
    "disp = metrics.ConfusionMatrixDisplay(confusion_matrix = cf_matrix)\n",
    "disp.plot()\n"
   ]
  },
  {
   "cell_type": "code",
   "execution_count": 33,
   "id": "350d1764",
   "metadata": {},
   "outputs": [
    {
     "name": "stdout",
     "output_type": "stream",
     "text": [
      "Logistic Regression \n",
      "              precision    recall  f1-score   support\n",
      "\n",
      "           0       0.78      0.78      0.78    103647\n",
      "           1       0.00      0.00      0.00        11\n",
      "           2       0.78      0.78      0.78    104407\n",
      "\n",
      "    accuracy                           0.78    208065\n",
      "   macro avg       0.52      0.52      0.52    208065\n",
      "weighted avg       0.78      0.78      0.78    208065\n",
      "\n",
      "Confusion Matrix: [[80751     0 22896]\n",
      " [    1     0    10]\n",
      " [22835     0 81572]]\n",
      "accuracy: 0.7801552399490543\n"
     ]
    },
    {
     "name": "stderr",
     "output_type": "stream",
     "text": [
      "C:\\Users\\rajes\\anaconda3\\lib\\site-packages\\sklearn\\metrics\\_classification.py:1318: UndefinedMetricWarning: Precision and F-score are ill-defined and being set to 0.0 in labels with no predicted samples. Use `zero_division` parameter to control this behavior.\n",
      "  _warn_prf(average, modifier, msg_start, len(result))\n",
      "C:\\Users\\rajes\\anaconda3\\lib\\site-packages\\sklearn\\metrics\\_classification.py:1318: UndefinedMetricWarning: Precision and F-score are ill-defined and being set to 0.0 in labels with no predicted samples. Use `zero_division` parameter to control this behavior.\n",
      "  _warn_prf(average, modifier, msg_start, len(result))\n",
      "C:\\Users\\rajes\\anaconda3\\lib\\site-packages\\sklearn\\metrics\\_classification.py:1318: UndefinedMetricWarning: Precision and F-score are ill-defined and being set to 0.0 in labels with no predicted samples. Use `zero_division` parameter to control this behavior.\n",
      "  _warn_prf(average, modifier, msg_start, len(result))\n"
     ]
    },
    {
     "data": {
      "text/plain": [
       "<sklearn.metrics._plot.confusion_matrix.ConfusionMatrixDisplay at 0x27352b7cd60>"
      ]
     },
     "execution_count": 33,
     "metadata": {},
     "output_type": "execute_result"
    },
    {
     "data": {
      "image/png": "[encoded data removed]",
      "text/plain": [
       "<Figure size 432x288 with 2 Axes>"
      ]
     },
     "metadata": {
      "needs_background": "light"
     },
     "output_type": "display_data"
    }
   ],
   "source": [
    "from sklearn.linear_model import LogisticRegression\n",
    "\n",
    "# Logistic Regression tf-idf)\n",
    "\n",
    "print(\"Logistic Regression \")\n",
    "\n",
    "lr  = LogisticRegression(C=0.01, max_iter=5000)\n",
    "lr.fit(X_train_vectors_tfidf, y_train)  \n",
    "\n",
    "#Predict y value for test dataset\n",
    "y_predict = lr.predict(X_test_vectors_tfidf)\n",
    "y_prob = lr.predict_proba(X_test_vectors_tfidf)[:,1]\n",
    "\n",
    "cf_matrix = confusion_matrix(y_test, y_predict)\n",
    "print(classification_report(y_test,y_predict))\n",
    "print('Confusion Matrix:',cf_matrix)\n",
    "\n",
    "print(\"accuracy:\", metrics.accuracy_score(y_test, y_predict))\n",
    "\n",
    "\n",
    "disp = metrics.ConfusionMatrixDisplay(confusion_matrix = cf_matrix)\n",
    "disp.plot()\n"
   ]
  },
  {
   "cell_type": "code",
   "execution_count": 34,
   "id": "7f862830",
   "metadata": {},
   "outputs": [
    {
     "name": "stdout",
     "output_type": "stream",
     "text": [
      "Logistic Regression \n"
     ]
    },
    {
     "name": "stderr",
     "output_type": "stream",
     "text": [
      "C:\\Users\\rajes\\anaconda3\\lib\\site-packages\\sklearn\\metrics\\_classification.py:1318: UndefinedMetricWarning: Precision and F-score are ill-defined and being set to 0.0 in labels with no predicted samples. Use `zero_division` parameter to control this behavior.\n",
      "  _warn_prf(average, modifier, msg_start, len(result))\n",
      "C:\\Users\\rajes\\anaconda3\\lib\\site-packages\\sklearn\\metrics\\_classification.py:1318: UndefinedMetricWarning: Precision and F-score are ill-defined and being set to 0.0 in labels with no predicted samples. Use `zero_division` parameter to control this behavior.\n",
      "  _warn_prf(average, modifier, msg_start, len(result))\n",
      "C:\\Users\\rajes\\anaconda3\\lib\\site-packages\\sklearn\\metrics\\_classification.py:1318: UndefinedMetricWarning: Precision and F-score are ill-defined and being set to 0.0 in labels with no predicted samples. Use `zero_division` parameter to control this behavior.\n",
      "  _warn_prf(average, modifier, msg_start, len(result))\n"
     ]
    },
    {
     "name": "stdout",
     "output_type": "stream",
     "text": [
      "              precision    recall  f1-score   support\n",
      "\n",
      "           0       0.81      0.80      0.81    103647\n",
      "           1       0.00      0.00      0.00        11\n",
      "           2       0.81      0.82      0.81    104407\n",
      "\n",
      "    accuracy                           0.81    208065\n",
      "   macro avg       0.54      0.54      0.54    208065\n",
      "weighted avg       0.81      0.81      0.81    208065\n",
      "\n",
      "Confusion Matrix: [[83151     0 20496]\n",
      " [    1     0    10]\n",
      " [18933     0 85474]]\n",
      "accuracy: 0.8104438516809651\n"
     ]
    },
    {
     "data": {
      "text/plain": [
       "<sklearn.metrics._plot.confusion_matrix.ConfusionMatrixDisplay at 0x273518395b0>"
      ]
     },
     "execution_count": 34,
     "metadata": {},
     "output_type": "execute_result"
    },
    {
     "data": {
      "image/png": "[encoded data removed]",
      "text/plain": [
       "<Figure size 432x288 with 2 Axes>"
      ]
     },
     "metadata": {
      "needs_background": "light"
     },
     "output_type": "display_data"
    }
   ],
   "source": [
    "from sklearn.linear_model import LogisticRegression\n",
    "\n",
    "# Logistic Regression tf-idf)\n",
    "\n",
    "print(\"Logistic Regression \")\n",
    "\n",
    "lr  = LogisticRegression(C=0.1, max_iter=5000)\n",
    "lr.fit(X_train_vectors_tfidf, y_train)  \n",
    "\n",
    "#Predict y value for test dataset\n",
    "y_predict = lr.predict(X_test_vectors_tfidf)\n",
    "y_prob = lr.predict_proba(X_test_vectors_tfidf)[:,1]\n",
    "\n",
    "cf_matrix = confusion_matrix(y_test, y_predict)\n",
    "print(classification_report(y_test,y_predict))\n",
    "print('Confusion Matrix:',cf_matrix)\n",
    "\n",
    "print(\"accuracy:\", metrics.accuracy_score(y_test, y_predict))\n",
    "\n",
    "\n",
    "disp = metrics.ConfusionMatrixDisplay(confusion_matrix = cf_matrix)\n",
    "disp.plot()\n"
   ]
  },
  {
   "cell_type": "code",
   "execution_count": 35,
   "id": "ab3de1c4",
   "metadata": {},
   "outputs": [
    {
     "name": "stdout",
     "output_type": "stream",
     "text": [
      "Logistic Regression \n"
     ]
    },
    {
     "name": "stderr",
     "output_type": "stream",
     "text": [
      "C:\\Users\\rajes\\anaconda3\\lib\\site-packages\\sklearn\\metrics\\_classification.py:1318: UndefinedMetricWarning: Precision and F-score are ill-defined and being set to 0.0 in labels with no predicted samples. Use `zero_division` parameter to control this behavior.\n",
      "  _warn_prf(average, modifier, msg_start, len(result))\n",
      "C:\\Users\\rajes\\anaconda3\\lib\\site-packages\\sklearn\\metrics\\_classification.py:1318: UndefinedMetricWarning: Precision and F-score are ill-defined and being set to 0.0 in labels with no predicted samples. Use `zero_division` parameter to control this behavior.\n",
      "  _warn_prf(average, modifier, msg_start, len(result))\n",
      "C:\\Users\\rajes\\anaconda3\\lib\\site-packages\\sklearn\\metrics\\_classification.py:1318: UndefinedMetricWarning: Precision and F-score are ill-defined and being set to 0.0 in labels with no predicted samples. Use `zero_division` parameter to control this behavior.\n",
      "  _warn_prf(average, modifier, msg_start, len(result))\n"
     ]
    },
    {
     "name": "stdout",
     "output_type": "stream",
     "text": [
      "              precision    recall  f1-score   support\n",
      "\n",
      "           0       0.83      0.81      0.82    103647\n",
      "           1       0.00      0.00      0.00        11\n",
      "           2       0.82      0.83      0.82    104407\n",
      "\n",
      "    accuracy                           0.82    208065\n",
      "   macro avg       0.55      0.55      0.55    208065\n",
      "weighted avg       0.82      0.82      0.82    208065\n",
      "\n",
      "Confusion Matrix: [[84125     0 19522]\n",
      " [    1     0    10]\n",
      " [17843     0 86564]]\n",
      "accuracy: 0.8203638286112513\n"
     ]
    },
    {
     "data": {
      "text/plain": [
       "<sklearn.metrics._plot.confusion_matrix.ConfusionMatrixDisplay at 0x27363164af0>"
      ]
     },
     "execution_count": 35,
     "metadata": {},
     "output_type": "execute_result"
    },
    {
     "data": {
      "image/png": "[encoded data removed]",
      "text/plain": [
       "<Figure size 432x288 with 2 Axes>"
      ]
     },
     "metadata": {
      "needs_background": "light"
     },
     "output_type": "display_data"
    }
   ],
   "source": [
    "from sklearn.linear_model import LogisticRegression\n",
    "\n",
    "# Logistic Regression tf-idf)\n",
    "\n",
    "print(\"Logistic Regression \")\n",
    "\n",
    "lr  = LogisticRegression(C=1.0, max_iter=5000)\n",
    "lr.fit(X_train_vectors_tfidf, y_train)  \n",
    "\n",
    "#Predict y value for test dataset\n",
    "y_predict = lr.predict(X_test_vectors_tfidf)\n",
    "y_prob = lr.predict_proba(X_test_vectors_tfidf)[:,1]\n",
    "\n",
    "cf_matrix = confusion_matrix(y_test, y_predict)\n",
    "print(classification_report(y_test,y_predict))\n",
    "print('Confusion Matrix:',cf_matrix)\n",
    "\n",
    "print(\"accuracy:\", metrics.accuracy_score(y_test, y_predict))\n",
    "\n",
    "\n",
    "disp = metrics.ConfusionMatrixDisplay(confusion_matrix = cf_matrix)\n",
    "disp.plot()\n"
   ]
  },
  {
   "cell_type": "code",
   "execution_count": 36,
   "id": "d6c03b35",
   "metadata": {},
   "outputs": [
    {
     "name": "stdout",
     "output_type": "stream",
     "text": [
      "Logistic Regression \n",
      "              precision    recall  f1-score   support\n",
      "\n",
      "           0       0.81      0.80      0.80    103647\n",
      "           1       0.00      0.00      0.00        11\n",
      "           2       0.80      0.81      0.81    104407\n",
      "\n",
      "    accuracy                           0.80    208065\n",
      "   macro avg       0.54      0.54      0.54    208065\n",
      "weighted avg       0.80      0.80      0.80    208065\n",
      "\n",
      "Confusion Matrix: [[82611     0 21036]\n",
      " [    1     0    10]\n",
      " [19667     1 84739]]\n",
      "accuracy: 0.8043159589551342\n"
     ]
    },
    {
     "data": {
      "text/plain": [
       "<sklearn.metrics._plot.confusion_matrix.ConfusionMatrixDisplay at 0x27354d9bac0>"
      ]
     },
     "execution_count": 36,
     "metadata": {},
     "output_type": "execute_result"
    },
    {
     "data": {
      "image/png": "[encoded data removed]",
      "text/plain": [
       "<Figure size 432x288 with 2 Axes>"
      ]
     },
     "metadata": {
      "needs_background": "light"
     },
     "output_type": "display_data"
    }
   ],
   "source": [
    "from sklearn.linear_model import LogisticRegression\n",
    "\n",
    "# Logistic Regression tf-idf)\n",
    "\n",
    "print(\"Logistic Regression \")\n",
    "\n",
    "lr  = LogisticRegression(C=10.0, max_iter=5000)\n",
    "lr.fit(X_train_vectors_tfidf, y_train)  \n",
    "\n",
    "#Predict y value for test dataset\n",
    "y_predict = lr.predict(X_test_vectors_tfidf)\n",
    "y_prob = lr.predict_proba(X_test_vectors_tfidf)[:,1]\n",
    "\n",
    "cf_matrix = confusion_matrix(y_test, y_predict)\n",
    "print(classification_report(y_test,y_predict))\n",
    "print('Confusion Matrix:',cf_matrix)\n",
    "\n",
    "print(\"accuracy:\", metrics.accuracy_score(y_test, y_predict))\n",
    "\n",
    "\n",
    "disp = metrics.ConfusionMatrixDisplay(confusion_matrix = cf_matrix)\n",
    "disp.plot()\n"
   ]
  },
  {
   "cell_type": "code",
   "execution_count": 37,
   "id": "5f86b7d1",
   "metadata": {},
   "outputs": [
    {
     "name": "stdout",
     "output_type": "stream",
     "text": [
      "Logistic Regression \n",
      "              precision    recall  f1-score   support\n",
      "\n",
      "           0       0.78      0.78      0.78    103647\n",
      "           1       0.00      0.00      0.00        11\n",
      "           2       0.78      0.78      0.78    104407\n",
      "\n",
      "    accuracy                           0.78    208065\n",
      "   macro avg       0.52      0.52      0.52    208065\n",
      "weighted avg       0.78      0.78      0.78    208065\n",
      "\n",
      "Confusion Matrix: [[80330     0 23317]\n",
      " [    1     0    10]\n",
      " [22508     1 81898]]\n",
      "accuracy: 0.7796986518636003\n"
     ]
    },
    {
     "data": {
      "text/plain": [
       "<sklearn.metrics._plot.confusion_matrix.ConfusionMatrixDisplay at 0x27305b131f0>"
      ]
     },
     "execution_count": 37,
     "metadata": {},
     "output_type": "execute_result"
    },
    {
     "data": {
      "image/png": "[encoded data removed]",
      "text/plain": [
       "<Figure size 432x288 with 2 Axes>"
      ]
     },
     "metadata": {
      "needs_background": "light"
     },
     "output_type": "display_data"
    }
   ],
   "source": [
    "from sklearn.linear_model import LogisticRegression\n",
    "\n",
    "# Logistic Regression tf-idf)\n",
    "\n",
    "print(\"Logistic Regression \")\n",
    "\n",
    "lr  = LogisticRegression(C=100.0, max_iter=5000)\n",
    "lr.fit(X_train_vectors_tfidf, y_train)  \n",
    "\n",
    "#Predict y value for test dataset\n",
    "y_predict = lr.predict(X_test_vectors_tfidf)\n",
    "y_prob = lr.predict_proba(X_test_vectors_tfidf)[:,1]\n",
    "\n",
    "cf_matrix = confusion_matrix(y_test, y_predict)\n",
    "print(classification_report(y_test,y_predict))\n",
    "print('Confusion Matrix:',cf_matrix)\n",
    "\n",
    "print(\"accuracy:\", metrics.accuracy_score(y_test, y_predict))\n",
    "\n",
    "\n",
    "disp = metrics.ConfusionMatrixDisplay(confusion_matrix = cf_matrix)\n",
    "disp.plot()\n"
   ]
  },
  {
   "cell_type": "code",
   "execution_count": null,
   "id": "1a8b269b",
   "metadata": {},
   "outputs": [],
   "source": []
  },
  {
   "cell_type": "code",
   "execution_count": null,
   "id": "d906d15e",
   "metadata": {},
   "outputs": [],
   "source": []
  }
 ],
 "metadata": {
  "kernelspec": {
   "display_name": "Python 3 (ipykernel)",
   "language": "python",
   "name": "python3"
  },
  "language_info": {
   "codemirror_mode": {
    "name": "ipython",
    "version": 3
   },
   "file_extension": ".py",
   "mimetype": "text/x-python",
   "name": "python",
   "nbconvert_exporter": "python",
   "pygments_lexer": "ipython3",
   "version": "3.9.12"
  }
 },
 "nbformat": 4,
 "nbformat_minor": 5
}
