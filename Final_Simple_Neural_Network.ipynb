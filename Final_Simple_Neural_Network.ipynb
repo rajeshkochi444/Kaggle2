{
  "cells": [
    {
      "cell_type": "code",
      "execution_count": 1,
      "metadata": {
        "colab": {
          "base_uri": "https://localhost:8080/"
        },
        "id": "f21c86ac",
        "outputId": "184afab3-2660-49e1-e63f-936c9c0bcd6c"
      },
      "outputs": [
        {
          "output_type": "stream",
          "name": "stderr",
          "text": [
            "[nltk_data] Downloading package punkt to /root/nltk_data...\n",
            "[nltk_data]   Package punkt is already up-to-date!\n",
            "[nltk_data] Downloading package averaged_perceptron_tagger to\n",
            "[nltk_data]     /root/nltk_data...\n",
            "[nltk_data]   Package averaged_perceptron_tagger is already up-to-\n",
            "[nltk_data]       date!\n",
            "[nltk_data] Downloading package wordnet to /root/nltk_data...\n",
            "[nltk_data]   Package wordnet is already up-to-date!\n",
            "[nltk_data] Downloading package omw-1.4 to /root/nltk_data...\n",
            "[nltk_data]   Package omw-1.4 is already up-to-date!\n",
            "[nltk_data] Downloading collection 'all'\n",
            "[nltk_data]    | \n",
            "[nltk_data]    | Downloading package abc to /root/nltk_data...\n",
            "[nltk_data]    |   Package abc is already up-to-date!\n",
            "[nltk_data]    | Downloading package alpino to /root/nltk_data...\n",
            "[nltk_data]    |   Package alpino is already up-to-date!\n",
            "[nltk_data]    | Downloading package averaged_perceptron_tagger to\n",
            "[nltk_data]    |     /root/nltk_data...\n",
            "[nltk_data]    |   Package averaged_perceptron_tagger is already up-\n",
            "[nltk_data]    |       to-date!\n",
            "[nltk_data]    | Downloading package averaged_perceptron_tagger_ru to\n",
            "[nltk_data]    |     /root/nltk_data...\n",
            "[nltk_data]    |   Package averaged_perceptron_tagger_ru is already\n",
            "[nltk_data]    |       up-to-date!\n",
            "[nltk_data]    | Downloading package basque_grammars to\n",
            "[nltk_data]    |     /root/nltk_data...\n",
            "[nltk_data]    |   Package basque_grammars is already up-to-date!\n",
            "[nltk_data]    | Downloading package bcp47 to /root/nltk_data...\n",
            "[nltk_data]    |   Package bcp47 is already up-to-date!\n",
            "[nltk_data]    | Downloading package biocreative_ppi to\n",
            "[nltk_data]    |     /root/nltk_data...\n",
            "[nltk_data]    |   Package biocreative_ppi is already up-to-date!\n",
            "[nltk_data]    | Downloading package bllip_wsj_no_aux to\n",
            "[nltk_data]    |     /root/nltk_data...\n",
            "[nltk_data]    |   Package bllip_wsj_no_aux is already up-to-date!\n",
            "[nltk_data]    | Downloading package book_grammars to\n",
            "[nltk_data]    |     /root/nltk_data...\n",
            "[nltk_data]    |   Package book_grammars is already up-to-date!\n",
            "[nltk_data]    | Downloading package brown to /root/nltk_data...\n",
            "[nltk_data]    |   Package brown is already up-to-date!\n",
            "[nltk_data]    | Downloading package brown_tei to /root/nltk_data...\n",
            "[nltk_data]    |   Package brown_tei is already up-to-date!\n",
            "[nltk_data]    | Downloading package cess_cat to /root/nltk_data...\n",
            "[nltk_data]    |   Package cess_cat is already up-to-date!\n",
            "[nltk_data]    | Downloading package cess_esp to /root/nltk_data...\n",
            "[nltk_data]    |   Package cess_esp is already up-to-date!\n",
            "[nltk_data]    | Downloading package chat80 to /root/nltk_data...\n",
            "[nltk_data]    |   Package chat80 is already up-to-date!\n",
            "[nltk_data]    | Downloading package city_database to\n",
            "[nltk_data]    |     /root/nltk_data...\n",
            "[nltk_data]    |   Package city_database is already up-to-date!\n",
            "[nltk_data]    | Downloading package cmudict to /root/nltk_data...\n",
            "[nltk_data]    |   Package cmudict is already up-to-date!\n",
            "[nltk_data]    | Downloading package comparative_sentences to\n",
            "[nltk_data]    |     /root/nltk_data...\n",
            "[nltk_data]    |   Package comparative_sentences is already up-to-\n",
            "[nltk_data]    |       date!\n",
            "[nltk_data]    | Downloading package comtrans to /root/nltk_data...\n",
            "[nltk_data]    |   Package comtrans is already up-to-date!\n",
            "[nltk_data]    | Downloading package conll2000 to /root/nltk_data...\n",
            "[nltk_data]    |   Package conll2000 is already up-to-date!\n",
            "[nltk_data]    | Downloading package conll2002 to /root/nltk_data...\n",
            "[nltk_data]    |   Package conll2002 is already up-to-date!\n",
            "[nltk_data]    | Downloading package conll2007 to /root/nltk_data...\n",
            "[nltk_data]    |   Package conll2007 is already up-to-date!\n",
            "[nltk_data]    | Downloading package crubadan to /root/nltk_data...\n",
            "[nltk_data]    |   Package crubadan is already up-to-date!\n",
            "[nltk_data]    | Downloading package dependency_treebank to\n",
            "[nltk_data]    |     /root/nltk_data...\n",
            "[nltk_data]    |   Package dependency_treebank is already up-to-date!\n",
            "[nltk_data]    | Downloading package dolch to /root/nltk_data...\n",
            "[nltk_data]    |   Package dolch is already up-to-date!\n",
            "[nltk_data]    | Downloading package europarl_raw to\n",
            "[nltk_data]    |     /root/nltk_data...\n",
            "[nltk_data]    |   Package europarl_raw is already up-to-date!\n",
            "[nltk_data]    | Downloading package extended_omw to\n",
            "[nltk_data]    |     /root/nltk_data...\n",
            "[nltk_data]    |   Package extended_omw is already up-to-date!\n",
            "[nltk_data]    | Downloading package floresta to /root/nltk_data...\n",
            "[nltk_data]    |   Package floresta is already up-to-date!\n",
            "[nltk_data]    | Downloading package framenet_v15 to\n",
            "[nltk_data]    |     /root/nltk_data...\n",
            "[nltk_data]    |   Package framenet_v15 is already up-to-date!\n",
            "[nltk_data]    | Downloading package framenet_v17 to\n",
            "[nltk_data]    |     /root/nltk_data...\n",
            "[nltk_data]    |   Package framenet_v17 is already up-to-date!\n",
            "[nltk_data]    | Downloading package gazetteers to /root/nltk_data...\n",
            "[nltk_data]    |   Package gazetteers is already up-to-date!\n",
            "[nltk_data]    | Downloading package genesis to /root/nltk_data...\n",
            "[nltk_data]    |   Package genesis is already up-to-date!\n",
            "[nltk_data]    | Downloading package gutenberg to /root/nltk_data...\n",
            "[nltk_data]    |   Package gutenberg is already up-to-date!\n",
            "[nltk_data]    | Downloading package ieer to /root/nltk_data...\n",
            "[nltk_data]    |   Package ieer is already up-to-date!\n",
            "[nltk_data]    | Downloading package inaugural to /root/nltk_data...\n",
            "[nltk_data]    |   Package inaugural is already up-to-date!\n",
            "[nltk_data]    | Downloading package indian to /root/nltk_data...\n",
            "[nltk_data]    |   Package indian is already up-to-date!\n",
            "[nltk_data]    | Downloading package jeita to /root/nltk_data...\n",
            "[nltk_data]    |   Package jeita is already up-to-date!\n",
            "[nltk_data]    | Downloading package kimmo to /root/nltk_data...\n",
            "[nltk_data]    |   Package kimmo is already up-to-date!\n",
            "[nltk_data]    | Downloading package knbc to /root/nltk_data...\n",
            "[nltk_data]    |   Package knbc is already up-to-date!\n",
            "[nltk_data]    | Downloading package large_grammars to\n",
            "[nltk_data]    |     /root/nltk_data...\n",
            "[nltk_data]    |   Package large_grammars is already up-to-date!\n",
            "[nltk_data]    | Downloading package lin_thesaurus to\n",
            "[nltk_data]    |     /root/nltk_data...\n",
            "[nltk_data]    |   Package lin_thesaurus is already up-to-date!\n",
            "[nltk_data]    | Downloading package mac_morpho to /root/nltk_data...\n",
            "[nltk_data]    |   Package mac_morpho is already up-to-date!\n",
            "[nltk_data]    | Downloading package machado to /root/nltk_data...\n",
            "[nltk_data]    |   Package machado is already up-to-date!\n",
            "[nltk_data]    | Downloading package masc_tagged to /root/nltk_data...\n",
            "[nltk_data]    |   Package masc_tagged is already up-to-date!\n",
            "[nltk_data]    | Downloading package maxent_ne_chunker to\n",
            "[nltk_data]    |     /root/nltk_data...\n",
            "[nltk_data]    |   Package maxent_ne_chunker is already up-to-date!\n",
            "[nltk_data]    | Downloading package maxent_treebank_pos_tagger to\n",
            "[nltk_data]    |     /root/nltk_data...\n",
            "[nltk_data]    |   Package maxent_treebank_pos_tagger is already up-\n",
            "[nltk_data]    |       to-date!\n",
            "[nltk_data]    | Downloading package moses_sample to\n",
            "[nltk_data]    |     /root/nltk_data...\n",
            "[nltk_data]    |   Package moses_sample is already up-to-date!\n",
            "[nltk_data]    | Downloading package movie_reviews to\n",
            "[nltk_data]    |     /root/nltk_data...\n",
            "[nltk_data]    |   Package movie_reviews is already up-to-date!\n",
            "[nltk_data]    | Downloading package mte_teip5 to /root/nltk_data...\n",
            "[nltk_data]    |   Package mte_teip5 is already up-to-date!\n",
            "[nltk_data]    | Downloading package mwa_ppdb to /root/nltk_data...\n",
            "[nltk_data]    |   Package mwa_ppdb is already up-to-date!\n",
            "[nltk_data]    | Downloading package names to /root/nltk_data...\n",
            "[nltk_data]    |   Package names is already up-to-date!\n",
            "[nltk_data]    | Downloading package nombank.1.0 to /root/nltk_data...\n",
            "[nltk_data]    |   Package nombank.1.0 is already up-to-date!\n",
            "[nltk_data]    | Downloading package nonbreaking_prefixes to\n",
            "[nltk_data]    |     /root/nltk_data...\n",
            "[nltk_data]    |   Package nonbreaking_prefixes is already up-to-date!\n",
            "[nltk_data]    | Downloading package nps_chat to /root/nltk_data...\n",
            "[nltk_data]    |   Package nps_chat is already up-to-date!\n",
            "[nltk_data]    | Downloading package omw to /root/nltk_data...\n",
            "[nltk_data]    |   Package omw is already up-to-date!\n",
            "[nltk_data]    | Downloading package omw-1.4 to /root/nltk_data...\n",
            "[nltk_data]    |   Package omw-1.4 is already up-to-date!\n",
            "[nltk_data]    | Downloading package opinion_lexicon to\n",
            "[nltk_data]    |     /root/nltk_data...\n",
            "[nltk_data]    |   Package opinion_lexicon is already up-to-date!\n",
            "[nltk_data]    | Downloading package panlex_swadesh to\n",
            "[nltk_data]    |     /root/nltk_data...\n",
            "[nltk_data]    |   Package panlex_swadesh is already up-to-date!\n",
            "[nltk_data]    | Downloading package paradigms to /root/nltk_data...\n",
            "[nltk_data]    |   Package paradigms is already up-to-date!\n",
            "[nltk_data]    | Downloading package pe08 to /root/nltk_data...\n",
            "[nltk_data]    |   Package pe08 is already up-to-date!\n",
            "[nltk_data]    | Downloading package perluniprops to\n",
            "[nltk_data]    |     /root/nltk_data...\n",
            "[nltk_data]    |   Package perluniprops is already up-to-date!\n",
            "[nltk_data]    | Downloading package pil to /root/nltk_data...\n",
            "[nltk_data]    |   Package pil is already up-to-date!\n",
            "[nltk_data]    | Downloading package pl196x to /root/nltk_data...\n",
            "[nltk_data]    |   Package pl196x is already up-to-date!\n",
            "[nltk_data]    | Downloading package porter_test to /root/nltk_data...\n",
            "[nltk_data]    |   Package porter_test is already up-to-date!\n",
            "[nltk_data]    | Downloading package ppattach to /root/nltk_data...\n",
            "[nltk_data]    |   Package ppattach is already up-to-date!\n",
            "[nltk_data]    | Downloading package problem_reports to\n",
            "[nltk_data]    |     /root/nltk_data...\n",
            "[nltk_data]    |   Package problem_reports is already up-to-date!\n",
            "[nltk_data]    | Downloading package product_reviews_1 to\n",
            "[nltk_data]    |     /root/nltk_data...\n",
            "[nltk_data]    |   Package product_reviews_1 is already up-to-date!\n",
            "[nltk_data]    | Downloading package product_reviews_2 to\n",
            "[nltk_data]    |     /root/nltk_data...\n",
            "[nltk_data]    |   Package product_reviews_2 is already up-to-date!\n",
            "[nltk_data]    | Downloading package propbank to /root/nltk_data...\n",
            "[nltk_data]    |   Package propbank is already up-to-date!\n",
            "[nltk_data]    | Downloading package pros_cons to /root/nltk_data...\n",
            "[nltk_data]    |   Package pros_cons is already up-to-date!\n",
            "[nltk_data]    | Downloading package ptb to /root/nltk_data...\n",
            "[nltk_data]    |   Package ptb is already up-to-date!\n",
            "[nltk_data]    | Downloading package punkt to /root/nltk_data...\n",
            "[nltk_data]    |   Package punkt is already up-to-date!\n",
            "[nltk_data]    | Downloading package qc to /root/nltk_data...\n",
            "[nltk_data]    |   Package qc is already up-to-date!\n",
            "[nltk_data]    | Downloading package reuters to /root/nltk_data...\n",
            "[nltk_data]    |   Package reuters is already up-to-date!\n",
            "[nltk_data]    | Downloading package rslp to /root/nltk_data...\n",
            "[nltk_data]    |   Package rslp is already up-to-date!\n",
            "[nltk_data]    | Downloading package rte to /root/nltk_data...\n",
            "[nltk_data]    |   Package rte is already up-to-date!\n",
            "[nltk_data]    | Downloading package sample_grammars to\n",
            "[nltk_data]    |     /root/nltk_data...\n",
            "[nltk_data]    |   Package sample_grammars is already up-to-date!\n",
            "[nltk_data]    | Downloading package semcor to /root/nltk_data...\n",
            "[nltk_data]    |   Package semcor is already up-to-date!\n",
            "[nltk_data]    | Downloading package senseval to /root/nltk_data...\n",
            "[nltk_data]    |   Package senseval is already up-to-date!\n",
            "[nltk_data]    | Downloading package sentence_polarity to\n",
            "[nltk_data]    |     /root/nltk_data...\n",
            "[nltk_data]    |   Package sentence_polarity is already up-to-date!\n",
            "[nltk_data]    | Downloading package sentiwordnet to\n",
            "[nltk_data]    |     /root/nltk_data...\n",
            "[nltk_data]    |   Package sentiwordnet is already up-to-date!\n",
            "[nltk_data]    | Downloading package shakespeare to /root/nltk_data...\n",
            "[nltk_data]    |   Package shakespeare is already up-to-date!\n",
            "[nltk_data]    | Downloading package sinica_treebank to\n",
            "[nltk_data]    |     /root/nltk_data...\n",
            "[nltk_data]    |   Package sinica_treebank is already up-to-date!\n",
            "[nltk_data]    | Downloading package smultron to /root/nltk_data...\n",
            "[nltk_data]    |   Package smultron is already up-to-date!\n",
            "[nltk_data]    | Downloading package snowball_data to\n",
            "[nltk_data]    |     /root/nltk_data...\n",
            "[nltk_data]    |   Package snowball_data is already up-to-date!\n",
            "[nltk_data]    | Downloading package spanish_grammars to\n",
            "[nltk_data]    |     /root/nltk_data...\n",
            "[nltk_data]    |   Package spanish_grammars is already up-to-date!\n",
            "[nltk_data]    | Downloading package state_union to /root/nltk_data...\n",
            "[nltk_data]    |   Package state_union is already up-to-date!\n",
            "[nltk_data]    | Downloading package stopwords to /root/nltk_data...\n",
            "[nltk_data]    |   Package stopwords is already up-to-date!\n",
            "[nltk_data]    | Downloading package subjectivity to\n",
            "[nltk_data]    |     /root/nltk_data...\n",
            "[nltk_data]    |   Package subjectivity is already up-to-date!\n",
            "[nltk_data]    | Downloading package swadesh to /root/nltk_data...\n",
            "[nltk_data]    |   Package swadesh is already up-to-date!\n",
            "[nltk_data]    | Downloading package switchboard to /root/nltk_data...\n",
            "[nltk_data]    |   Package switchboard is already up-to-date!\n",
            "[nltk_data]    | Downloading package tagsets to /root/nltk_data...\n",
            "[nltk_data]    |   Package tagsets is already up-to-date!\n",
            "[nltk_data]    | Downloading package timit to /root/nltk_data...\n",
            "[nltk_data]    |   Package timit is already up-to-date!\n",
            "[nltk_data]    | Downloading package toolbox to /root/nltk_data...\n",
            "[nltk_data]    |   Package toolbox is already up-to-date!\n",
            "[nltk_data]    | Downloading package treebank to /root/nltk_data...\n",
            "[nltk_data]    |   Package treebank is already up-to-date!\n",
            "[nltk_data]    | Downloading package twitter_samples to\n",
            "[nltk_data]    |     /root/nltk_data...\n",
            "[nltk_data]    |   Package twitter_samples is already up-to-date!\n",
            "[nltk_data]    | Downloading package udhr to /root/nltk_data...\n",
            "[nltk_data]    |   Package udhr is already up-to-date!\n",
            "[nltk_data]    | Downloading package udhr2 to /root/nltk_data...\n",
            "[nltk_data]    |   Package udhr2 is already up-to-date!\n",
            "[nltk_data]    | Downloading package unicode_samples to\n",
            "[nltk_data]    |     /root/nltk_data...\n",
            "[nltk_data]    |   Package unicode_samples is already up-to-date!\n",
            "[nltk_data]    | Downloading package universal_tagset to\n",
            "[nltk_data]    |     /root/nltk_data...\n",
            "[nltk_data]    |   Package universal_tagset is already up-to-date!\n",
            "[nltk_data]    | Downloading package universal_treebanks_v20 to\n",
            "[nltk_data]    |     /root/nltk_data...\n",
            "[nltk_data]    |   Package universal_treebanks_v20 is already up-to-\n",
            "[nltk_data]    |       date!\n",
            "[nltk_data]    | Downloading package vader_lexicon to\n",
            "[nltk_data]    |     /root/nltk_data...\n",
            "[nltk_data]    |   Package vader_lexicon is already up-to-date!\n",
            "[nltk_data]    | Downloading package verbnet to /root/nltk_data...\n",
            "[nltk_data]    |   Package verbnet is already up-to-date!\n",
            "[nltk_data]    | Downloading package verbnet3 to /root/nltk_data...\n",
            "[nltk_data]    |   Package verbnet3 is already up-to-date!\n",
            "[nltk_data]    | Downloading package webtext to /root/nltk_data...\n",
            "[nltk_data]    |   Package webtext is already up-to-date!\n",
            "[nltk_data]    | Downloading package wmt15_eval to /root/nltk_data...\n",
            "[nltk_data]    |   Package wmt15_eval is already up-to-date!\n",
            "[nltk_data]    | Downloading package word2vec_sample to\n",
            "[nltk_data]    |     /root/nltk_data...\n",
            "[nltk_data]    |   Package word2vec_sample is already up-to-date!\n",
            "[nltk_data]    | Downloading package wordnet to /root/nltk_data...\n",
            "[nltk_data]    |   Package wordnet is already up-to-date!\n",
            "[nltk_data]    | Downloading package wordnet2021 to /root/nltk_data...\n",
            "[nltk_data]    |   Package wordnet2021 is already up-to-date!\n",
            "[nltk_data]    | Downloading package wordnet31 to /root/nltk_data...\n",
            "[nltk_data]    |   Package wordnet31 is already up-to-date!\n",
            "[nltk_data]    | Downloading package wordnet_ic to /root/nltk_data...\n",
            "[nltk_data]    |   Package wordnet_ic is already up-to-date!\n",
            "[nltk_data]    | Downloading package words to /root/nltk_data...\n",
            "[nltk_data]    |   Package words is already up-to-date!\n",
            "[nltk_data]    | Downloading package ycoe to /root/nltk_data...\n",
            "[nltk_data]    |   Package ycoe is already up-to-date!\n",
            "[nltk_data]    | \n",
            "[nltk_data]  Done downloading collection all\n"
          ]
        },
        {
          "output_type": "execute_result",
          "data": {
            "text/plain": [
              "True"
            ]
          },
          "metadata": {},
          "execution_count": 1
        }
      ],
      "source": [
        "import pandas as pd\n",
        "import numpy as np\n",
        "#for text pre-processing\n",
        "import re, string\n",
        "import nltk\n",
        "from nltk.tokenize import word_tokenize\n",
        "from nltk.corpus import stopwords\n",
        "from nltk.tokenize import word_tokenize\n",
        "from nltk.stem import SnowballStemmer\n",
        "from nltk.corpus import wordnet\n",
        "from nltk.stem import WordNetLemmatizer\n",
        "nltk.download('punkt')\n",
        "nltk.download('averaged_perceptron_tagger')\n",
        "nltk.download('wordnet')\n",
        "nltk.download('omw-1.4')\n",
        "\n",
        "from sklearn.feature_extraction.text import TfidfVectorizer\n",
        "from sklearn.feature_extraction.text import CountVectorizer\n",
        "\n",
        "from sklearn.model_selection import train_test_split\n",
        "from sklearn.naive_bayes import MultinomialNB\n",
        "from sklearn.metrics import classification_report, f1_score, accuracy_score, confusion_matrix\n",
        "from sklearn.metrics import roc_curve, auc, roc_auc_score\n",
        "from sklearn.calibration import calibration_curve, CalibrationDisplay\n",
        "from sklearn import metrics\n",
        "from sklearn import feature_selection, model_selection, naive_bayes, pipeline, manifold, preprocessing\n",
        "\n",
        "## for plotting\n",
        "import matplotlib.pyplot as plt\n",
        "import seaborn as sns\n",
        "\n",
        "\n",
        "import gensim\n",
        "## for deep learning\n",
        "from tensorflow.keras import models, layers, preprocessing as kprocessing\n",
        "from tensorflow.keras import backend as K\n",
        "# Modeling\n",
        "from tensorflow.keras.models import Sequential\n",
        "from tensorflow.keras.layers import LSTM, GRU, Dense, Embedding, Dropout, GlobalAveragePooling1D, Flatten, SpatialDropout1D, Bidirectional\n",
        "## for bert language model\n",
        "#import transformers\n",
        "import nltk\n",
        "\n",
        "nltk.download('all')"
      ],
      "id": "f21c86ac"
    },
    {
      "cell_type": "code",
      "execution_count": 2,
      "metadata": {
        "id": "Ziy3uYg0-OWq",
        "colab": {
          "base_uri": "https://localhost:8080/"
        },
        "outputId": "ef8694a2-bb5d-423e-ba9d-73474f67818c"
      },
      "outputs": [
        {
          "output_type": "stream",
          "name": "stdout",
          "text": [
            "Mounted at /content/gdrive\n"
          ]
        }
      ],
      "source": [
        "from google.colab import drive \n",
        "drive.mount('/content/gdrive')"
      ],
      "id": "Ziy3uYg0-OWq"
    },
    {
      "cell_type": "code",
      "execution_count": 3,
      "metadata": {
        "id": "R3KI_uoa_4Vw"
      },
      "outputs": [],
      "source": [
        "#df = pd.read_csv('/content/gdrive/MyDrive/Colab Notebooks/Kaggle/train_data.csv')\n",
        "train_X_Path = \"/content/gdrive/MyDrive/Colab Notebooks/Kaggle/train_data.csv\"\n",
        "train_Y_Path = \"/content/gdrive/MyDrive/Colab Notebooks/Kaggle/train_results.csv\"\n",
        "test_X_Path = \"/content/gdrive/MyDrive/Colab Notebooks/Kaggle/test_data.csv\""
      ],
      "id": "R3KI_uoa_4Vw"
    },
    {
      "cell_type": "code",
      "execution_count": 4,
      "metadata": {
        "id": "D6A-Nrd5-VWf"
      },
      "outputs": [],
      "source": [
        "# Training data\n",
        "df = pd.read_csv(train_X_Path)\n",
        "# Dropping id column\n",
        "df.drop(['id'],axis=1,inplace=True)\n",
        "# Training labels\n",
        "df_train_Y = pd.read_csv(train_Y_Path)\n",
        "df_train_Y.head()\n",
        "# Dropping id column\n",
        "df_train_Y = df_train_Y.drop(columns=['id'],axis=1)\n",
        "# Converting categorical labels to numeric\n",
        "df_train_Y.target[df_train_Y.target == 'positive'] = 2\n",
        "df_train_Y.target[df_train_Y.target == 'negative'] = 0\n",
        "df_train_Y.target[df_train_Y.target == 'neutral'] = 1\n",
        "# combining text data and labels to one single dataframe\n",
        "df = pd.concat([df,df_train_Y],axis=1)"
      ],
      "id": "D6A-Nrd5-VWf"
    },
    {
      "cell_type": "code",
      "execution_count": 5,
      "metadata": {
        "id": "a25d2018",
        "colab": {
          "base_uri": "https://localhost:8080/"
        },
        "outputId": "2eb4fbba-fb67-4fbb-b51c-55c1d8605278"
      },
      "outputs": [
        {
          "output_type": "stream",
          "name": "stdout",
          "text": [
            "13156702\n"
          ]
        }
      ],
      "source": [
        "# Text Clean-Up\n",
        "\n",
        "#convert to lowercase, strip and remove punctuations\n",
        "def preprocess(text):\n",
        "    text = text.lower() \n",
        "    text=  text.strip()  \n",
        "    text=  re.compile('<.*?>').sub('', text) \n",
        "    text = re.compile('[%s]' % re.escape(string.punctuation)).sub(' ', text)  \n",
        "    text = re.sub('\\s+', ' ', text)  \n",
        "    text = re.sub(r'\\[[0-9]*\\]',' ',text) \n",
        "    text= re.sub(r'[^\\w\\s]', '', str(text).lower().strip())\n",
        "    text = re.sub(r'\\d',' ',text) \n",
        "    text = re.sub(r'\\s+',' ',text) \n",
        "    text = re.sub(r'https?://\\S+|www\\.\\S+', '', text) # Removes url\n",
        "    text = re.compile(r'<[^>]+>').sub('', text) #Removes HTML tags:\n",
        "    text = re.sub(r\"\\s+[a-zA-Z]\\s+\", ' ', text) # Single character removal\n",
        "    text = re.sub(r'\\s+', ' ', text) # Remove multiple spaces\n",
        "    return text\n",
        "\n",
        "# STOPWORD REMOVAL\n",
        "from nltk.corpus import stopwords\n",
        "stop = set(stopwords.words('english'))\n",
        "def remove_stopwords(str):\n",
        "    return \" \".join([word for word in str.split() if word not in stop])\n",
        "\n",
        "# Clean text without stop words removal\n",
        "df['clean_text'] = df['text'].map(lambda x: preprocess(x))\n",
        "#df['clean_text'] = df['clean_text'].map(lambda x: remove_stopwords(x))\n",
        "\n",
        "# Checking the status of clean text with stop words removed\n",
        "df['clean_text_len'] = df['clean_text'].apply(lambda x:len(str(x).split()))\n",
        "print(df['clean_text_len'].sum())\n",
        "df['clean_text_len'].describe()\n",
        "# removing samples with zero words\n",
        "no_text = df[df['clean_text_len']==0]\n",
        "df.drop(no_text.index,inplace=True)\n"
      ],
      "id": "a25d2018"
    },
    {
      "cell_type": "code",
      "execution_count": 6,
      "metadata": {
        "id": "7689a2f4",
        "colab": {
          "base_uri": "https://localhost:8080/",
          "height": 424
        },
        "outputId": "f6050f78-d417-41d9-dab9-8e8218dccf60"
      },
      "outputs": [
        {
          "output_type": "execute_result",
          "data": {
            "text/plain": [
              "                Word  Frequency\n",
              "0                 to     368371\n",
              "1                the     341615\n",
              "2                 my     206635\n",
              "3                 it     198104\n",
              "4                and     197391\n",
              "...              ...        ...\n",
              "450421        michey          1\n",
              "450422        tudumo          1\n",
              "450423  faitaccompli          1\n",
              "450424          wnpn          1\n",
              "450425      jproudfo          1\n",
              "\n",
              "[450426 rows x 2 columns]"
            ],
            "text/html": [
              "\n",
              "  <div id=\"df-81ab4bf1-0377-42f7-90ad-c3ad4c1aac7d\">\n",
              "    <div class=\"colab-df-container\">\n",
              "      <div>\n",
              "<style scoped>\n",
              "    .dataframe tbody tr th:only-of-type {\n",
              "        vertical-align: middle;\n",
              "    }\n",
              "\n",
              "    .dataframe tbody tr th {\n",
              "        vertical-align: top;\n",
              "    }\n",
              "\n",
              "    .dataframe thead th {\n",
              "        text-align: right;\n",
              "    }\n",
              "</style>\n",
              "<table border=\"1\" class=\"dataframe\">\n",
              "  <thead>\n",
              "    <tr style=\"text-align: right;\">\n",
              "      <th></th>\n",
              "      <th>Word</th>\n",
              "      <th>Frequency</th>\n",
              "    </tr>\n",
              "  </thead>\n",
              "  <tbody>\n",
              "    <tr>\n",
              "      <th>0</th>\n",
              "      <td>to</td>\n",
              "      <td>368371</td>\n",
              "    </tr>\n",
              "    <tr>\n",
              "      <th>1</th>\n",
              "      <td>the</td>\n",
              "      <td>341615</td>\n",
              "    </tr>\n",
              "    <tr>\n",
              "      <th>2</th>\n",
              "      <td>my</td>\n",
              "      <td>206635</td>\n",
              "    </tr>\n",
              "    <tr>\n",
              "      <th>3</th>\n",
              "      <td>it</td>\n",
              "      <td>198104</td>\n",
              "    </tr>\n",
              "    <tr>\n",
              "      <th>4</th>\n",
              "      <td>and</td>\n",
              "      <td>197391</td>\n",
              "    </tr>\n",
              "    <tr>\n",
              "      <th>...</th>\n",
              "      <td>...</td>\n",
              "      <td>...</td>\n",
              "    </tr>\n",
              "    <tr>\n",
              "      <th>450421</th>\n",
              "      <td>michey</td>\n",
              "      <td>1</td>\n",
              "    </tr>\n",
              "    <tr>\n",
              "      <th>450422</th>\n",
              "      <td>tudumo</td>\n",
              "      <td>1</td>\n",
              "    </tr>\n",
              "    <tr>\n",
              "      <th>450423</th>\n",
              "      <td>faitaccompli</td>\n",
              "      <td>1</td>\n",
              "    </tr>\n",
              "    <tr>\n",
              "      <th>450424</th>\n",
              "      <td>wnpn</td>\n",
              "      <td>1</td>\n",
              "    </tr>\n",
              "    <tr>\n",
              "      <th>450425</th>\n",
              "      <td>jproudfo</td>\n",
              "      <td>1</td>\n",
              "    </tr>\n",
              "  </tbody>\n",
              "</table>\n",
              "<p>450426 rows × 2 columns</p>\n",
              "</div>\n",
              "      <button class=\"colab-df-convert\" onclick=\"convertToInteractive('df-81ab4bf1-0377-42f7-90ad-c3ad4c1aac7d')\"\n",
              "              title=\"Convert this dataframe to an interactive table.\"\n",
              "              style=\"display:none;\">\n",
              "        \n",
              "  <svg xmlns=\"http://www.w3.org/2000/svg\" height=\"24px\"viewBox=\"0 0 24 24\"\n",
              "       width=\"24px\">\n",
              "    <path d=\"M0 0h24v24H0V0z\" fill=\"none\"/>\n",
              "    <path d=\"M18.56 5.44l.94 2.06.94-2.06 2.06-.94-2.06-.94-.94-2.06-.94 2.06-2.06.94zm-11 1L8.5 8.5l.94-2.06 2.06-.94-2.06-.94L8.5 2.5l-.94 2.06-2.06.94zm10 10l.94 2.06.94-2.06 2.06-.94-2.06-.94-.94-2.06-.94 2.06-2.06.94z\"/><path d=\"M17.41 7.96l-1.37-1.37c-.4-.4-.92-.59-1.43-.59-.52 0-1.04.2-1.43.59L10.3 9.45l-7.72 7.72c-.78.78-.78 2.05 0 2.83L4 21.41c.39.39.9.59 1.41.59.51 0 1.02-.2 1.41-.59l7.78-7.78 2.81-2.81c.8-.78.8-2.07 0-2.86zM5.41 20L4 18.59l7.72-7.72 1.47 1.35L5.41 20z\"/>\n",
              "  </svg>\n",
              "      </button>\n",
              "      \n",
              "  <style>\n",
              "    .colab-df-container {\n",
              "      display:flex;\n",
              "      flex-wrap:wrap;\n",
              "      gap: 12px;\n",
              "    }\n",
              "\n",
              "    .colab-df-convert {\n",
              "      background-color: #E8F0FE;\n",
              "      border: none;\n",
              "      border-radius: 50%;\n",
              "      cursor: pointer;\n",
              "      display: none;\n",
              "      fill: #1967D2;\n",
              "      height: 32px;\n",
              "      padding: 0 0 0 0;\n",
              "      width: 32px;\n",
              "    }\n",
              "\n",
              "    .colab-df-convert:hover {\n",
              "      background-color: #E2EBFA;\n",
              "      box-shadow: 0px 1px 2px rgba(60, 64, 67, 0.3), 0px 1px 3px 1px rgba(60, 64, 67, 0.15);\n",
              "      fill: #174EA6;\n",
              "    }\n",
              "\n",
              "    [theme=dark] .colab-df-convert {\n",
              "      background-color: #3B4455;\n",
              "      fill: #D2E3FC;\n",
              "    }\n",
              "\n",
              "    [theme=dark] .colab-df-convert:hover {\n",
              "      background-color: #434B5C;\n",
              "      box-shadow: 0px 1px 3px 1px rgba(0, 0, 0, 0.15);\n",
              "      filter: drop-shadow(0px 1px 2px rgba(0, 0, 0, 0.3));\n",
              "      fill: #FFFFFF;\n",
              "    }\n",
              "  </style>\n",
              "\n",
              "      <script>\n",
              "        const buttonEl =\n",
              "          document.querySelector('#df-81ab4bf1-0377-42f7-90ad-c3ad4c1aac7d button.colab-df-convert');\n",
              "        buttonEl.style.display =\n",
              "          google.colab.kernel.accessAllowed ? 'block' : 'none';\n",
              "\n",
              "        async function convertToInteractive(key) {\n",
              "          const element = document.querySelector('#df-81ab4bf1-0377-42f7-90ad-c3ad4c1aac7d');\n",
              "          const dataTable =\n",
              "            await google.colab.kernel.invokeFunction('convertToInteractive',\n",
              "                                                     [key], {});\n",
              "          if (!dataTable) return;\n",
              "\n",
              "          const docLinkHtml = 'Like what you see? Visit the ' +\n",
              "            '<a target=\"_blank\" href=https://colab.research.google.com/notebooks/data_table.ipynb>data table notebook</a>'\n",
              "            + ' to learn more about interactive tables.';\n",
              "          element.innerHTML = '';\n",
              "          dataTable['output_type'] = 'display_data';\n",
              "          await google.colab.output.renderOutput(dataTable, element);\n",
              "          const docLink = document.createElement('div');\n",
              "          docLink.innerHTML = docLinkHtml;\n",
              "          element.appendChild(docLink);\n",
              "        }\n",
              "      </script>\n",
              "    </div>\n",
              "  </div>\n",
              "  "
            ]
          },
          "metadata": {},
          "execution_count": 6
        }
      ],
      "source": [
        "new_df = df.clean_text.str.split(expand=True).stack().value_counts().reset_index()\n",
        " \n",
        "new_df.columns = ['Word', 'Frequency']\n",
        "\n",
        "new_df\n"
      ],
      "id": "7689a2f4"
    },
    {
      "cell_type": "code",
      "execution_count": 7,
      "metadata": {
        "id": "ad1F7oJm9agM",
        "colab": {
          "base_uri": "https://localhost:8080/",
          "height": 206
        },
        "outputId": "a2400eb2-7ffe-49b2-a9f8-9feb40fd7392"
      },
      "outputs": [
        {
          "output_type": "execute_result",
          "data": {
            "text/plain": [
              "                                                text target  \\\n",
              "0                  Anyway Im getting of for a while       2   \n",
              "1  My red, Apache isn't feelin too well this morn...      0   \n",
              "2  @danyelljoy you should be  its great. friday w...      2   \n",
              "3  its 11:30pm and i dont wanna sleep; so i debat...      2   \n",
              "4          Why does twitter eat my DM's?  Not happy       0   \n",
              "\n",
              "                                          clean_text  clean_text_len  \\\n",
              "0                     anyway im getting of for while               6   \n",
              "1  my red apache isn feelin too well this morning...              12   \n",
              "2  danyelljoy you should be its great friday will...              11   \n",
              "3  its pm and dont wanna sleep so debated with my...              22   \n",
              "4               why does twitter eat my dm not happy               8   \n",
              "\n",
              "                                              tokens  \n",
              "0              [anyway, im, getting, of, for, while]  \n",
              "1  [my, red, apache, isn, feelin, too, well, this...  \n",
              "2  [danyelljoy, you, should, be, its, great, frid...  \n",
              "3  [its, pm, and, dont, wanna, sleep, so, debated...  \n",
              "4      [why, does, twitter, eat, my, dm, not, happy]  "
            ],
            "text/html": [
              "\n",
              "  <div id=\"df-520cacc4-280d-485f-be04-08ed66625cb1\">\n",
              "    <div class=\"colab-df-container\">\n",
              "      <div>\n",
              "<style scoped>\n",
              "    .dataframe tbody tr th:only-of-type {\n",
              "        vertical-align: middle;\n",
              "    }\n",
              "\n",
              "    .dataframe tbody tr th {\n",
              "        vertical-align: top;\n",
              "    }\n",
              "\n",
              "    .dataframe thead th {\n",
              "        text-align: right;\n",
              "    }\n",
              "</style>\n",
              "<table border=\"1\" class=\"dataframe\">\n",
              "  <thead>\n",
              "    <tr style=\"text-align: right;\">\n",
              "      <th></th>\n",
              "      <th>text</th>\n",
              "      <th>target</th>\n",
              "      <th>clean_text</th>\n",
              "      <th>clean_text_len</th>\n",
              "      <th>tokens</th>\n",
              "    </tr>\n",
              "  </thead>\n",
              "  <tbody>\n",
              "    <tr>\n",
              "      <th>0</th>\n",
              "      <td>Anyway Im getting of for a while</td>\n",
              "      <td>2</td>\n",
              "      <td>anyway im getting of for while</td>\n",
              "      <td>6</td>\n",
              "      <td>[anyway, im, getting, of, for, while]</td>\n",
              "    </tr>\n",
              "    <tr>\n",
              "      <th>1</th>\n",
              "      <td>My red, Apache isn't feelin too well this morn...</td>\n",
              "      <td>0</td>\n",
              "      <td>my red apache isn feelin too well this morning...</td>\n",
              "      <td>12</td>\n",
              "      <td>[my, red, apache, isn, feelin, too, well, this...</td>\n",
              "    </tr>\n",
              "    <tr>\n",
              "      <th>2</th>\n",
              "      <td>@danyelljoy you should be  its great. friday w...</td>\n",
              "      <td>2</td>\n",
              "      <td>danyelljoy you should be its great friday will...</td>\n",
              "      <td>11</td>\n",
              "      <td>[danyelljoy, you, should, be, its, great, frid...</td>\n",
              "    </tr>\n",
              "    <tr>\n",
              "      <th>3</th>\n",
              "      <td>its 11:30pm and i dont wanna sleep; so i debat...</td>\n",
              "      <td>2</td>\n",
              "      <td>its pm and dont wanna sleep so debated with my...</td>\n",
              "      <td>22</td>\n",
              "      <td>[its, pm, and, dont, wanna, sleep, so, debated...</td>\n",
              "    </tr>\n",
              "    <tr>\n",
              "      <th>4</th>\n",
              "      <td>Why does twitter eat my DM's?  Not happy</td>\n",
              "      <td>0</td>\n",
              "      <td>why does twitter eat my dm not happy</td>\n",
              "      <td>8</td>\n",
              "      <td>[why, does, twitter, eat, my, dm, not, happy]</td>\n",
              "    </tr>\n",
              "  </tbody>\n",
              "</table>\n",
              "</div>\n",
              "      <button class=\"colab-df-convert\" onclick=\"convertToInteractive('df-520cacc4-280d-485f-be04-08ed66625cb1')\"\n",
              "              title=\"Convert this dataframe to an interactive table.\"\n",
              "              style=\"display:none;\">\n",
              "        \n",
              "  <svg xmlns=\"http://www.w3.org/2000/svg\" height=\"24px\"viewBox=\"0 0 24 24\"\n",
              "       width=\"24px\">\n",
              "    <path d=\"M0 0h24v24H0V0z\" fill=\"none\"/>\n",
              "    <path d=\"M18.56 5.44l.94 2.06.94-2.06 2.06-.94-2.06-.94-.94-2.06-.94 2.06-2.06.94zm-11 1L8.5 8.5l.94-2.06 2.06-.94-2.06-.94L8.5 2.5l-.94 2.06-2.06.94zm10 10l.94 2.06.94-2.06 2.06-.94-2.06-.94-.94-2.06-.94 2.06-2.06.94z\"/><path d=\"M17.41 7.96l-1.37-1.37c-.4-.4-.92-.59-1.43-.59-.52 0-1.04.2-1.43.59L10.3 9.45l-7.72 7.72c-.78.78-.78 2.05 0 2.83L4 21.41c.39.39.9.59 1.41.59.51 0 1.02-.2 1.41-.59l7.78-7.78 2.81-2.81c.8-.78.8-2.07 0-2.86zM5.41 20L4 18.59l7.72-7.72 1.47 1.35L5.41 20z\"/>\n",
              "  </svg>\n",
              "      </button>\n",
              "      \n",
              "  <style>\n",
              "    .colab-df-container {\n",
              "      display:flex;\n",
              "      flex-wrap:wrap;\n",
              "      gap: 12px;\n",
              "    }\n",
              "\n",
              "    .colab-df-convert {\n",
              "      background-color: #E8F0FE;\n",
              "      border: none;\n",
              "      border-radius: 50%;\n",
              "      cursor: pointer;\n",
              "      display: none;\n",
              "      fill: #1967D2;\n",
              "      height: 32px;\n",
              "      padding: 0 0 0 0;\n",
              "      width: 32px;\n",
              "    }\n",
              "\n",
              "    .colab-df-convert:hover {\n",
              "      background-color: #E2EBFA;\n",
              "      box-shadow: 0px 1px 2px rgba(60, 64, 67, 0.3), 0px 1px 3px 1px rgba(60, 64, 67, 0.15);\n",
              "      fill: #174EA6;\n",
              "    }\n",
              "\n",
              "    [theme=dark] .colab-df-convert {\n",
              "      background-color: #3B4455;\n",
              "      fill: #D2E3FC;\n",
              "    }\n",
              "\n",
              "    [theme=dark] .colab-df-convert:hover {\n",
              "      background-color: #434B5C;\n",
              "      box-shadow: 0px 1px 3px 1px rgba(0, 0, 0, 0.15);\n",
              "      filter: drop-shadow(0px 1px 2px rgba(0, 0, 0, 0.3));\n",
              "      fill: #FFFFFF;\n",
              "    }\n",
              "  </style>\n",
              "\n",
              "      <script>\n",
              "        const buttonEl =\n",
              "          document.querySelector('#df-520cacc4-280d-485f-be04-08ed66625cb1 button.colab-df-convert');\n",
              "        buttonEl.style.display =\n",
              "          google.colab.kernel.accessAllowed ? 'block' : 'none';\n",
              "\n",
              "        async function convertToInteractive(key) {\n",
              "          const element = document.querySelector('#df-520cacc4-280d-485f-be04-08ed66625cb1');\n",
              "          const dataTable =\n",
              "            await google.colab.kernel.invokeFunction('convertToInteractive',\n",
              "                                                     [key], {});\n",
              "          if (!dataTable) return;\n",
              "\n",
              "          const docLinkHtml = 'Like what you see? Visit the ' +\n",
              "            '<a target=\"_blank\" href=https://colab.research.google.com/notebooks/data_table.ipynb>data table notebook</a>'\n",
              "            + ' to learn more about interactive tables.';\n",
              "          element.innerHTML = '';\n",
              "          dataTable['output_type'] = 'display_data';\n",
              "          await google.colab.output.renderOutput(dataTable, element);\n",
              "          const docLink = document.createElement('div');\n",
              "          docLink.innerHTML = docLinkHtml;\n",
              "          element.appendChild(docLink);\n",
              "        }\n",
              "      </script>\n",
              "    </div>\n",
              "  </div>\n",
              "  "
            ]
          },
          "metadata": {},
          "execution_count": 7
        }
      ],
      "source": [
        "tokenizer=nltk.tokenize.RegexpTokenizer(r'\\w+')\n",
        "df['tokens'] = df['clean_text'].apply(lambda x:tokenizer.tokenize(x))\n",
        "df.head()"
      ],
      "id": "ad1F7oJm9agM"
    },
    {
      "cell_type": "code",
      "execution_count": 8,
      "metadata": {
        "id": "ORbwv0Vx9tNT"
      },
      "outputs": [],
      "source": [
        "import gensim"
      ],
      "id": "ORbwv0Vx9tNT"
    },
    {
      "cell_type": "code",
      "execution_count": 9,
      "metadata": {
        "id": "2071ced1"
      },
      "outputs": [],
      "source": [
        "# Label Encoding\n",
        "from sklearn import preprocessing\n",
        "\n",
        "label_encoder = preprocessing.LabelEncoder()\n",
        "  \n",
        "# Encode labels in column 'target'.\n",
        "df['target']= label_encoder.fit_transform(df['target'])\n",
        "y = df['target']\n",
        "\n",
        "X = df['clean_text']"
      ],
      "id": "2071ced1"
    },
    {
      "cell_type": "code",
      "execution_count": 10,
      "metadata": {
        "id": "b0c19f81"
      },
      "outputs": [],
      "source": [
        "X_train, X_valid, y_train, y_valid = train_test_split(X, y, test_size = 0.20, random_state = 42)\n"
      ],
      "id": "b0c19f81"
    },
    {
      "cell_type": "code",
      "execution_count": 11,
      "metadata": {
        "id": "fba645e7"
      },
      "outputs": [],
      "source": [
        "import tensorflow\n",
        "from tensorflow import keras\n",
        "from tensorflow.keras.preprocessing.text import Tokenizer\n",
        "from tensorflow.keras.preprocessing.sequence import pad_sequences\n",
        "\n",
        "max_len = df['clean_text_len'].max()\n",
        "#max_features = int(new_df.shape[0]/2)\n",
        "max_features = 50000"
      ],
      "id": "fba645e7"
    },
    {
      "cell_type": "code",
      "execution_count": 12,
      "metadata": {
        "id": "1a28d148"
      },
      "outputs": [],
      "source": [
        "def Token_padding(data_train, data_test):\n",
        "\n",
        "  Tokens = Tokenizer(num_words = max_features, oov_token ='OOV')\n",
        "  Tokens.fit_on_texts(data_train)\n",
        "  #vocab_size = len(Tokens.word_index) + 1\n",
        "  encd_rev_train = Tokens.texts_to_sequences(data_train)\n",
        "  pad_sent_train = pad_sequences(encd_rev_train, maxlen=max_len, padding='post')\n",
        "\n",
        "  encd_rev_test = Tokens.texts_to_sequences(data_test)\n",
        "  pad_sent_test = pad_sequences(encd_rev_test, maxlen=max_len, padding='post')\n",
        "\n",
        "  return pad_sent_train, pad_sent_test"
      ],
      "id": "1a28d148"
    },
    {
      "cell_type": "code",
      "execution_count": 13,
      "metadata": {
        "id": "e165619d",
        "colab": {
          "base_uri": "https://localhost:8080/"
        },
        "outputId": "ad72edaf-9859-466e-ed2a-bd13436a3271"
      },
      "outputs": [
        {
          "output_type": "stream",
          "name": "stdout",
          "text": [
            "(832258, 116) (208065, 116) (832258, 3) (208065, 3)\n"
          ]
        }
      ],
      "source": [
        "X_train_vector,  X_valid_vector = Token_padding(X_train, X_valid)\n",
        "\n",
        "Y_train = pd.get_dummies(y_train).values\n",
        "Y_valid = pd.get_dummies(y_valid).values\n",
        "\n",
        "print(X_train_vector.shape, X_valid_vector.shape, Y_train.shape,Y_valid.shape)"
      ],
      "id": "e165619d"
    },
    {
      "cell_type": "code",
      "execution_count": 18,
      "metadata": {
        "id": "eaca144f",
        "colab": {
          "base_uri": "https://localhost:8080/"
        },
        "outputId": "337649c1-8cc5-4cbd-ad09-e58dba332756"
      },
      "outputs": [
        {
          "output_type": "stream",
          "name": "stdout",
          "text": [
            "Epoch 1/100\n",
            "6503/6503 [==============================] - 30s 4ms/step - loss: 6.7694 - accuracy: 0.4993 - val_loss: 0.6942 - val_accuracy: 0.4994\n",
            "Epoch 2/100\n",
            "6503/6503 [==============================] - 23s 4ms/step - loss: 0.7032 - accuracy: 0.5002 - val_loss: 0.6941 - val_accuracy: 0.5005\n",
            "Epoch 3/100\n",
            "6503/6503 [==============================] - 25s 4ms/step - loss: 0.7002 - accuracy: 0.5005 - val_loss: 0.6943 - val_accuracy: 0.5007\n",
            "Epoch 4/100\n",
            "6503/6503 [==============================] - 26s 4ms/step - loss: 0.7032 - accuracy: 0.4991 - val_loss: 0.6943 - val_accuracy: 0.5007\n",
            "Epoch 5/100\n",
            "6503/6503 [==============================] - 23s 4ms/step - loss: 0.7044 - accuracy: 0.5003 - val_loss: 0.6944 - val_accuracy: 0.4996\n",
            "Epoch 6/100\n",
            "6503/6503 [==============================] - 24s 4ms/step - loss: 0.7061 - accuracy: 0.5001 - val_loss: 0.6944 - val_accuracy: 0.4996\n",
            "Epoch 7/100\n",
            "6503/6503 [==============================] - 24s 4ms/step - loss: 0.7073 - accuracy: 0.4997 - val_loss: 0.6944 - val_accuracy: 0.5007\n",
            "Epoch 8/100\n",
            "6503/6503 [==============================] - ETA: 0s - loss: 0.7094 - accuracy: 0.4994Restoring model weights from the end of the best epoch: 3.\n",
            "6503/6503 [==============================] - 23s 4ms/step - loss: 0.7094 - accuracy: 0.4994 - val_loss: 0.6945 - val_accuracy: 0.4996\n",
            "Epoch 8: early stopping\n"
          ]
        }
      ],
      "source": [
        "import tensorflow as tf\n",
        "\n",
        "embed_dim = 300\n",
        "'''\n",
        "model_LSTM = tf.keras.Sequential([\n",
        "    tf.keras.layers.Embedding(max_features, embed_dim, input_length=max_len),\n",
        "    tf.keras.layers.Bidirectional(tf.keras.layers.LSTM(64)),\n",
        "    #tf.keras.layers.LSTM(32),\n",
        "    tf.keras.layers.Dropout(0.5),\n",
        "    #tf.keras.layers.Dense(512, activation='relu'),\n",
        "    tf.keras.layers.Dense(64, activation='relu'),\n",
        "    tf.keras.layers.Dropout(0.5),\n",
        "    tf.keras.layers.Dense(3, activation='softmax')\n",
        "])\n",
        "model_LSTM.summary()\n",
        "'''\n",
        "input_dim = X_train_vector.shape[1] \n",
        "\n",
        "model = Sequential()\n",
        "model.add(Dense(128, activation = 'relu', input_dim = input_dim))\n",
        "model.add(Dropout(0.4))\n",
        "model.add(Dense(64, activation = 'relu'))\n",
        "model.add(Dropout(0.4))\n",
        "model.add(Dense(3, activation = 'softmax'))\n",
        "\n",
        "\n",
        "opt = keras.optimizers.RMSprop(learning_rate=0.001)\n",
        "model.compile(loss='categorical_crossentropy', optimizer=opt, metrics=['accuracy'])\n",
        "\n",
        "epochs = 100\n",
        "batch_size = 128\n",
        "\n",
        "es = keras.callbacks.EarlyStopping(\n",
        "        monitor=\"val_accuracy\", # metrics to monitor\n",
        "        patience=5, # how many epochs before stop\n",
        "        verbose=1,\n",
        "        mode=\"max\", # we need the maximum accuracy.\n",
        "        restore_best_weights=True)\n",
        "history = model.fit(X_train_vector, Y_train, \n",
        "                    epochs = epochs, \n",
        "                    batch_size=batch_size,\n",
        "                    validation_data = (X_valid_vector, Y_valid),\n",
        "                    shuffle = True,\n",
        "                    callbacks=[es])\n"
      ],
      "id": "eaca144f"
    },
    {
      "cell_type": "code",
      "execution_count": 19,
      "metadata": {
        "id": "f41823c8",
        "colab": {
          "base_uri": "https://localhost:8080/",
          "height": 610
        },
        "outputId": "16fb696b-fc56-4232-c056-1beb4aee7dae"
      },
      "outputs": [
        {
          "output_type": "display_data",
          "data": {
            "text/plain": [
              "<Figure size 1296x720 with 2 Axes>"
            ],
            "image/png": "[encoded data removed]"
          },
          "metadata": {
            "needs_background": "light"
          }
        },
        {
          "output_type": "display_data",
          "data": {
            "text/plain": [
              "<Figure size 720x720 with 0 Axes>"
            ]
          },
          "metadata": {}
        }
      ],
      "source": [
        "# Plot the loss and accuracy curves for training and validation \n",
        "fig, ax = plt.subplots(2,1, figsize=(18, 10))\n",
        "ax[0].plot(history.history['loss'], color='b', label=\"Training loss\")\n",
        "ax[0].plot(history.history['val_loss'], color='r', label=\"validation loss\",axes =ax[0])\n",
        "legend = ax[0].legend(loc='best', shadow=True)\n",
        "\n",
        "ax[1].plot(history.history['accuracy'], color='b', label=\"Training accuracy\")\n",
        "ax[1].plot(history.history['val_accuracy'], color='r',label=\"Validation accuracy\")\n",
        "legend = ax[1].legend(loc='best', shadow=True)\n",
        "\n",
        "fig = plt.figure(figsize=(10, 10)) # Set Figure"
      ],
      "id": "f41823c8"
    },
    {
      "cell_type": "code",
      "source": [
        "import tensorflow as tf\n",
        "\n",
        "embed_dim = 300\n",
        "'''\n",
        "model_LSTM = tf.keras.Sequential([\n",
        "    tf.keras.layers.Embedding(max_features, embed_dim, input_length=max_len),\n",
        "    tf.keras.layers.Bidirectional(tf.keras.layers.LSTM(64)),\n",
        "    #tf.keras.layers.LSTM(32),\n",
        "    tf.keras.layers.Dropout(0.5),\n",
        "    #tf.keras.layers.Dense(512, activation='relu'),\n",
        "    tf.keras.layers.Dense(64, activation='relu'),\n",
        "    tf.keras.layers.Dropout(0.5),\n",
        "    tf.keras.layers.Dense(3, activation='softmax')\n",
        "])\n",
        "model_LSTM.summary()\n",
        "'''\n",
        "input_dim = X_train_vector.shape[1] \n",
        "\n",
        "model = Sequential()\n",
        "model.add(Dense(512, activation = 'relu', input_dim = input_dim))\n",
        "model.add(Dropout(0.4))\n",
        "model.add(Dense(256, activation = 'relu'))\n",
        "model.add(Dropout(0.4))\n",
        "model.add(Dense(128, activation = 'relu'))\n",
        "model.add(Dropout(0.4))\n",
        "model.add(Dense(64, activation = 'relu'))\n",
        "model.add(Dropout(0.4))\n",
        "model.add(Dense(3, activation = 'softmax'))\n",
        "\n",
        "\n",
        "opt = keras.optimizers.RMSprop(learning_rate=0.001)\n",
        "model.compile(loss='categorical_crossentropy', optimizer=opt, metrics=['accuracy'])\n",
        "\n",
        "epochs = 100\n",
        "batch_size = 128\n",
        "\n",
        "es = keras.callbacks.EarlyStopping(\n",
        "        monitor=\"val_accuracy\", # metrics to monitor\n",
        "        patience=5, # how many epochs before stop\n",
        "        verbose=1,\n",
        "        mode=\"max\", # we need the maximum accuracy.\n",
        "        restore_best_weights=True)\n",
        "history = model.fit(X_train_vector, Y_train, \n",
        "                    epochs = epochs, \n",
        "                    batch_size=batch_size,\n",
        "                    validation_data = (X_valid_vector, Y_valid),\n",
        "                    shuffle = True,\n",
        "                    callbacks=[es])\n"
      ],
      "metadata": {
        "colab": {
          "base_uri": "https://localhost:8080/"
        },
        "id": "f6xuaXSsddMs",
        "outputId": "9abc5873-73df-4884-eaf2-d365d7f2faf8"
      },
      "id": "f6xuaXSsddMs",
      "execution_count": 20,
      "outputs": [
        {
          "output_type": "stream",
          "name": "stdout",
          "text": [
            "Epoch 1/100\n",
            "6503/6503 [==============================] - 30s 4ms/step - loss: 3.3225 - accuracy: 0.5088 - val_loss: 0.6947 - val_accuracy: 0.5187\n",
            "Epoch 2/100\n",
            "6503/6503 [==============================] - 31s 5ms/step - loss: 0.7018 - accuracy: 0.5019 - val_loss: 0.6956 - val_accuracy: 0.4993\n",
            "Epoch 3/100\n",
            "6503/6503 [==============================] - 31s 5ms/step - loss: 0.6986 - accuracy: 0.4988 - val_loss: 0.6947 - val_accuracy: 0.4993\n",
            "Epoch 4/100\n",
            "6503/6503 [==============================] - 32s 5ms/step - loss: 0.6971 - accuracy: 0.5010 - val_loss: 0.6947 - val_accuracy: 0.4993\n",
            "Epoch 5/100\n",
            "6503/6503 [==============================] - 31s 5ms/step - loss: 0.6971 - accuracy: 0.5000 - val_loss: 0.6942 - val_accuracy: 0.5006\n",
            "Epoch 6/100\n",
            "6496/6503 [============================>.] - ETA: 0s - loss: 0.6966 - accuracy: 0.4999Restoring model weights from the end of the best epoch: 1.\n",
            "6503/6503 [==============================] - 31s 5ms/step - loss: 0.6966 - accuracy: 0.5000 - val_loss: 0.6944 - val_accuracy: 0.5006\n",
            "Epoch 6: early stopping\n"
          ]
        }
      ]
    },
    {
      "cell_type": "code",
      "source": [
        "# Plot the loss and accuracy curves for training and validation \n",
        "fig, ax = plt.subplots(2,1, figsize=(18, 10))\n",
        "ax[0].plot(history.history['loss'], color='b', label=\"Training loss\")\n",
        "ax[0].plot(history.history['val_loss'], color='r', label=\"validation loss\",axes =ax[0])\n",
        "legend = ax[0].legend(loc='best', shadow=True)\n",
        "\n",
        "ax[1].plot(history.history['accuracy'], color='b', label=\"Training accuracy\")\n",
        "ax[1].plot(history.history['val_accuracy'], color='r',label=\"Validation accuracy\")\n",
        "legend = ax[1].legend(loc='best', shadow=True)\n",
        "\n",
        "fig = plt.figure(figsize=(10, 10)) # Set Figure\n"
      ],
      "metadata": {
        "colab": {
          "base_uri": "https://localhost:8080/",
          "height": 609
        },
        "id": "hulDd-R2dhgU",
        "outputId": "7c1ff987-3ef4-4760-b9cf-38f8ed9d85a9"
      },
      "id": "hulDd-R2dhgU",
      "execution_count": 21,
      "outputs": [
        {
          "output_type": "display_data",
          "data": {
            "text/plain": [
              "<Figure size 1296x720 with 2 Axes>"
            ],
            "image/png": "[encoded data removed]"
          },
          "metadata": {
            "needs_background": "light"
          }
        },
        {
          "output_type": "display_data",
          "data": {
            "text/plain": [
              "<Figure size 720x720 with 0 Axes>"
            ]
          },
          "metadata": {}
        }
      ]
    },
    {
      "cell_type": "code",
      "source": [],
      "metadata": {
        "id": "DkYxu-q2djfL"
      },
      "id": "DkYxu-q2djfL",
      "execution_count": null,
      "outputs": []
    },
    {
      "cell_type": "code",
      "source": [],
      "metadata": {
        "id": "2o2jplsedl_j"
      },
      "id": "2o2jplsedl_j",
      "execution_count": null,
      "outputs": []
    },
    {
      "cell_type": "code",
      "execution_count": null,
      "metadata": {
        "id": "42b39dd8"
      },
      "outputs": [],
      "source": [
        "\n"
      ],
      "id": "42b39dd8"
    },
    {
      "cell_type": "code",
      "source": [],
      "metadata": {
        "id": "fLyq6OKpdo9V"
      },
      "id": "fLyq6OKpdo9V",
      "execution_count": null,
      "outputs": []
    },
    {
      "cell_type": "code",
      "source": [
        "#"
      ],
      "metadata": {
        "id": "JgPZzZhjdbns"
      },
      "id": "JgPZzZhjdbns",
      "execution_count": null,
      "outputs": []
    },
    {
      "cell_type": "code",
      "execution_count": null,
      "metadata": {
        "id": "6LKJFb-CBeF7"
      },
      "outputs": [],
      "source": [
        "\n"
      ],
      "id": "6LKJFb-CBeF7"
    },
    {
      "cell_type": "code",
      "source": [],
      "metadata": {
        "id": "IJ86BKiaRVXE"
      },
      "id": "IJ86BKiaRVXE",
      "execution_count": null,
      "outputs": []
    },
    {
      "cell_type": "code",
      "execution_count": null,
      "metadata": {
        "id": "87975895"
      },
      "outputs": [],
      "source": [],
      "id": "87975895"
    },
    {
      "cell_type": "code",
      "execution_count": null,
      "metadata": {
        "id": "33adcc08"
      },
      "outputs": [],
      "source": [],
      "id": "33adcc08"
    },
    {
      "cell_type": "code",
      "execution_count": null,
      "metadata": {
        "id": "6110ad98"
      },
      "outputs": [],
      "source": [],
      "id": "6110ad98"
    },
    {
      "cell_type": "code",
      "execution_count": null,
      "metadata": {
        "id": "dbf55004"
      },
      "outputs": [],
      "source": [],
      "id": "dbf55004"
    },
    {
      "cell_type": "code",
      "execution_count": null,
      "metadata": {
        "id": "b4dc6647"
      },
      "outputs": [],
      "source": [],
      "id": "b4dc6647"
    },
    {
      "cell_type": "code",
      "execution_count": null,
      "metadata": {
        "id": "d4a7fafd"
      },
      "outputs": [],
      "source": [],
      "id": "d4a7fafd"
    },
    {
      "cell_type": "code",
      "execution_count": null,
      "metadata": {
        "id": "0d84720e"
      },
      "outputs": [],
      "source": [],
      "id": "0d84720e"
    },
    {
      "cell_type": "code",
      "execution_count": null,
      "metadata": {
        "id": "c82eccd8"
      },
      "outputs": [],
      "source": [],
      "id": "c82eccd8"
    },
    {
      "cell_type": "code",
      "execution_count": null,
      "metadata": {
        "id": "ed429e75"
      },
      "outputs": [],
      "source": [],
      "id": "ed429e75"
    },
    {
      "cell_type": "code",
      "execution_count": null,
      "metadata": {
        "id": "1b39f10e"
      },
      "outputs": [],
      "source": [],
      "id": "1b39f10e"
    },
    {
      "cell_type": "code",
      "execution_count": null,
      "metadata": {
        "id": "eb4f2b91"
      },
      "outputs": [],
      "source": [],
      "id": "eb4f2b91"
    },
    {
      "cell_type": "code",
      "execution_count": null,
      "metadata": {
        "id": "cc56dcd2"
      },
      "outputs": [],
      "source": [],
      "id": "cc56dcd2"
    },
    {
      "cell_type": "code",
      "execution_count": null,
      "metadata": {
        "id": "5697396c"
      },
      "outputs": [],
      "source": [],
      "id": "5697396c"
    },
    {
      "cell_type": "code",
      "execution_count": null,
      "metadata": {
        "id": "44b639bf"
      },
      "outputs": [],
      "source": [],
      "id": "44b639bf"
    },
    {
      "cell_type": "code",
      "execution_count": null,
      "metadata": {
        "id": "1514bbb4"
      },
      "outputs": [],
      "source": [],
      "id": "1514bbb4"
    },
    {
      "cell_type": "code",
      "execution_count": null,
      "metadata": {
        "id": "c6cd2e25"
      },
      "outputs": [],
      "source": [],
      "id": "c6cd2e25"
    },
    {
      "cell_type": "code",
      "execution_count": null,
      "metadata": {
        "id": "6b3f8a2f"
      },
      "outputs": [],
      "source": [
        "\n"
      ],
      "id": "6b3f8a2f"
    },
    {
      "cell_type": "code",
      "execution_count": null,
      "metadata": {
        "id": "ef47d783"
      },
      "outputs": [],
      "source": [],
      "id": "ef47d783"
    },
    {
      "cell_type": "code",
      "execution_count": null,
      "metadata": {
        "id": "b26535ff"
      },
      "outputs": [],
      "source": [],
      "id": "b26535ff"
    },
    {
      "cell_type": "code",
      "execution_count": null,
      "metadata": {
        "id": "a92dba8f"
      },
      "outputs": [],
      "source": [],
      "id": "a92dba8f"
    },
    {
      "cell_type": "code",
      "execution_count": null,
      "metadata": {
        "id": "60ed42af"
      },
      "outputs": [],
      "source": [],
      "id": "60ed42af"
    },
    {
      "cell_type": "code",
      "execution_count": null,
      "metadata": {
        "id": "facf9601"
      },
      "outputs": [],
      "source": [],
      "id": "facf9601"
    },
    {
      "cell_type": "code",
      "execution_count": null,
      "metadata": {
        "id": "4a4d386d"
      },
      "outputs": [],
      "source": [],
      "id": "4a4d386d"
    },
    {
      "cell_type": "code",
      "execution_count": null,
      "metadata": {
        "id": "6e45bc89"
      },
      "outputs": [],
      "source": [],
      "id": "6e45bc89"
    },
    {
      "cell_type": "code",
      "execution_count": null,
      "metadata": {
        "id": "885c42fe"
      },
      "outputs": [],
      "source": [],
      "id": "885c42fe"
    },
    {
      "cell_type": "code",
      "execution_count": null,
      "metadata": {
        "id": "afedd52e"
      },
      "outputs": [],
      "source": [],
      "id": "afedd52e"
    },
    {
      "cell_type": "code",
      "execution_count": null,
      "metadata": {
        "id": "2372c450"
      },
      "outputs": [],
      "source": [],
      "id": "2372c450"
    },
    {
      "cell_type": "code",
      "execution_count": null,
      "metadata": {
        "id": "191284d4"
      },
      "outputs": [],
      "source": [],
      "id": "191284d4"
    },
    {
      "cell_type": "code",
      "execution_count": null,
      "metadata": {
        "id": "cf382667"
      },
      "outputs": [],
      "source": [],
      "id": "cf382667"
    },
    {
      "cell_type": "code",
      "execution_count": null,
      "metadata": {
        "id": "99cd2687"
      },
      "outputs": [],
      "source": [],
      "id": "99cd2687"
    },
    {
      "cell_type": "code",
      "execution_count": null,
      "metadata": {
        "id": "fb44b6be"
      },
      "outputs": [],
      "source": [],
      "id": "fb44b6be"
    },
    {
      "cell_type": "code",
      "execution_count": null,
      "metadata": {
        "id": "881b3b1a"
      },
      "outputs": [],
      "source": [],
      "id": "881b3b1a"
    },
    {
      "cell_type": "code",
      "execution_count": null,
      "metadata": {
        "id": "c81296a5"
      },
      "outputs": [],
      "source": [],
      "id": "c81296a5"
    },
    {
      "cell_type": "code",
      "execution_count": null,
      "metadata": {
        "id": "74931bd8"
      },
      "outputs": [],
      "source": [],
      "id": "74931bd8"
    },
    {
      "cell_type": "code",
      "execution_count": null,
      "metadata": {
        "id": "fd2df2c7"
      },
      "outputs": [],
      "source": [],
      "id": "fd2df2c7"
    },
    {
      "cell_type": "code",
      "execution_count": null,
      "metadata": {
        "id": "99a2622b"
      },
      "outputs": [],
      "source": [],
      "id": "99a2622b"
    },
    {
      "cell_type": "code",
      "execution_count": null,
      "metadata": {
        "id": "7ae0ff4a"
      },
      "outputs": [],
      "source": [],
      "id": "7ae0ff4a"
    },
    {
      "cell_type": "code",
      "execution_count": null,
      "metadata": {
        "id": "ee110114"
      },
      "outputs": [],
      "source": [],
      "id": "ee110114"
    },
    {
      "cell_type": "code",
      "execution_count": null,
      "metadata": {
        "id": "2086fde7"
      },
      "outputs": [],
      "source": [],
      "id": "2086fde7"
    },
    {
      "cell_type": "code",
      "execution_count": null,
      "metadata": {
        "id": "a98d61d4"
      },
      "outputs": [],
      "source": [],
      "id": "a98d61d4"
    },
    {
      "cell_type": "code",
      "execution_count": null,
      "metadata": {
        "id": "6dc7aeae"
      },
      "outputs": [],
      "source": [],
      "id": "6dc7aeae"
    },
    {
      "cell_type": "code",
      "execution_count": null,
      "metadata": {
        "id": "04c0d8b0"
      },
      "outputs": [],
      "source": [
        "\n"
      ],
      "id": "04c0d8b0"
    },
    {
      "cell_type": "code",
      "execution_count": null,
      "metadata": {
        "id": "2c80e57e"
      },
      "outputs": [],
      "source": [],
      "id": "2c80e57e"
    },
    {
      "cell_type": "code",
      "execution_count": null,
      "metadata": {
        "id": "861e78ca"
      },
      "outputs": [],
      "source": [],
      "id": "861e78ca"
    },
    {
      "cell_type": "code",
      "execution_count": null,
      "metadata": {
        "id": "62e03596"
      },
      "outputs": [],
      "source": [],
      "id": "62e03596"
    },
    {
      "cell_type": "code",
      "execution_count": null,
      "metadata": {
        "id": "486d993a"
      },
      "outputs": [],
      "source": [],
      "id": "486d993a"
    },
    {
      "cell_type": "code",
      "execution_count": null,
      "metadata": {
        "id": "433607ea"
      },
      "outputs": [],
      "source": [
        "#"
      ],
      "id": "433607ea"
    },
    {
      "cell_type": "code",
      "execution_count": null,
      "metadata": {
        "id": "4a0500e2"
      },
      "outputs": [],
      "source": [
        "#"
      ],
      "id": "4a0500e2"
    },
    {
      "cell_type": "code",
      "execution_count": null,
      "metadata": {
        "id": "7b4c5306"
      },
      "outputs": [],
      "source": [],
      "id": "7b4c5306"
    },
    {
      "cell_type": "code",
      "execution_count": null,
      "metadata": {
        "id": "f481cd13"
      },
      "outputs": [],
      "source": [],
      "id": "f481cd13"
    },
    {
      "cell_type": "code",
      "execution_count": null,
      "metadata": {
        "id": "a5be39e4"
      },
      "outputs": [],
      "source": [],
      "id": "a5be39e4"
    }
  ],
  "metadata": {
    "accelerator": "GPU",
    "colab": {
      "provenance": []
    },
    "gpuClass": "standard",
    "kernelspec": {
      "display_name": "Python 3 (ipykernel)",
      "language": "python",
      "name": "python3"
    },
    "language_info": {
      "codemirror_mode": {
        "name": "ipython",
        "version": 3
      },
      "file_extension": ".py",
      "mimetype": "text/x-python",
      "name": "python",
      "nbconvert_exporter": "python",
      "pygments_lexer": "ipython3",
      "version": "3.9.12"
    }
  },
  "nbformat": 4,
  "nbformat_minor": 5
}