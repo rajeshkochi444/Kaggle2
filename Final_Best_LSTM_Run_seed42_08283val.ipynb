{
  "cells": [
    {
      "cell_type": "code",
      "execution_count": null,
      "metadata": {
        "colab": {
          "base_uri": "https://localhost:8080/"
        },
        "id": "f21c86ac",
        "outputId": "856111d1-f204-4a35-bf3f-a1a66cf24d1f"
      },
      "outputs": [
        {
          "output_type": "stream",
          "name": "stderr",
          "text": [
            "[nltk_data] Downloading package punkt to /root/nltk_data...\n",
            "[nltk_data]   Unzipping tokenizers/punkt.zip.\n",
            "[nltk_data] Downloading package averaged_perceptron_tagger to\n",
            "[nltk_data]     /root/nltk_data...\n",
            "[nltk_data]   Unzipping taggers/averaged_perceptron_tagger.zip.\n",
            "[nltk_data] Downloading package wordnet to /root/nltk_data...\n",
            "[nltk_data] Downloading package omw-1.4 to /root/nltk_data...\n",
            "[nltk_data] Downloading collection 'all'\n",
            "[nltk_data]    | \n",
            "[nltk_data]    | Downloading package abc to /root/nltk_data...\n",
            "[nltk_data]    |   Unzipping corpora/abc.zip.\n",
            "[nltk_data]    | Downloading package alpino to /root/nltk_data...\n",
            "[nltk_data]    |   Unzipping corpora/alpino.zip.\n",
            "[nltk_data]    | Downloading package averaged_perceptron_tagger to\n",
            "[nltk_data]    |     /root/nltk_data...\n",
            "[nltk_data]    |   Package averaged_perceptron_tagger is already up-\n",
            "[nltk_data]    |       to-date!\n",
            "[nltk_data]    | Downloading package averaged_perceptron_tagger_ru to\n",
            "[nltk_data]    |     /root/nltk_data...\n",
            "[nltk_data]    |   Unzipping\n",
            "[nltk_data]    |       taggers/averaged_perceptron_tagger_ru.zip.\n",
            "[nltk_data]    | Downloading package basque_grammars to\n",
            "[nltk_data]    |     /root/nltk_data...\n",
            "[nltk_data]    |   Unzipping grammars/basque_grammars.zip.\n",
            "[nltk_data]    | Downloading package bcp47 to /root/nltk_data...\n",
            "[nltk_data]    | Downloading package biocreative_ppi to\n",
            "[nltk_data]    |     /root/nltk_data...\n",
            "[nltk_data]    |   Unzipping corpora/biocreative_ppi.zip.\n",
            "[nltk_data]    | Downloading package bllip_wsj_no_aux to\n",
            "[nltk_data]    |     /root/nltk_data...\n",
            "[nltk_data]    |   Unzipping models/bllip_wsj_no_aux.zip.\n",
            "[nltk_data]    | Downloading package book_grammars to\n",
            "[nltk_data]    |     /root/nltk_data...\n",
            "[nltk_data]    |   Unzipping grammars/book_grammars.zip.\n",
            "[nltk_data]    | Downloading package brown to /root/nltk_data...\n",
            "[nltk_data]    |   Unzipping corpora/brown.zip.\n",
            "[nltk_data]    | Downloading package brown_tei to /root/nltk_data...\n",
            "[nltk_data]    |   Unzipping corpora/brown_tei.zip.\n",
            "[nltk_data]    | Downloading package cess_cat to /root/nltk_data...\n",
            "[nltk_data]    |   Unzipping corpora/cess_cat.zip.\n",
            "[nltk_data]    | Downloading package cess_esp to /root/nltk_data...\n",
            "[nltk_data]    |   Unzipping corpora/cess_esp.zip.\n",
            "[nltk_data]    | Downloading package chat80 to /root/nltk_data...\n",
            "[nltk_data]    |   Unzipping corpora/chat80.zip.\n",
            "[nltk_data]    | Downloading package city_database to\n",
            "[nltk_data]    |     /root/nltk_data...\n",
            "[nltk_data]    |   Unzipping corpora/city_database.zip.\n",
            "[nltk_data]    | Downloading package cmudict to /root/nltk_data...\n",
            "[nltk_data]    |   Unzipping corpora/cmudict.zip.\n",
            "[nltk_data]    | Downloading package comparative_sentences to\n",
            "[nltk_data]    |     /root/nltk_data...\n",
            "[nltk_data]    |   Unzipping corpora/comparative_sentences.zip.\n",
            "[nltk_data]    | Downloading package comtrans to /root/nltk_data...\n",
            "[nltk_data]    | Downloading package conll2000 to /root/nltk_data...\n",
            "[nltk_data]    |   Unzipping corpora/conll2000.zip.\n",
            "[nltk_data]    | Downloading package conll2002 to /root/nltk_data...\n",
            "[nltk_data]    |   Unzipping corpora/conll2002.zip.\n",
            "[nltk_data]    | Downloading package conll2007 to /root/nltk_data...\n",
            "[nltk_data]    | Downloading package crubadan to /root/nltk_data...\n",
            "[nltk_data]    |   Unzipping corpora/crubadan.zip.\n",
            "[nltk_data]    | Downloading package dependency_treebank to\n",
            "[nltk_data]    |     /root/nltk_data...\n",
            "[nltk_data]    |   Unzipping corpora/dependency_treebank.zip.\n",
            "[nltk_data]    | Downloading package dolch to /root/nltk_data...\n",
            "[nltk_data]    |   Unzipping corpora/dolch.zip.\n",
            "[nltk_data]    | Downloading package europarl_raw to\n",
            "[nltk_data]    |     /root/nltk_data...\n",
            "[nltk_data]    |   Unzipping corpora/europarl_raw.zip.\n",
            "[nltk_data]    | Downloading package extended_omw to\n",
            "[nltk_data]    |     /root/nltk_data...\n",
            "[nltk_data]    | Downloading package floresta to /root/nltk_data...\n",
            "[nltk_data]    |   Unzipping corpora/floresta.zip.\n",
            "[nltk_data]    | Downloading package framenet_v15 to\n",
            "[nltk_data]    |     /root/nltk_data...\n",
            "[nltk_data]    |   Unzipping corpora/framenet_v15.zip.\n",
            "[nltk_data]    | Downloading package framenet_v17 to\n",
            "[nltk_data]    |     /root/nltk_data...\n",
            "[nltk_data]    |   Unzipping corpora/framenet_v17.zip.\n",
            "[nltk_data]    | Downloading package gazetteers to /root/nltk_data...\n",
            "[nltk_data]    |   Unzipping corpora/gazetteers.zip.\n",
            "[nltk_data]    | Downloading package genesis to /root/nltk_data...\n",
            "[nltk_data]    |   Unzipping corpora/genesis.zip.\n",
            "[nltk_data]    | Downloading package gutenberg to /root/nltk_data...\n",
            "[nltk_data]    |   Unzipping corpora/gutenberg.zip.\n",
            "[nltk_data]    | Downloading package ieer to /root/nltk_data...\n",
            "[nltk_data]    |   Unzipping corpora/ieer.zip.\n",
            "[nltk_data]    | Downloading package inaugural to /root/nltk_data...\n",
            "[nltk_data]    |   Unzipping corpora/inaugural.zip.\n",
            "[nltk_data]    | Downloading package indian to /root/nltk_data...\n",
            "[nltk_data]    |   Unzipping corpora/indian.zip.\n",
            "[nltk_data]    | Downloading package jeita to /root/nltk_data...\n",
            "[nltk_data]    | Downloading package kimmo to /root/nltk_data...\n",
            "[nltk_data]    |   Unzipping corpora/kimmo.zip.\n",
            "[nltk_data]    | Downloading package knbc to /root/nltk_data...\n",
            "[nltk_data]    | Downloading package large_grammars to\n",
            "[nltk_data]    |     /root/nltk_data...\n",
            "[nltk_data]    |   Unzipping grammars/large_grammars.zip.\n",
            "[nltk_data]    | Downloading package lin_thesaurus to\n",
            "[nltk_data]    |     /root/nltk_data...\n",
            "[nltk_data]    |   Unzipping corpora/lin_thesaurus.zip.\n",
            "[nltk_data]    | Downloading package mac_morpho to /root/nltk_data...\n",
            "[nltk_data]    |   Unzipping corpora/mac_morpho.zip.\n",
            "[nltk_data]    | Downloading package machado to /root/nltk_data...\n",
            "[nltk_data]    | Downloading package masc_tagged to /root/nltk_data...\n",
            "[nltk_data]    | Downloading package maxent_ne_chunker to\n",
            "[nltk_data]    |     /root/nltk_data...\n",
            "[nltk_data]    |   Unzipping chunkers/maxent_ne_chunker.zip.\n",
            "[nltk_data]    | Downloading package maxent_treebank_pos_tagger to\n",
            "[nltk_data]    |     /root/nltk_data...\n",
            "[nltk_data]    |   Unzipping taggers/maxent_treebank_pos_tagger.zip.\n",
            "[nltk_data]    | Downloading package moses_sample to\n",
            "[nltk_data]    |     /root/nltk_data...\n",
            "[nltk_data]    |   Unzipping models/moses_sample.zip.\n",
            "[nltk_data]    | Downloading package movie_reviews to\n",
            "[nltk_data]    |     /root/nltk_data...\n",
            "[nltk_data]    |   Unzipping corpora/movie_reviews.zip.\n",
            "[nltk_data]    | Downloading package mte_teip5 to /root/nltk_data...\n",
            "[nltk_data]    |   Unzipping corpora/mte_teip5.zip.\n",
            "[nltk_data]    | Downloading package mwa_ppdb to /root/nltk_data...\n",
            "[nltk_data]    |   Unzipping misc/mwa_ppdb.zip.\n",
            "[nltk_data]    | Downloading package names to /root/nltk_data...\n",
            "[nltk_data]    |   Unzipping corpora/names.zip.\n",
            "[nltk_data]    | Downloading package nombank.1.0 to /root/nltk_data...\n",
            "[nltk_data]    | Downloading package nonbreaking_prefixes to\n",
            "[nltk_data]    |     /root/nltk_data...\n",
            "[nltk_data]    |   Unzipping corpora/nonbreaking_prefixes.zip.\n",
            "[nltk_data]    | Downloading package nps_chat to /root/nltk_data...\n",
            "[nltk_data]    |   Unzipping corpora/nps_chat.zip.\n",
            "[nltk_data]    | Downloading package omw to /root/nltk_data...\n",
            "[nltk_data]    | Downloading package omw-1.4 to /root/nltk_data...\n",
            "[nltk_data]    |   Package omw-1.4 is already up-to-date!\n",
            "[nltk_data]    | Downloading package opinion_lexicon to\n",
            "[nltk_data]    |     /root/nltk_data...\n",
            "[nltk_data]    |   Unzipping corpora/opinion_lexicon.zip.\n",
            "[nltk_data]    | Downloading package panlex_swadesh to\n",
            "[nltk_data]    |     /root/nltk_data...\n",
            "[nltk_data]    | Downloading package paradigms to /root/nltk_data...\n",
            "[nltk_data]    |   Unzipping corpora/paradigms.zip.\n",
            "[nltk_data]    | Downloading package pe08 to /root/nltk_data...\n",
            "[nltk_data]    |   Unzipping corpora/pe08.zip.\n",
            "[nltk_data]    | Downloading package perluniprops to\n",
            "[nltk_data]    |     /root/nltk_data...\n",
            "[nltk_data]    |   Unzipping misc/perluniprops.zip.\n",
            "[nltk_data]    | Downloading package pil to /root/nltk_data...\n",
            "[nltk_data]    |   Unzipping corpora/pil.zip.\n",
            "[nltk_data]    | Downloading package pl196x to /root/nltk_data...\n",
            "[nltk_data]    |   Unzipping corpora/pl196x.zip.\n",
            "[nltk_data]    | Downloading package porter_test to /root/nltk_data...\n",
            "[nltk_data]    |   Unzipping stemmers/porter_test.zip.\n",
            "[nltk_data]    | Downloading package ppattach to /root/nltk_data...\n",
            "[nltk_data]    |   Unzipping corpora/ppattach.zip.\n",
            "[nltk_data]    | Downloading package problem_reports to\n",
            "[nltk_data]    |     /root/nltk_data...\n",
            "[nltk_data]    |   Unzipping corpora/problem_reports.zip.\n",
            "[nltk_data]    | Downloading package product_reviews_1 to\n",
            "[nltk_data]    |     /root/nltk_data...\n",
            "[nltk_data]    |   Unzipping corpora/product_reviews_1.zip.\n",
            "[nltk_data]    | Downloading package product_reviews_2 to\n",
            "[nltk_data]    |     /root/nltk_data...\n",
            "[nltk_data]    |   Unzipping corpora/product_reviews_2.zip.\n",
            "[nltk_data]    | Downloading package propbank to /root/nltk_data...\n",
            "[nltk_data]    | Downloading package pros_cons to /root/nltk_data...\n",
            "[nltk_data]    |   Unzipping corpora/pros_cons.zip.\n",
            "[nltk_data]    | Downloading package ptb to /root/nltk_data...\n",
            "[nltk_data]    |   Unzipping corpora/ptb.zip.\n",
            "[nltk_data]    | Downloading package punkt to /root/nltk_data...\n",
            "[nltk_data]    |   Package punkt is already up-to-date!\n",
            "[nltk_data]    | Downloading package qc to /root/nltk_data...\n",
            "[nltk_data]    |   Unzipping corpora/qc.zip.\n",
            "[nltk_data]    | Downloading package reuters to /root/nltk_data...\n",
            "[nltk_data]    | Downloading package rslp to /root/nltk_data...\n",
            "[nltk_data]    |   Unzipping stemmers/rslp.zip.\n",
            "[nltk_data]    | Downloading package rte to /root/nltk_data...\n",
            "[nltk_data]    |   Unzipping corpora/rte.zip.\n",
            "[nltk_data]    | Downloading package sample_grammars to\n",
            "[nltk_data]    |     /root/nltk_data...\n",
            "[nltk_data]    |   Unzipping grammars/sample_grammars.zip.\n",
            "[nltk_data]    | Downloading package semcor to /root/nltk_data...\n",
            "[nltk_data]    | Downloading package senseval to /root/nltk_data...\n",
            "[nltk_data]    |   Unzipping corpora/senseval.zip.\n",
            "[nltk_data]    | Downloading package sentence_polarity to\n",
            "[nltk_data]    |     /root/nltk_data...\n",
            "[nltk_data]    |   Unzipping corpora/sentence_polarity.zip.\n",
            "[nltk_data]    | Downloading package sentiwordnet to\n",
            "[nltk_data]    |     /root/nltk_data...\n",
            "[nltk_data]    |   Unzipping corpora/sentiwordnet.zip.\n",
            "[nltk_data]    | Downloading package shakespeare to /root/nltk_data...\n",
            "[nltk_data]    |   Unzipping corpora/shakespeare.zip.\n",
            "[nltk_data]    | Downloading package sinica_treebank to\n",
            "[nltk_data]    |     /root/nltk_data...\n",
            "[nltk_data]    |   Unzipping corpora/sinica_treebank.zip.\n",
            "[nltk_data]    | Downloading package smultron to /root/nltk_data...\n",
            "[nltk_data]    |   Unzipping corpora/smultron.zip.\n",
            "[nltk_data]    | Downloading package snowball_data to\n",
            "[nltk_data]    |     /root/nltk_data...\n",
            "[nltk_data]    | Downloading package spanish_grammars to\n",
            "[nltk_data]    |     /root/nltk_data...\n",
            "[nltk_data]    |   Unzipping grammars/spanish_grammars.zip.\n",
            "[nltk_data]    | Downloading package state_union to /root/nltk_data...\n",
            "[nltk_data]    |   Unzipping corpora/state_union.zip.\n",
            "[nltk_data]    | Downloading package stopwords to /root/nltk_data...\n",
            "[nltk_data]    |   Unzipping corpora/stopwords.zip.\n",
            "[nltk_data]    | Downloading package subjectivity to\n",
            "[nltk_data]    |     /root/nltk_data...\n",
            "[nltk_data]    |   Unzipping corpora/subjectivity.zip.\n",
            "[nltk_data]    | Downloading package swadesh to /root/nltk_data...\n",
            "[nltk_data]    |   Unzipping corpora/swadesh.zip.\n",
            "[nltk_data]    | Downloading package switchboard to /root/nltk_data...\n",
            "[nltk_data]    |   Unzipping corpora/switchboard.zip.\n",
            "[nltk_data]    | Downloading package tagsets to /root/nltk_data...\n",
            "[nltk_data]    |   Unzipping help/tagsets.zip.\n",
            "[nltk_data]    | Downloading package timit to /root/nltk_data...\n",
            "[nltk_data]    |   Unzipping corpora/timit.zip.\n",
            "[nltk_data]    | Downloading package toolbox to /root/nltk_data...\n",
            "[nltk_data]    |   Unzipping corpora/toolbox.zip.\n",
            "[nltk_data]    | Downloading package treebank to /root/nltk_data...\n",
            "[nltk_data]    |   Unzipping corpora/treebank.zip.\n",
            "[nltk_data]    | Downloading package twitter_samples to\n",
            "[nltk_data]    |     /root/nltk_data...\n",
            "[nltk_data]    |   Unzipping corpora/twitter_samples.zip.\n",
            "[nltk_data]    | Downloading package udhr to /root/nltk_data...\n",
            "[nltk_data]    |   Unzipping corpora/udhr.zip.\n",
            "[nltk_data]    | Downloading package udhr2 to /root/nltk_data...\n",
            "[nltk_data]    |   Unzipping corpora/udhr2.zip.\n",
            "[nltk_data]    | Downloading package unicode_samples to\n",
            "[nltk_data]    |     /root/nltk_data...\n",
            "[nltk_data]    |   Unzipping corpora/unicode_samples.zip.\n",
            "[nltk_data]    | Downloading package universal_tagset to\n",
            "[nltk_data]    |     /root/nltk_data...\n",
            "[nltk_data]    |   Unzipping taggers/universal_tagset.zip.\n",
            "[nltk_data]    | Downloading package universal_treebanks_v20 to\n",
            "[nltk_data]    |     /root/nltk_data...\n",
            "[nltk_data]    | Downloading package vader_lexicon to\n",
            "[nltk_data]    |     /root/nltk_data...\n",
            "[nltk_data]    | Downloading package verbnet to /root/nltk_data...\n",
            "[nltk_data]    |   Unzipping corpora/verbnet.zip.\n",
            "[nltk_data]    | Downloading package verbnet3 to /root/nltk_data...\n",
            "[nltk_data]    |   Unzipping corpora/verbnet3.zip.\n",
            "[nltk_data]    | Downloading package webtext to /root/nltk_data...\n",
            "[nltk_data]    |   Unzipping corpora/webtext.zip.\n",
            "[nltk_data]    | Downloading package wmt15_eval to /root/nltk_data...\n",
            "[nltk_data]    |   Unzipping models/wmt15_eval.zip.\n",
            "[nltk_data]    | Downloading package word2vec_sample to\n",
            "[nltk_data]    |     /root/nltk_data...\n",
            "[nltk_data]    |   Unzipping models/word2vec_sample.zip.\n",
            "[nltk_data]    | Downloading package wordnet to /root/nltk_data...\n",
            "[nltk_data]    |   Package wordnet is already up-to-date!\n",
            "[nltk_data]    | Downloading package wordnet2021 to /root/nltk_data...\n",
            "[nltk_data]    | Downloading package wordnet31 to /root/nltk_data...\n",
            "[nltk_data]    | Downloading package wordnet_ic to /root/nltk_data...\n",
            "[nltk_data]    |   Unzipping corpora/wordnet_ic.zip.\n",
            "[nltk_data]    | Downloading package words to /root/nltk_data...\n",
            "[nltk_data]    |   Unzipping corpora/words.zip.\n",
            "[nltk_data]    | Downloading package ycoe to /root/nltk_data...\n",
            "[nltk_data]    |   Unzipping corpora/ycoe.zip.\n",
            "[nltk_data]    | \n",
            "[nltk_data]  Done downloading collection all\n"
          ]
        },
        {
          "output_type": "execute_result",
          "data": {
            "text/plain": [
              "True"
            ]
          },
          "metadata": {},
          "execution_count": 1
        }
      ],
      "source": [
        "import pandas as pd\n",
        "import numpy as np\n",
        "#for text pre-processing\n",
        "import re, string\n",
        "import nltk\n",
        "from nltk.tokenize import word_tokenize\n",
        "from nltk.corpus import stopwords\n",
        "from nltk.tokenize import word_tokenize\n",
        "from nltk.stem import SnowballStemmer\n",
        "from nltk.corpus import wordnet\n",
        "from nltk.stem import WordNetLemmatizer\n",
        "nltk.download('punkt')\n",
        "nltk.download('averaged_perceptron_tagger')\n",
        "nltk.download('wordnet')\n",
        "nltk.download('omw-1.4')\n",
        "\n",
        "from sklearn.feature_extraction.text import TfidfVectorizer\n",
        "from sklearn.feature_extraction.text import CountVectorizer\n",
        "\n",
        "from sklearn.model_selection import train_test_split\n",
        "from sklearn.naive_bayes import MultinomialNB\n",
        "from sklearn.metrics import classification_report, f1_score, accuracy_score, confusion_matrix\n",
        "from sklearn.metrics import roc_curve, auc, roc_auc_score\n",
        "from sklearn.calibration import calibration_curve, CalibrationDisplay\n",
        "from sklearn import metrics\n",
        "from sklearn import feature_selection, model_selection, naive_bayes, pipeline, manifold, preprocessing\n",
        "\n",
        "## for plotting\n",
        "import matplotlib.pyplot as plt\n",
        "import seaborn as sns\n",
        "\n",
        "\n",
        "import gensim\n",
        "## for deep learning\n",
        "from tensorflow.keras import models, layers, preprocessing as kprocessing\n",
        "from tensorflow.keras import backend as K\n",
        "# Modeling\n",
        "from tensorflow.keras.models import Sequential\n",
        "from tensorflow.keras.layers import LSTM, GRU, Dense, Embedding, Dropout, GlobalAveragePooling1D, Flatten, SpatialDropout1D, Bidirectional\n",
        "## for bert language model\n",
        "#import transformers\n",
        "import nltk\n",
        "\n",
        "nltk.download('all')"
      ],
      "id": "f21c86ac"
    },
    {
      "cell_type": "code",
      "execution_count": null,
      "metadata": {
        "id": "Ziy3uYg0-OWq",
        "colab": {
          "base_uri": "https://localhost:8080/"
        },
        "outputId": "da9c90be-9434-4887-c216-6331c756422d"
      },
      "outputs": [
        {
          "output_type": "stream",
          "name": "stdout",
          "text": [
            "Mounted at /content/gdrive\n"
          ]
        }
      ],
      "source": [
        "from google.colab import drive \n",
        "drive.mount('/content/gdrive')"
      ],
      "id": "Ziy3uYg0-OWq"
    },
    {
      "cell_type": "code",
      "execution_count": null,
      "metadata": {
        "id": "R3KI_uoa_4Vw"
      },
      "outputs": [],
      "source": [
        "#df = pd.read_csv('/content/gdrive/MyDrive/Colab Notebooks/Kaggle/train_data.csv')\n",
        "train_X_Path = \"/content/gdrive/MyDrive/Colab Notebooks/Kaggle/train_data.csv\"\n",
        "train_Y_Path = \"/content/gdrive/MyDrive/Colab Notebooks/Kaggle/train_results.csv\"\n",
        "test_X_Path = \"/content/gdrive/MyDrive/Colab Notebooks/Kaggle/test_data.csv\""
      ],
      "id": "R3KI_uoa_4Vw"
    },
    {
      "cell_type": "code",
      "execution_count": null,
      "metadata": {
        "id": "D6A-Nrd5-VWf"
      },
      "outputs": [],
      "source": [
        "# Training data\n",
        "df = pd.read_csv(train_X_Path)\n",
        "# Dropping id column\n",
        "df.drop(['id'],axis=1,inplace=True)\n",
        "# Training labels\n",
        "df_train_Y = pd.read_csv(train_Y_Path)\n",
        "df_train_Y.head()\n",
        "# Dropping id column\n",
        "df_train_Y = df_train_Y.drop(columns=['id'],axis=1)\n",
        "# Converting categorical labels to numeric\n",
        "df_train_Y.target[df_train_Y.target == 'positive'] = 2\n",
        "df_train_Y.target[df_train_Y.target == 'negative'] = 0\n",
        "df_train_Y.target[df_train_Y.target == 'neutral'] = 1\n",
        "# combining text data and labels to one single dataframe\n",
        "df = pd.concat([df,df_train_Y],axis=1)"
      ],
      "id": "D6A-Nrd5-VWf"
    },
    {
      "cell_type": "code",
      "execution_count": null,
      "metadata": {
        "id": "a25d2018",
        "colab": {
          "base_uri": "https://localhost:8080/"
        },
        "outputId": "15a8dbc4-ef63-434b-fb68-40fcf64ea9ff"
      },
      "outputs": [
        {
          "output_type": "stream",
          "name": "stdout",
          "text": [
            "13156702\n"
          ]
        }
      ],
      "source": [
        "# Text Clean-Up\n",
        "\n",
        "#convert to lowercase, strip and remove punctuations\n",
        "def preprocess(text):\n",
        "    text = text.lower() \n",
        "    text=  text.strip()  \n",
        "    text=  re.compile('<.*?>').sub('', text) \n",
        "    text = re.compile('[%s]' % re.escape(string.punctuation)).sub(' ', text)  \n",
        "    text = re.sub('\\s+', ' ', text)  \n",
        "    text = re.sub(r'\\[[0-9]*\\]',' ',text) \n",
        "    text= re.sub(r'[^\\w\\s]', '', str(text).lower().strip())\n",
        "    text = re.sub(r'\\d',' ',text) \n",
        "    text = re.sub(r'\\s+',' ',text) \n",
        "    text = re.sub(r'https?://\\S+|www\\.\\S+', '', text) # Removes url\n",
        "    text = re.compile(r'<[^>]+>').sub('', text) #Removes HTML tags:\n",
        "    text = re.sub(r\"\\s+[a-zA-Z]\\s+\", ' ', text) # Single character removal\n",
        "    text = re.sub(r'\\s+', ' ', text) # Remove multiple spaces\n",
        "    return text\n",
        "\n",
        "# STOPWORD REMOVAL\n",
        "from nltk.corpus import stopwords\n",
        "stop = set(stopwords.words('english'))\n",
        "def remove_stopwords(str):\n",
        "    return \" \".join([word for word in str.split() if word not in stop])\n",
        "\n",
        "# Clean text without stop words removal\n",
        "df['clean_text'] = df['text'].map(lambda x: preprocess(x))\n",
        "#df['clean_text'] = df['clean_text'].map(lambda x: remove_stopwords(x))\n",
        "\n",
        "# Checking the status of clean text with stop words removed\n",
        "df['clean_text_len'] = df['clean_text'].apply(lambda x:len(str(x).split()))\n",
        "print(df['clean_text_len'].sum())\n",
        "df['clean_text_len'].describe()\n",
        "# removing samples with zero words\n",
        "no_text = df[df['clean_text_len']==0]\n",
        "df.drop(no_text.index,inplace=True)\n"
      ],
      "id": "a25d2018"
    },
    {
      "cell_type": "code",
      "execution_count": null,
      "metadata": {
        "id": "7689a2f4",
        "colab": {
          "base_uri": "https://localhost:8080/",
          "height": 424
        },
        "outputId": "0c5b6abe-37e3-4b15-b7fa-1a99e6addb44"
      },
      "outputs": [
        {
          "output_type": "execute_result",
          "data": {
            "text/plain": [
              "                Word  Frequency\n",
              "0                 to     368371\n",
              "1                the     341615\n",
              "2                 my     206635\n",
              "3                 it     198104\n",
              "4                and     197391\n",
              "...              ...        ...\n",
              "450421        michey          1\n",
              "450422        tudumo          1\n",
              "450423  faitaccompli          1\n",
              "450424          wnpn          1\n",
              "450425      jproudfo          1\n",
              "\n",
              "[450426 rows x 2 columns]"
            ],
            "text/html": [
              "\n",
              "  <div id=\"df-31097aae-1406-479b-be39-a85228f9a108\">\n",
              "    <div class=\"colab-df-container\">\n",
              "      <div>\n",
              "<style scoped>\n",
              "    .dataframe tbody tr th:only-of-type {\n",
              "        vertical-align: middle;\n",
              "    }\n",
              "\n",
              "    .dataframe tbody tr th {\n",
              "        vertical-align: top;\n",
              "    }\n",
              "\n",
              "    .dataframe thead th {\n",
              "        text-align: right;\n",
              "    }\n",
              "</style>\n",
              "<table border=\"1\" class=\"dataframe\">\n",
              "  <thead>\n",
              "    <tr style=\"text-align: right;\">\n",
              "      <th></th>\n",
              "      <th>Word</th>\n",
              "      <th>Frequency</th>\n",
              "    </tr>\n",
              "  </thead>\n",
              "  <tbody>\n",
              "    <tr>\n",
              "      <th>0</th>\n",
              "      <td>to</td>\n",
              "      <td>368371</td>\n",
              "    </tr>\n",
              "    <tr>\n",
              "      <th>1</th>\n",
              "      <td>the</td>\n",
              "      <td>341615</td>\n",
              "    </tr>\n",
              "    <tr>\n",
              "      <th>2</th>\n",
              "      <td>my</td>\n",
              "      <td>206635</td>\n",
              "    </tr>\n",
              "    <tr>\n",
              "      <th>3</th>\n",
              "      <td>it</td>\n",
              "      <td>198104</td>\n",
              "    </tr>\n",
              "    <tr>\n",
              "      <th>4</th>\n",
              "      <td>and</td>\n",
              "      <td>197391</td>\n",
              "    </tr>\n",
              "    <tr>\n",
              "      <th>...</th>\n",
              "      <td>...</td>\n",
              "      <td>...</td>\n",
              "    </tr>\n",
              "    <tr>\n",
              "      <th>450421</th>\n",
              "      <td>michey</td>\n",
              "      <td>1</td>\n",
              "    </tr>\n",
              "    <tr>\n",
              "      <th>450422</th>\n",
              "      <td>tudumo</td>\n",
              "      <td>1</td>\n",
              "    </tr>\n",
              "    <tr>\n",
              "      <th>450423</th>\n",
              "      <td>faitaccompli</td>\n",
              "      <td>1</td>\n",
              "    </tr>\n",
              "    <tr>\n",
              "      <th>450424</th>\n",
              "      <td>wnpn</td>\n",
              "      <td>1</td>\n",
              "    </tr>\n",
              "    <tr>\n",
              "      <th>450425</th>\n",
              "      <td>jproudfo</td>\n",
              "      <td>1</td>\n",
              "    </tr>\n",
              "  </tbody>\n",
              "</table>\n",
              "<p>450426 rows × 2 columns</p>\n",
              "</div>\n",
              "      <button class=\"colab-df-convert\" onclick=\"convertToInteractive('df-31097aae-1406-479b-be39-a85228f9a108')\"\n",
              "              title=\"Convert this dataframe to an interactive table.\"\n",
              "              style=\"display:none;\">\n",
              "        \n",
              "  <svg xmlns=\"http://www.w3.org/2000/svg\" height=\"24px\"viewBox=\"0 0 24 24\"\n",
              "       width=\"24px\">\n",
              "    <path d=\"M0 0h24v24H0V0z\" fill=\"none\"/>\n",
              "    <path d=\"M18.56 5.44l.94 2.06.94-2.06 2.06-.94-2.06-.94-.94-2.06-.94 2.06-2.06.94zm-11 1L8.5 8.5l.94-2.06 2.06-.94-2.06-.94L8.5 2.5l-.94 2.06-2.06.94zm10 10l.94 2.06.94-2.06 2.06-.94-2.06-.94-.94-2.06-.94 2.06-2.06.94z\"/><path d=\"M17.41 7.96l-1.37-1.37c-.4-.4-.92-.59-1.43-.59-.52 0-1.04.2-1.43.59L10.3 9.45l-7.72 7.72c-.78.78-.78 2.05 0 2.83L4 21.41c.39.39.9.59 1.41.59.51 0 1.02-.2 1.41-.59l7.78-7.78 2.81-2.81c.8-.78.8-2.07 0-2.86zM5.41 20L4 18.59l7.72-7.72 1.47 1.35L5.41 20z\"/>\n",
              "  </svg>\n",
              "      </button>\n",
              "      \n",
              "  <style>\n",
              "    .colab-df-container {\n",
              "      display:flex;\n",
              "      flex-wrap:wrap;\n",
              "      gap: 12px;\n",
              "    }\n",
              "\n",
              "    .colab-df-convert {\n",
              "      background-color: #E8F0FE;\n",
              "      border: none;\n",
              "      border-radius: 50%;\n",
              "      cursor: pointer;\n",
              "      display: none;\n",
              "      fill: #1967D2;\n",
              "      height: 32px;\n",
              "      padding: 0 0 0 0;\n",
              "      width: 32px;\n",
              "    }\n",
              "\n",
              "    .colab-df-convert:hover {\n",
              "      background-color: #E2EBFA;\n",
              "      box-shadow: 0px 1px 2px rgba(60, 64, 67, 0.3), 0px 1px 3px 1px rgba(60, 64, 67, 0.15);\n",
              "      fill: #174EA6;\n",
              "    }\n",
              "\n",
              "    [theme=dark] .colab-df-convert {\n",
              "      background-color: #3B4455;\n",
              "      fill: #D2E3FC;\n",
              "    }\n",
              "\n",
              "    [theme=dark] .colab-df-convert:hover {\n",
              "      background-color: #434B5C;\n",
              "      box-shadow: 0px 1px 3px 1px rgba(0, 0, 0, 0.15);\n",
              "      filter: drop-shadow(0px 1px 2px rgba(0, 0, 0, 0.3));\n",
              "      fill: #FFFFFF;\n",
              "    }\n",
              "  </style>\n",
              "\n",
              "      <script>\n",
              "        const buttonEl =\n",
              "          document.querySelector('#df-31097aae-1406-479b-be39-a85228f9a108 button.colab-df-convert');\n",
              "        buttonEl.style.display =\n",
              "          google.colab.kernel.accessAllowed ? 'block' : 'none';\n",
              "\n",
              "        async function convertToInteractive(key) {\n",
              "          const element = document.querySelector('#df-31097aae-1406-479b-be39-a85228f9a108');\n",
              "          const dataTable =\n",
              "            await google.colab.kernel.invokeFunction('convertToInteractive',\n",
              "                                                     [key], {});\n",
              "          if (!dataTable) return;\n",
              "\n",
              "          const docLinkHtml = 'Like what you see? Visit the ' +\n",
              "            '<a target=\"_blank\" href=https://colab.research.google.com/notebooks/data_table.ipynb>data table notebook</a>'\n",
              "            + ' to learn more about interactive tables.';\n",
              "          element.innerHTML = '';\n",
              "          dataTable['output_type'] = 'display_data';\n",
              "          await google.colab.output.renderOutput(dataTable, element);\n",
              "          const docLink = document.createElement('div');\n",
              "          docLink.innerHTML = docLinkHtml;\n",
              "          element.appendChild(docLink);\n",
              "        }\n",
              "      </script>\n",
              "    </div>\n",
              "  </div>\n",
              "  "
            ]
          },
          "metadata": {},
          "execution_count": 6
        }
      ],
      "source": [
        "new_df = df.clean_text.str.split(expand=True).stack().value_counts().reset_index()\n",
        " \n",
        "new_df.columns = ['Word', 'Frequency']\n",
        "\n",
        "new_df\n"
      ],
      "id": "7689a2f4"
    },
    {
      "cell_type": "code",
      "execution_count": null,
      "metadata": {
        "id": "ad1F7oJm9agM",
        "colab": {
          "base_uri": "https://localhost:8080/",
          "height": 206
        },
        "outputId": "9dc1bcdb-0383-4612-b6e5-5a3601ef1178"
      },
      "outputs": [
        {
          "output_type": "execute_result",
          "data": {
            "text/plain": [
              "                                                text target  \\\n",
              "0                  Anyway Im getting of for a while       2   \n",
              "1  My red, Apache isn't feelin too well this morn...      0   \n",
              "2  @danyelljoy you should be  its great. friday w...      2   \n",
              "3  its 11:30pm and i dont wanna sleep; so i debat...      2   \n",
              "4          Why does twitter eat my DM's?  Not happy       0   \n",
              "\n",
              "                                          clean_text  clean_text_len  \\\n",
              "0                     anyway im getting of for while               6   \n",
              "1  my red apache isn feelin too well this morning...              12   \n",
              "2  danyelljoy you should be its great friday will...              11   \n",
              "3  its pm and dont wanna sleep so debated with my...              22   \n",
              "4               why does twitter eat my dm not happy               8   \n",
              "\n",
              "                                              tokens  \n",
              "0              [anyway, im, getting, of, for, while]  \n",
              "1  [my, red, apache, isn, feelin, too, well, this...  \n",
              "2  [danyelljoy, you, should, be, its, great, frid...  \n",
              "3  [its, pm, and, dont, wanna, sleep, so, debated...  \n",
              "4      [why, does, twitter, eat, my, dm, not, happy]  "
            ],
            "text/html": [
              "\n",
              "  <div id=\"df-fa5b3587-524d-4593-ba6c-32e92e1f05c1\">\n",
              "    <div class=\"colab-df-container\">\n",
              "      <div>\n",
              "<style scoped>\n",
              "    .dataframe tbody tr th:only-of-type {\n",
              "        vertical-align: middle;\n",
              "    }\n",
              "\n",
              "    .dataframe tbody tr th {\n",
              "        vertical-align: top;\n",
              "    }\n",
              "\n",
              "    .dataframe thead th {\n",
              "        text-align: right;\n",
              "    }\n",
              "</style>\n",
              "<table border=\"1\" class=\"dataframe\">\n",
              "  <thead>\n",
              "    <tr style=\"text-align: right;\">\n",
              "      <th></th>\n",
              "      <th>text</th>\n",
              "      <th>target</th>\n",
              "      <th>clean_text</th>\n",
              "      <th>clean_text_len</th>\n",
              "      <th>tokens</th>\n",
              "    </tr>\n",
              "  </thead>\n",
              "  <tbody>\n",
              "    <tr>\n",
              "      <th>0</th>\n",
              "      <td>Anyway Im getting of for a while</td>\n",
              "      <td>2</td>\n",
              "      <td>anyway im getting of for while</td>\n",
              "      <td>6</td>\n",
              "      <td>[anyway, im, getting, of, for, while]</td>\n",
              "    </tr>\n",
              "    <tr>\n",
              "      <th>1</th>\n",
              "      <td>My red, Apache isn't feelin too well this morn...</td>\n",
              "      <td>0</td>\n",
              "      <td>my red apache isn feelin too well this morning...</td>\n",
              "      <td>12</td>\n",
              "      <td>[my, red, apache, isn, feelin, too, well, this...</td>\n",
              "    </tr>\n",
              "    <tr>\n",
              "      <th>2</th>\n",
              "      <td>@danyelljoy you should be  its great. friday w...</td>\n",
              "      <td>2</td>\n",
              "      <td>danyelljoy you should be its great friday will...</td>\n",
              "      <td>11</td>\n",
              "      <td>[danyelljoy, you, should, be, its, great, frid...</td>\n",
              "    </tr>\n",
              "    <tr>\n",
              "      <th>3</th>\n",
              "      <td>its 11:30pm and i dont wanna sleep; so i debat...</td>\n",
              "      <td>2</td>\n",
              "      <td>its pm and dont wanna sleep so debated with my...</td>\n",
              "      <td>22</td>\n",
              "      <td>[its, pm, and, dont, wanna, sleep, so, debated...</td>\n",
              "    </tr>\n",
              "    <tr>\n",
              "      <th>4</th>\n",
              "      <td>Why does twitter eat my DM's?  Not happy</td>\n",
              "      <td>0</td>\n",
              "      <td>why does twitter eat my dm not happy</td>\n",
              "      <td>8</td>\n",
              "      <td>[why, does, twitter, eat, my, dm, not, happy]</td>\n",
              "    </tr>\n",
              "  </tbody>\n",
              "</table>\n",
              "</div>\n",
              "      <button class=\"colab-df-convert\" onclick=\"convertToInteractive('df-fa5b3587-524d-4593-ba6c-32e92e1f05c1')\"\n",
              "              title=\"Convert this dataframe to an interactive table.\"\n",
              "              style=\"display:none;\">\n",
              "        \n",
              "  <svg xmlns=\"http://www.w3.org/2000/svg\" height=\"24px\"viewBox=\"0 0 24 24\"\n",
              "       width=\"24px\">\n",
              "    <path d=\"M0 0h24v24H0V0z\" fill=\"none\"/>\n",
              "    <path d=\"M18.56 5.44l.94 2.06.94-2.06 2.06-.94-2.06-.94-.94-2.06-.94 2.06-2.06.94zm-11 1L8.5 8.5l.94-2.06 2.06-.94-2.06-.94L8.5 2.5l-.94 2.06-2.06.94zm10 10l.94 2.06.94-2.06 2.06-.94-2.06-.94-.94-2.06-.94 2.06-2.06.94z\"/><path d=\"M17.41 7.96l-1.37-1.37c-.4-.4-.92-.59-1.43-.59-.52 0-1.04.2-1.43.59L10.3 9.45l-7.72 7.72c-.78.78-.78 2.05 0 2.83L4 21.41c.39.39.9.59 1.41.59.51 0 1.02-.2 1.41-.59l7.78-7.78 2.81-2.81c.8-.78.8-2.07 0-2.86zM5.41 20L4 18.59l7.72-7.72 1.47 1.35L5.41 20z\"/>\n",
              "  </svg>\n",
              "      </button>\n",
              "      \n",
              "  <style>\n",
              "    .colab-df-container {\n",
              "      display:flex;\n",
              "      flex-wrap:wrap;\n",
              "      gap: 12px;\n",
              "    }\n",
              "\n",
              "    .colab-df-convert {\n",
              "      background-color: #E8F0FE;\n",
              "      border: none;\n",
              "      border-radius: 50%;\n",
              "      cursor: pointer;\n",
              "      display: none;\n",
              "      fill: #1967D2;\n",
              "      height: 32px;\n",
              "      padding: 0 0 0 0;\n",
              "      width: 32px;\n",
              "    }\n",
              "\n",
              "    .colab-df-convert:hover {\n",
              "      background-color: #E2EBFA;\n",
              "      box-shadow: 0px 1px 2px rgba(60, 64, 67, 0.3), 0px 1px 3px 1px rgba(60, 64, 67, 0.15);\n",
              "      fill: #174EA6;\n",
              "    }\n",
              "\n",
              "    [theme=dark] .colab-df-convert {\n",
              "      background-color: #3B4455;\n",
              "      fill: #D2E3FC;\n",
              "    }\n",
              "\n",
              "    [theme=dark] .colab-df-convert:hover {\n",
              "      background-color: #434B5C;\n",
              "      box-shadow: 0px 1px 3px 1px rgba(0, 0, 0, 0.15);\n",
              "      filter: drop-shadow(0px 1px 2px rgba(0, 0, 0, 0.3));\n",
              "      fill: #FFFFFF;\n",
              "    }\n",
              "  </style>\n",
              "\n",
              "      <script>\n",
              "        const buttonEl =\n",
              "          document.querySelector('#df-fa5b3587-524d-4593-ba6c-32e92e1f05c1 button.colab-df-convert');\n",
              "        buttonEl.style.display =\n",
              "          google.colab.kernel.accessAllowed ? 'block' : 'none';\n",
              "\n",
              "        async function convertToInteractive(key) {\n",
              "          const element = document.querySelector('#df-fa5b3587-524d-4593-ba6c-32e92e1f05c1');\n",
              "          const dataTable =\n",
              "            await google.colab.kernel.invokeFunction('convertToInteractive',\n",
              "                                                     [key], {});\n",
              "          if (!dataTable) return;\n",
              "\n",
              "          const docLinkHtml = 'Like what you see? Visit the ' +\n",
              "            '<a target=\"_blank\" href=https://colab.research.google.com/notebooks/data_table.ipynb>data table notebook</a>'\n",
              "            + ' to learn more about interactive tables.';\n",
              "          element.innerHTML = '';\n",
              "          dataTable['output_type'] = 'display_data';\n",
              "          await google.colab.output.renderOutput(dataTable, element);\n",
              "          const docLink = document.createElement('div');\n",
              "          docLink.innerHTML = docLinkHtml;\n",
              "          element.appendChild(docLink);\n",
              "        }\n",
              "      </script>\n",
              "    </div>\n",
              "  </div>\n",
              "  "
            ]
          },
          "metadata": {},
          "execution_count": 7
        }
      ],
      "source": [
        "tokenizer=nltk.tokenize.RegexpTokenizer(r'\\w+')\n",
        "df['tokens'] = df['clean_text'].apply(lambda x:tokenizer.tokenize(x))\n",
        "df.head()"
      ],
      "id": "ad1F7oJm9agM"
    },
    {
      "cell_type": "code",
      "execution_count": null,
      "metadata": {
        "id": "ORbwv0Vx9tNT"
      },
      "outputs": [],
      "source": [
        "import gensim"
      ],
      "id": "ORbwv0Vx9tNT"
    },
    {
      "cell_type": "code",
      "execution_count": null,
      "metadata": {
        "id": "2071ced1"
      },
      "outputs": [],
      "source": [
        "# Label Encoding\n",
        "from sklearn import preprocessing\n",
        "\n",
        "label_encoder = preprocessing.LabelEncoder()\n",
        "  \n",
        "# Encode labels in column 'target'.\n",
        "df['target']= label_encoder.fit_transform(df['target'])\n",
        "y = df['target']\n",
        "\n",
        "X = df['clean_text']"
      ],
      "id": "2071ced1"
    },
    {
      "cell_type": "code",
      "execution_count": null,
      "metadata": {
        "id": "b0c19f81"
      },
      "outputs": [],
      "source": [
        "X_train, X_valid, y_train, y_valid = train_test_split(X, y, test_size = 0.20, random_state = 42)\n"
      ],
      "id": "b0c19f81"
    },
    {
      "cell_type": "code",
      "execution_count": null,
      "metadata": {
        "id": "fba645e7"
      },
      "outputs": [],
      "source": [
        "import tensorflow\n",
        "from tensorflow import keras\n",
        "from tensorflow.keras.preprocessing.text import Tokenizer\n",
        "from tensorflow.keras.preprocessing.sequence import pad_sequences\n",
        "\n",
        "max_len = df['clean_text_len'].max()\n",
        "#max_features = int(new_df.shape[0]/2)\n",
        "max_features = 50000"
      ],
      "id": "fba645e7"
    },
    {
      "cell_type": "code",
      "execution_count": null,
      "metadata": {
        "id": "1a28d148"
      },
      "outputs": [],
      "source": [
        "def Token_padding(data_train, data_test):\n",
        "\n",
        "  Tokens = Tokenizer(num_words = max_features, oov_token ='OOV')\n",
        "  Tokens.fit_on_texts(data_train)\n",
        "  #vocab_size = len(Tokens.word_index) + 1\n",
        "  encd_rev_train = Tokens.texts_to_sequences(data_train)\n",
        "  pad_sent_train = pad_sequences(encd_rev_train, maxlen=max_len, padding='post')\n",
        "\n",
        "  encd_rev_test = Tokens.texts_to_sequences(data_test)\n",
        "  pad_sent_test = pad_sequences(encd_rev_test, maxlen=max_len, padding='post')\n",
        "\n",
        "  return pad_sent_train, pad_sent_test"
      ],
      "id": "1a28d148"
    },
    {
      "cell_type": "code",
      "execution_count": null,
      "metadata": {
        "id": "e165619d",
        "colab": {
          "base_uri": "https://localhost:8080/"
        },
        "outputId": "ca174776-7d16-4399-e4c9-9013439e651b"
      },
      "outputs": [
        {
          "output_type": "stream",
          "name": "stdout",
          "text": [
            "(832258, 116) (208065, 116) (832258, 3) (208065, 3)\n"
          ]
        }
      ],
      "source": [
        "X_train_vector,  X_valid_vector = Token_padding(X_train, X_valid)\n",
        "\n",
        "Y_train = pd.get_dummies(y_train).values\n",
        "Y_valid = pd.get_dummies(y_valid).values\n",
        "\n",
        "print(X_train_vector.shape, X_valid_vector.shape, Y_train.shape,Y_valid.shape)"
      ],
      "id": "e165619d"
    },
    {
      "cell_type": "code",
      "execution_count": null,
      "metadata": {
        "id": "eaca144f",
        "colab": {
          "base_uri": "https://localhost:8080/"
        },
        "outputId": "753c77fc-b069-4ecd-e292-2d30687ebecf"
      },
      "outputs": [
        {
          "output_type": "stream",
          "name": "stdout",
          "text": [
            "Model: \"sequential\"\n",
            "_________________________________________________________________\n",
            " Layer (type)                Output Shape              Param #   \n",
            "=================================================================\n",
            " embedding (Embedding)       (None, 116, 300)          15000000  \n",
            "                                                                 \n",
            " bidirectional (Bidirectiona  (None, 128)              186880    \n",
            " l)                                                              \n",
            "                                                                 \n",
            " dropout (Dropout)           (None, 128)               0         \n",
            "                                                                 \n",
            " dense (Dense)               (None, 64)                8256      \n",
            "                                                                 \n",
            " dropout_1 (Dropout)         (None, 64)                0         \n",
            "                                                                 \n",
            " dense_1 (Dense)             (None, 3)                 195       \n",
            "                                                                 \n",
            "=================================================================\n",
            "Total params: 15,195,331\n",
            "Trainable params: 15,195,331\n",
            "Non-trainable params: 0\n",
            "_________________________________________________________________\n",
            "Epoch 1/100\n",
            "6503/6503 [==============================] - 166s 24ms/step - loss: 0.4408 - accuracy: 0.7992 - val_loss: 0.4146 - val_accuracy: 0.8107\n",
            "Epoch 2/100\n",
            "6503/6503 [==============================] - 154s 24ms/step - loss: 0.3981 - accuracy: 0.8267 - val_loss: 0.4098 - val_accuracy: 0.8248\n",
            "Epoch 3/100\n",
            "6503/6503 [==============================] - 150s 23ms/step - loss: 0.3835 - accuracy: 0.8369 - val_loss: 0.4086 - val_accuracy: 0.8177\n",
            "Epoch 4/100\n",
            "6503/6503 [==============================] - 153s 24ms/step - loss: 0.3734 - accuracy: 0.8440 - val_loss: 0.3986 - val_accuracy: 0.8270\n",
            "Epoch 5/100\n",
            "6503/6503 [==============================] - 151s 23ms/step - loss: 0.3637 - accuracy: 0.8498 - val_loss: 0.4016 - val_accuracy: 0.8283\n",
            "Epoch 6/100\n",
            "6503/6503 [==============================] - 154s 24ms/step - loss: 0.3558 - accuracy: 0.8553 - val_loss: 0.4164 - val_accuracy: 0.8242\n",
            "Epoch 7/100\n",
            "6503/6503 [==============================] - 153s 24ms/step - loss: 0.3491 - accuracy: 0.8604 - val_loss: 0.4388 - val_accuracy: 0.8258\n",
            "Epoch 8/100\n",
            "6503/6503 [==============================] - 153s 24ms/step - loss: 0.3413 - accuracy: 0.8650 - val_loss: 0.4245 - val_accuracy: 0.8242\n",
            "Epoch 9/100\n",
            "6503/6503 [==============================] - 156s 24ms/step - loss: 0.3334 - accuracy: 0.8698 - val_loss: 0.4506 - val_accuracy: 0.8232\n",
            "Epoch 10/100\n",
            "6503/6503 [==============================] - ETA: 0s - loss: 0.3257 - accuracy: 0.8744Restoring model weights from the end of the best epoch: 5.\n",
            "6503/6503 [==============================] - 152s 23ms/step - loss: 0.3257 - accuracy: 0.8744 - val_loss: 0.4488 - val_accuracy: 0.8219\n",
            "Epoch 10: early stopping\n"
          ]
        }
      ],
      "source": [
        "import tensorflow as tf\n",
        "\n",
        "embed_dim = 300\n",
        "\n",
        "model_LSTM = tf.keras.Sequential([\n",
        "    tf.keras.layers.Embedding(max_features, embed_dim, input_length=max_len),\n",
        "    tf.keras.layers.Bidirectional(tf.keras.layers.LSTM(64)),\n",
        "    #tf.keras.layers.LSTM(32),\n",
        "    tf.keras.layers.Dropout(0.5),\n",
        "    #tf.keras.layers.Dense(512, activation='relu'),\n",
        "    tf.keras.layers.Dense(64, activation='relu'),\n",
        "    tf.keras.layers.Dropout(0.5),\n",
        "    tf.keras.layers.Dense(3, activation='softmax')\n",
        "])\n",
        "model_LSTM.summary()\n",
        "\n",
        "opt = keras.optimizers.RMSprop(learning_rate=0.001)\n",
        "model_LSTM.compile(loss='categorical_crossentropy', optimizer=opt, metrics=['accuracy'])\n",
        "\n",
        "epochs = 100\n",
        "batch_size = 128\n",
        "\n",
        "es = keras.callbacks.EarlyStopping(\n",
        "        monitor=\"val_accuracy\", # metrics to monitor\n",
        "        patience=5, # how many epochs before stop\n",
        "        verbose=1,\n",
        "        mode=\"max\", # we need the maximum accuracy.\n",
        "        restore_best_weights=True)\n",
        "history = model_LSTM.fit(X_train_vector, Y_train, \n",
        "                    epochs = epochs, \n",
        "                    batch_size=batch_size,\n",
        "                    validation_data = (X_valid_vector, Y_valid),\n",
        "                    shuffle = True,\n",
        "                    callbacks=[es])\n"
      ],
      "id": "eaca144f"
    },
    {
      "cell_type": "code",
      "execution_count": null,
      "metadata": {
        "id": "f41823c8",
        "colab": {
          "base_uri": "https://localhost:8080/",
          "height": 609
        },
        "outputId": "8d9c7a57-2976-49c9-cfdb-b6a3407b932a"
      },
      "outputs": [
        {
          "output_type": "display_data",
          "data": {
            "text/plain": [
              "<Figure size 1296x720 with 2 Axes>"
            ],
            "image/png": "[encoded data removed]"
          },
          "metadata": {
            "needs_background": "light"
          }
        },
        {
          "output_type": "display_data",
          "data": {
            "text/plain": [
              "<Figure size 720x720 with 0 Axes>"
            ]
          },
          "metadata": {}
        }
      ],
      "source": [
        "# Plot the loss and accuracy curves for training and validation \n",
        "fig, ax = plt.subplots(2,1, figsize=(18, 10))\n",
        "ax[0].plot(history.history['loss'], color='b', label=\"Training loss\")\n",
        "ax[0].plot(history.history['val_loss'], color='r', label=\"validation loss\",axes =ax[0])\n",
        "legend = ax[0].legend(loc='best', shadow=True)\n",
        "\n",
        "ax[1].plot(history.history['accuracy'], color='b', label=\"Training accuracy\")\n",
        "ax[1].plot(history.history['val_accuracy'], color='r',label=\"Validation accuracy\")\n",
        "legend = ax[1].legend(loc='best', shadow=True)\n",
        "\n",
        "fig = plt.figure(figsize=(10, 10)) # Set Figure"
      ],
      "id": "f41823c8"
    },
    {
      "cell_type": "code",
      "source": [
        "df_test_X = pd.read_csv(test_X_Path)\n",
        "df_test_X.head()"
      ],
      "metadata": {
        "colab": {
          "base_uri": "https://localhost:8080/",
          "height": 206
        },
        "id": "f6xuaXSsddMs",
        "outputId": "2e797988-37e9-4e3b-e836-82e6682b8a46"
      },
      "id": "f6xuaXSsddMs",
      "execution_count": null,
      "outputs": [
        {
          "output_type": "execute_result",
          "data": {
            "text/plain": [
              "   id                                               text\n",
              "0   0  so cut... missed out on all the TCE EXTREME ME...\n",
              "1   1     Thank you very much Wasin  this is awesome lol\n",
              "2   2  Squeezing in some internet time before Dustin ...\n",
              "3   3  @fanoou; Oh i do have moral but i'm gonna be b...\n",
              "4   4  @NSuissa   I just bought Sammy some joint/hip ..."
            ],
            "text/html": [
              "\n",
              "  <div id=\"df-c65be3fd-b371-45d5-86d0-55afd037f034\">\n",
              "    <div class=\"colab-df-container\">\n",
              "      <div>\n",
              "<style scoped>\n",
              "    .dataframe tbody tr th:only-of-type {\n",
              "        vertical-align: middle;\n",
              "    }\n",
              "\n",
              "    .dataframe tbody tr th {\n",
              "        vertical-align: top;\n",
              "    }\n",
              "\n",
              "    .dataframe thead th {\n",
              "        text-align: right;\n",
              "    }\n",
              "</style>\n",
              "<table border=\"1\" class=\"dataframe\">\n",
              "  <thead>\n",
              "    <tr style=\"text-align: right;\">\n",
              "      <th></th>\n",
              "      <th>id</th>\n",
              "      <th>text</th>\n",
              "    </tr>\n",
              "  </thead>\n",
              "  <tbody>\n",
              "    <tr>\n",
              "      <th>0</th>\n",
              "      <td>0</td>\n",
              "      <td>so cut... missed out on all the TCE EXTREME ME...</td>\n",
              "    </tr>\n",
              "    <tr>\n",
              "      <th>1</th>\n",
              "      <td>1</td>\n",
              "      <td>Thank you very much Wasin  this is awesome lol</td>\n",
              "    </tr>\n",
              "    <tr>\n",
              "      <th>2</th>\n",
              "      <td>2</td>\n",
              "      <td>Squeezing in some internet time before Dustin ...</td>\n",
              "    </tr>\n",
              "    <tr>\n",
              "      <th>3</th>\n",
              "      <td>3</td>\n",
              "      <td>@fanoou; Oh i do have moral but i'm gonna be b...</td>\n",
              "    </tr>\n",
              "    <tr>\n",
              "      <th>4</th>\n",
              "      <td>4</td>\n",
              "      <td>@NSuissa   I just bought Sammy some joint/hip ...</td>\n",
              "    </tr>\n",
              "  </tbody>\n",
              "</table>\n",
              "</div>\n",
              "      <button class=\"colab-df-convert\" onclick=\"convertToInteractive('df-c65be3fd-b371-45d5-86d0-55afd037f034')\"\n",
              "              title=\"Convert this dataframe to an interactive table.\"\n",
              "              style=\"display:none;\">\n",
              "        \n",
              "  <svg xmlns=\"http://www.w3.org/2000/svg\" height=\"24px\"viewBox=\"0 0 24 24\"\n",
              "       width=\"24px\">\n",
              "    <path d=\"M0 0h24v24H0V0z\" fill=\"none\"/>\n",
              "    <path d=\"M18.56 5.44l.94 2.06.94-2.06 2.06-.94-2.06-.94-.94-2.06-.94 2.06-2.06.94zm-11 1L8.5 8.5l.94-2.06 2.06-.94-2.06-.94L8.5 2.5l-.94 2.06-2.06.94zm10 10l.94 2.06.94-2.06 2.06-.94-2.06-.94-.94-2.06-.94 2.06-2.06.94z\"/><path d=\"M17.41 7.96l-1.37-1.37c-.4-.4-.92-.59-1.43-.59-.52 0-1.04.2-1.43.59L10.3 9.45l-7.72 7.72c-.78.78-.78 2.05 0 2.83L4 21.41c.39.39.9.59 1.41.59.51 0 1.02-.2 1.41-.59l7.78-7.78 2.81-2.81c.8-.78.8-2.07 0-2.86zM5.41 20L4 18.59l7.72-7.72 1.47 1.35L5.41 20z\"/>\n",
              "  </svg>\n",
              "      </button>\n",
              "      \n",
              "  <style>\n",
              "    .colab-df-container {\n",
              "      display:flex;\n",
              "      flex-wrap:wrap;\n",
              "      gap: 12px;\n",
              "    }\n",
              "\n",
              "    .colab-df-convert {\n",
              "      background-color: #E8F0FE;\n",
              "      border: none;\n",
              "      border-radius: 50%;\n",
              "      cursor: pointer;\n",
              "      display: none;\n",
              "      fill: #1967D2;\n",
              "      height: 32px;\n",
              "      padding: 0 0 0 0;\n",
              "      width: 32px;\n",
              "    }\n",
              "\n",
              "    .colab-df-convert:hover {\n",
              "      background-color: #E2EBFA;\n",
              "      box-shadow: 0px 1px 2px rgba(60, 64, 67, 0.3), 0px 1px 3px 1px rgba(60, 64, 67, 0.15);\n",
              "      fill: #174EA6;\n",
              "    }\n",
              "\n",
              "    [theme=dark] .colab-df-convert {\n",
              "      background-color: #3B4455;\n",
              "      fill: #D2E3FC;\n",
              "    }\n",
              "\n",
              "    [theme=dark] .colab-df-convert:hover {\n",
              "      background-color: #434B5C;\n",
              "      box-shadow: 0px 1px 3px 1px rgba(0, 0, 0, 0.15);\n",
              "      filter: drop-shadow(0px 1px 2px rgba(0, 0, 0, 0.3));\n",
              "      fill: #FFFFFF;\n",
              "    }\n",
              "  </style>\n",
              "\n",
              "      <script>\n",
              "        const buttonEl =\n",
              "          document.querySelector('#df-c65be3fd-b371-45d5-86d0-55afd037f034 button.colab-df-convert');\n",
              "        buttonEl.style.display =\n",
              "          google.colab.kernel.accessAllowed ? 'block' : 'none';\n",
              "\n",
              "        async function convertToInteractive(key) {\n",
              "          const element = document.querySelector('#df-c65be3fd-b371-45d5-86d0-55afd037f034');\n",
              "          const dataTable =\n",
              "            await google.colab.kernel.invokeFunction('convertToInteractive',\n",
              "                                                     [key], {});\n",
              "          if (!dataTable) return;\n",
              "\n",
              "          const docLinkHtml = 'Like what you see? Visit the ' +\n",
              "            '<a target=\"_blank\" href=https://colab.research.google.com/notebooks/data_table.ipynb>data table notebook</a>'\n",
              "            + ' to learn more about interactive tables.';\n",
              "          element.innerHTML = '';\n",
              "          dataTable['output_type'] = 'display_data';\n",
              "          await google.colab.output.renderOutput(dataTable, element);\n",
              "          const docLink = document.createElement('div');\n",
              "          docLink.innerHTML = docLinkHtml;\n",
              "          element.appendChild(docLink);\n",
              "        }\n",
              "      </script>\n",
              "    </div>\n",
              "  </div>\n",
              "  "
            ]
          },
          "metadata": {},
          "execution_count": 16
        }
      ]
    },
    {
      "cell_type": "code",
      "source": [
        "\n",
        "df_test_X.shape"
      ],
      "metadata": {
        "colab": {
          "base_uri": "https://localhost:8080/"
        },
        "id": "hulDd-R2dhgU",
        "outputId": "21767db2-72b4-4748-cfd7-3498d39a7113"
      },
      "id": "hulDd-R2dhgU",
      "execution_count": null,
      "outputs": [
        {
          "output_type": "execute_result",
          "data": {
            "text/plain": [
              "(560175, 2)"
            ]
          },
          "metadata": {},
          "execution_count": 17
        }
      ]
    },
    {
      "cell_type": "code",
      "source": [
        "\n",
        "df_test_X = df_test_X.drop(columns=['id'],axis=1)\n",
        "df_test_X.head()"
      ],
      "metadata": {
        "colab": {
          "base_uri": "https://localhost:8080/",
          "height": 206
        },
        "id": "DkYxu-q2djfL",
        "outputId": "8b829d8d-533b-47ff-a0f6-aac7cbdb3300"
      },
      "id": "DkYxu-q2djfL",
      "execution_count": null,
      "outputs": [
        {
          "output_type": "execute_result",
          "data": {
            "text/plain": [
              "                                                text\n",
              "0  so cut... missed out on all the TCE EXTREME ME...\n",
              "1     Thank you very much Wasin  this is awesome lol\n",
              "2  Squeezing in some internet time before Dustin ...\n",
              "3  @fanoou; Oh i do have moral but i'm gonna be b...\n",
              "4  @NSuissa   I just bought Sammy some joint/hip ..."
            ],
            "text/html": [
              "\n",
              "  <div id=\"df-a76485be-836c-418d-ae62-a7a86d131303\">\n",
              "    <div class=\"colab-df-container\">\n",
              "      <div>\n",
              "<style scoped>\n",
              "    .dataframe tbody tr th:only-of-type {\n",
              "        vertical-align: middle;\n",
              "    }\n",
              "\n",
              "    .dataframe tbody tr th {\n",
              "        vertical-align: top;\n",
              "    }\n",
              "\n",
              "    .dataframe thead th {\n",
              "        text-align: right;\n",
              "    }\n",
              "</style>\n",
              "<table border=\"1\" class=\"dataframe\">\n",
              "  <thead>\n",
              "    <tr style=\"text-align: right;\">\n",
              "      <th></th>\n",
              "      <th>text</th>\n",
              "    </tr>\n",
              "  </thead>\n",
              "  <tbody>\n",
              "    <tr>\n",
              "      <th>0</th>\n",
              "      <td>so cut... missed out on all the TCE EXTREME ME...</td>\n",
              "    </tr>\n",
              "    <tr>\n",
              "      <th>1</th>\n",
              "      <td>Thank you very much Wasin  this is awesome lol</td>\n",
              "    </tr>\n",
              "    <tr>\n",
              "      <th>2</th>\n",
              "      <td>Squeezing in some internet time before Dustin ...</td>\n",
              "    </tr>\n",
              "    <tr>\n",
              "      <th>3</th>\n",
              "      <td>@fanoou; Oh i do have moral but i'm gonna be b...</td>\n",
              "    </tr>\n",
              "    <tr>\n",
              "      <th>4</th>\n",
              "      <td>@NSuissa   I just bought Sammy some joint/hip ...</td>\n",
              "    </tr>\n",
              "  </tbody>\n",
              "</table>\n",
              "</div>\n",
              "      <button class=\"colab-df-convert\" onclick=\"convertToInteractive('df-a76485be-836c-418d-ae62-a7a86d131303')\"\n",
              "              title=\"Convert this dataframe to an interactive table.\"\n",
              "              style=\"display:none;\">\n",
              "        \n",
              "  <svg xmlns=\"http://www.w3.org/2000/svg\" height=\"24px\"viewBox=\"0 0 24 24\"\n",
              "       width=\"24px\">\n",
              "    <path d=\"M0 0h24v24H0V0z\" fill=\"none\"/>\n",
              "    <path d=\"M18.56 5.44l.94 2.06.94-2.06 2.06-.94-2.06-.94-.94-2.06-.94 2.06-2.06.94zm-11 1L8.5 8.5l.94-2.06 2.06-.94-2.06-.94L8.5 2.5l-.94 2.06-2.06.94zm10 10l.94 2.06.94-2.06 2.06-.94-2.06-.94-.94-2.06-.94 2.06-2.06.94z\"/><path d=\"M17.41 7.96l-1.37-1.37c-.4-.4-.92-.59-1.43-.59-.52 0-1.04.2-1.43.59L10.3 9.45l-7.72 7.72c-.78.78-.78 2.05 0 2.83L4 21.41c.39.39.9.59 1.41.59.51 0 1.02-.2 1.41-.59l7.78-7.78 2.81-2.81c.8-.78.8-2.07 0-2.86zM5.41 20L4 18.59l7.72-7.72 1.47 1.35L5.41 20z\"/>\n",
              "  </svg>\n",
              "      </button>\n",
              "      \n",
              "  <style>\n",
              "    .colab-df-container {\n",
              "      display:flex;\n",
              "      flex-wrap:wrap;\n",
              "      gap: 12px;\n",
              "    }\n",
              "\n",
              "    .colab-df-convert {\n",
              "      background-color: #E8F0FE;\n",
              "      border: none;\n",
              "      border-radius: 50%;\n",
              "      cursor: pointer;\n",
              "      display: none;\n",
              "      fill: #1967D2;\n",
              "      height: 32px;\n",
              "      padding: 0 0 0 0;\n",
              "      width: 32px;\n",
              "    }\n",
              "\n",
              "    .colab-df-convert:hover {\n",
              "      background-color: #E2EBFA;\n",
              "      box-shadow: 0px 1px 2px rgba(60, 64, 67, 0.3), 0px 1px 3px 1px rgba(60, 64, 67, 0.15);\n",
              "      fill: #174EA6;\n",
              "    }\n",
              "\n",
              "    [theme=dark] .colab-df-convert {\n",
              "      background-color: #3B4455;\n",
              "      fill: #D2E3FC;\n",
              "    }\n",
              "\n",
              "    [theme=dark] .colab-df-convert:hover {\n",
              "      background-color: #434B5C;\n",
              "      box-shadow: 0px 1px 3px 1px rgba(0, 0, 0, 0.15);\n",
              "      filter: drop-shadow(0px 1px 2px rgba(0, 0, 0, 0.3));\n",
              "      fill: #FFFFFF;\n",
              "    }\n",
              "  </style>\n",
              "\n",
              "      <script>\n",
              "        const buttonEl =\n",
              "          document.querySelector('#df-a76485be-836c-418d-ae62-a7a86d131303 button.colab-df-convert');\n",
              "        buttonEl.style.display =\n",
              "          google.colab.kernel.accessAllowed ? 'block' : 'none';\n",
              "\n",
              "        async function convertToInteractive(key) {\n",
              "          const element = document.querySelector('#df-a76485be-836c-418d-ae62-a7a86d131303');\n",
              "          const dataTable =\n",
              "            await google.colab.kernel.invokeFunction('convertToInteractive',\n",
              "                                                     [key], {});\n",
              "          if (!dataTable) return;\n",
              "\n",
              "          const docLinkHtml = 'Like what you see? Visit the ' +\n",
              "            '<a target=\"_blank\" href=https://colab.research.google.com/notebooks/data_table.ipynb>data table notebook</a>'\n",
              "            + ' to learn more about interactive tables.';\n",
              "          element.innerHTML = '';\n",
              "          dataTable['output_type'] = 'display_data';\n",
              "          await google.colab.output.renderOutput(dataTable, element);\n",
              "          const docLink = document.createElement('div');\n",
              "          docLink.innerHTML = docLinkHtml;\n",
              "          element.appendChild(docLink);\n",
              "        }\n",
              "      </script>\n",
              "    </div>\n",
              "  </div>\n",
              "  "
            ]
          },
          "metadata": {},
          "execution_count": 18
        }
      ]
    },
    {
      "cell_type": "code",
      "source": [
        "# Clean text without stop words removal\n",
        "df_test_X['clean_text'] = df_test_X['text'].map(lambda x: preprocess(x))\n",
        "df_test_X.head()"
      ],
      "metadata": {
        "colab": {
          "base_uri": "https://localhost:8080/",
          "height": 206
        },
        "id": "2o2jplsedl_j",
        "outputId": "3daf6a7f-0e80-4ac0-aeeb-d5d5bd7cf032"
      },
      "id": "2o2jplsedl_j",
      "execution_count": null,
      "outputs": [
        {
          "output_type": "execute_result",
          "data": {
            "text/plain": [
              "                                                text  \\\n",
              "0  so cut... missed out on all the TCE EXTREME ME...   \n",
              "1     Thank you very much Wasin  this is awesome lol   \n",
              "2  Squeezing in some internet time before Dustin ...   \n",
              "3  @fanoou; Oh i do have moral but i'm gonna be b...   \n",
              "4  @NSuissa   I just bought Sammy some joint/hip ...   \n",
              "\n",
              "                                          clean_text  \n",
              "0  so cut missed out on all the tce extreme merch...  \n",
              "1      thank you very much wasin this is awesome lol  \n",
              "2  squeezing in some internet time before dustin ...  \n",
              "3  fanoou oh do have moral but m gonna be bigger ...  \n",
              "4  nsuissa just bought sammy some joint hip suppl...  "
            ],
            "text/html": [
              "\n",
              "  <div id=\"df-ffe4186e-0874-46c7-9591-0d4d1e39df12\">\n",
              "    <div class=\"colab-df-container\">\n",
              "      <div>\n",
              "<style scoped>\n",
              "    .dataframe tbody tr th:only-of-type {\n",
              "        vertical-align: middle;\n",
              "    }\n",
              "\n",
              "    .dataframe tbody tr th {\n",
              "        vertical-align: top;\n",
              "    }\n",
              "\n",
              "    .dataframe thead th {\n",
              "        text-align: right;\n",
              "    }\n",
              "</style>\n",
              "<table border=\"1\" class=\"dataframe\">\n",
              "  <thead>\n",
              "    <tr style=\"text-align: right;\">\n",
              "      <th></th>\n",
              "      <th>text</th>\n",
              "      <th>clean_text</th>\n",
              "    </tr>\n",
              "  </thead>\n",
              "  <tbody>\n",
              "    <tr>\n",
              "      <th>0</th>\n",
              "      <td>so cut... missed out on all the TCE EXTREME ME...</td>\n",
              "      <td>so cut missed out on all the tce extreme merch...</td>\n",
              "    </tr>\n",
              "    <tr>\n",
              "      <th>1</th>\n",
              "      <td>Thank you very much Wasin  this is awesome lol</td>\n",
              "      <td>thank you very much wasin this is awesome lol</td>\n",
              "    </tr>\n",
              "    <tr>\n",
              "      <th>2</th>\n",
              "      <td>Squeezing in some internet time before Dustin ...</td>\n",
              "      <td>squeezing in some internet time before dustin ...</td>\n",
              "    </tr>\n",
              "    <tr>\n",
              "      <th>3</th>\n",
              "      <td>@fanoou; Oh i do have moral but i'm gonna be b...</td>\n",
              "      <td>fanoou oh do have moral but m gonna be bigger ...</td>\n",
              "    </tr>\n",
              "    <tr>\n",
              "      <th>4</th>\n",
              "      <td>@NSuissa   I just bought Sammy some joint/hip ...</td>\n",
              "      <td>nsuissa just bought sammy some joint hip suppl...</td>\n",
              "    </tr>\n",
              "  </tbody>\n",
              "</table>\n",
              "</div>\n",
              "      <button class=\"colab-df-convert\" onclick=\"convertToInteractive('df-ffe4186e-0874-46c7-9591-0d4d1e39df12')\"\n",
              "              title=\"Convert this dataframe to an interactive table.\"\n",
              "              style=\"display:none;\">\n",
              "        \n",
              "  <svg xmlns=\"http://www.w3.org/2000/svg\" height=\"24px\"viewBox=\"0 0 24 24\"\n",
              "       width=\"24px\">\n",
              "    <path d=\"M0 0h24v24H0V0z\" fill=\"none\"/>\n",
              "    <path d=\"M18.56 5.44l.94 2.06.94-2.06 2.06-.94-2.06-.94-.94-2.06-.94 2.06-2.06.94zm-11 1L8.5 8.5l.94-2.06 2.06-.94-2.06-.94L8.5 2.5l-.94 2.06-2.06.94zm10 10l.94 2.06.94-2.06 2.06-.94-2.06-.94-.94-2.06-.94 2.06-2.06.94z\"/><path d=\"M17.41 7.96l-1.37-1.37c-.4-.4-.92-.59-1.43-.59-.52 0-1.04.2-1.43.59L10.3 9.45l-7.72 7.72c-.78.78-.78 2.05 0 2.83L4 21.41c.39.39.9.59 1.41.59.51 0 1.02-.2 1.41-.59l7.78-7.78 2.81-2.81c.8-.78.8-2.07 0-2.86zM5.41 20L4 18.59l7.72-7.72 1.47 1.35L5.41 20z\"/>\n",
              "  </svg>\n",
              "      </button>\n",
              "      \n",
              "  <style>\n",
              "    .colab-df-container {\n",
              "      display:flex;\n",
              "      flex-wrap:wrap;\n",
              "      gap: 12px;\n",
              "    }\n",
              "\n",
              "    .colab-df-convert {\n",
              "      background-color: #E8F0FE;\n",
              "      border: none;\n",
              "      border-radius: 50%;\n",
              "      cursor: pointer;\n",
              "      display: none;\n",
              "      fill: #1967D2;\n",
              "      height: 32px;\n",
              "      padding: 0 0 0 0;\n",
              "      width: 32px;\n",
              "    }\n",
              "\n",
              "    .colab-df-convert:hover {\n",
              "      background-color: #E2EBFA;\n",
              "      box-shadow: 0px 1px 2px rgba(60, 64, 67, 0.3), 0px 1px 3px 1px rgba(60, 64, 67, 0.15);\n",
              "      fill: #174EA6;\n",
              "    }\n",
              "\n",
              "    [theme=dark] .colab-df-convert {\n",
              "      background-color: #3B4455;\n",
              "      fill: #D2E3FC;\n",
              "    }\n",
              "\n",
              "    [theme=dark] .colab-df-convert:hover {\n",
              "      background-color: #434B5C;\n",
              "      box-shadow: 0px 1px 3px 1px rgba(0, 0, 0, 0.15);\n",
              "      filter: drop-shadow(0px 1px 2px rgba(0, 0, 0, 0.3));\n",
              "      fill: #FFFFFF;\n",
              "    }\n",
              "  </style>\n",
              "\n",
              "      <script>\n",
              "        const buttonEl =\n",
              "          document.querySelector('#df-ffe4186e-0874-46c7-9591-0d4d1e39df12 button.colab-df-convert');\n",
              "        buttonEl.style.display =\n",
              "          google.colab.kernel.accessAllowed ? 'block' : 'none';\n",
              "\n",
              "        async function convertToInteractive(key) {\n",
              "          const element = document.querySelector('#df-ffe4186e-0874-46c7-9591-0d4d1e39df12');\n",
              "          const dataTable =\n",
              "            await google.colab.kernel.invokeFunction('convertToInteractive',\n",
              "                                                     [key], {});\n",
              "          if (!dataTable) return;\n",
              "\n",
              "          const docLinkHtml = 'Like what you see? Visit the ' +\n",
              "            '<a target=\"_blank\" href=https://colab.research.google.com/notebooks/data_table.ipynb>data table notebook</a>'\n",
              "            + ' to learn more about interactive tables.';\n",
              "          element.innerHTML = '';\n",
              "          dataTable['output_type'] = 'display_data';\n",
              "          await google.colab.output.renderOutput(dataTable, element);\n",
              "          const docLink = document.createElement('div');\n",
              "          docLink.innerHTML = docLinkHtml;\n",
              "          element.appendChild(docLink);\n",
              "        }\n",
              "      </script>\n",
              "    </div>\n",
              "  </div>\n",
              "  "
            ]
          },
          "metadata": {},
          "execution_count": 19
        }
      ]
    },
    {
      "cell_type": "code",
      "execution_count": null,
      "metadata": {
        "id": "42b39dd8"
      },
      "outputs": [],
      "source": [
        "\n",
        "# tokenizer=nltk.tokenize.RegexpTokenizer(r'\\w+')\n",
        "# df_test_X['tokens'] = df_test_X['clean_text'].apply(lambda x:tokenizer.tokenize(x))\n",
        "X_test = df_test_X['clean_text']\n",
        "X_train_vector,  X_test_vector = Token_padding(X_train, X_test)\n",
        "\n"
      ],
      "id": "42b39dd8"
    },
    {
      "cell_type": "code",
      "source": [
        "# df_test_X_padded = pad_sequences(encd_rev_test, maxlen=max_len)\n",
        "pred = model_LSTM.predict(X_test_vector)\n",
        "\n",
        "pred"
      ],
      "metadata": {
        "colab": {
          "base_uri": "https://localhost:8080/"
        },
        "id": "fLyq6OKpdo9V",
        "outputId": "e4c54ecc-2b3b-49e9-99b4-011b86c464f6"
      },
      "id": "fLyq6OKpdo9V",
      "execution_count": null,
      "outputs": [
        {
          "output_type": "stream",
          "name": "stdout",
          "text": [
            "17506/17506 [==============================] - 114s 6ms/step\n"
          ]
        },
        {
          "output_type": "execute_result",
          "data": {
            "text/plain": [
              "array([[9.0958220e-01, 0.0000000e+00, 9.0417847e-02],\n",
              "       [1.3954627e-02, 0.0000000e+00, 9.8604530e-01],\n",
              "       [5.4267842e-01, 5.1230012e-17, 4.5732161e-01],\n",
              "       ...,\n",
              "       [9.9625742e-01, 0.0000000e+00, 3.7426015e-03],\n",
              "       [6.7774022e-01, 0.0000000e+00, 3.2225978e-01],\n",
              "       [1.7317753e-01, 0.0000000e+00, 8.2682252e-01]], dtype=float32)"
            ]
          },
          "metadata": {},
          "execution_count": 21
        }
      ]
    },
    {
      "cell_type": "code",
      "source": [
        "#"
      ],
      "metadata": {
        "id": "JgPZzZhjdbns"
      },
      "id": "JgPZzZhjdbns",
      "execution_count": null,
      "outputs": []
    },
    {
      "cell_type": "code",
      "execution_count": null,
      "metadata": {
        "id": "6LKJFb-CBeF7",
        "colab": {
          "base_uri": "https://localhost:8080/",
          "height": 424
        },
        "outputId": "197ce209-a885-427c-92b7-a3de306f234d"
      },
      "outputs": [
        {
          "output_type": "execute_result",
          "data": {
            "text/plain": [
              "            id  target\n",
              "0            0       0\n",
              "1            1       2\n",
              "2            2       0\n",
              "3            3       2\n",
              "4            4       0\n",
              "...        ...     ...\n",
              "560170  560170       0\n",
              "560171  560171       0\n",
              "560172  560172       0\n",
              "560173  560173       0\n",
              "560174  560174       2\n",
              "\n",
              "[560175 rows x 2 columns]"
            ],
            "text/html": [
              "\n",
              "  <div id=\"df-81cf9aa9-0144-4782-9af4-262966a81bda\">\n",
              "    <div class=\"colab-df-container\">\n",
              "      <div>\n",
              "<style scoped>\n",
              "    .dataframe tbody tr th:only-of-type {\n",
              "        vertical-align: middle;\n",
              "    }\n",
              "\n",
              "    .dataframe tbody tr th {\n",
              "        vertical-align: top;\n",
              "    }\n",
              "\n",
              "    .dataframe thead th {\n",
              "        text-align: right;\n",
              "    }\n",
              "</style>\n",
              "<table border=\"1\" class=\"dataframe\">\n",
              "  <thead>\n",
              "    <tr style=\"text-align: right;\">\n",
              "      <th></th>\n",
              "      <th>id</th>\n",
              "      <th>target</th>\n",
              "    </tr>\n",
              "  </thead>\n",
              "  <tbody>\n",
              "    <tr>\n",
              "      <th>0</th>\n",
              "      <td>0</td>\n",
              "      <td>0</td>\n",
              "    </tr>\n",
              "    <tr>\n",
              "      <th>1</th>\n",
              "      <td>1</td>\n",
              "      <td>2</td>\n",
              "    </tr>\n",
              "    <tr>\n",
              "      <th>2</th>\n",
              "      <td>2</td>\n",
              "      <td>0</td>\n",
              "    </tr>\n",
              "    <tr>\n",
              "      <th>3</th>\n",
              "      <td>3</td>\n",
              "      <td>2</td>\n",
              "    </tr>\n",
              "    <tr>\n",
              "      <th>4</th>\n",
              "      <td>4</td>\n",
              "      <td>0</td>\n",
              "    </tr>\n",
              "    <tr>\n",
              "      <th>...</th>\n",
              "      <td>...</td>\n",
              "      <td>...</td>\n",
              "    </tr>\n",
              "    <tr>\n",
              "      <th>560170</th>\n",
              "      <td>560170</td>\n",
              "      <td>0</td>\n",
              "    </tr>\n",
              "    <tr>\n",
              "      <th>560171</th>\n",
              "      <td>560171</td>\n",
              "      <td>0</td>\n",
              "    </tr>\n",
              "    <tr>\n",
              "      <th>560172</th>\n",
              "      <td>560172</td>\n",
              "      <td>0</td>\n",
              "    </tr>\n",
              "    <tr>\n",
              "      <th>560173</th>\n",
              "      <td>560173</td>\n",
              "      <td>0</td>\n",
              "    </tr>\n",
              "    <tr>\n",
              "      <th>560174</th>\n",
              "      <td>560174</td>\n",
              "      <td>2</td>\n",
              "    </tr>\n",
              "  </tbody>\n",
              "</table>\n",
              "<p>560175 rows × 2 columns</p>\n",
              "</div>\n",
              "      <button class=\"colab-df-convert\" onclick=\"convertToInteractive('df-81cf9aa9-0144-4782-9af4-262966a81bda')\"\n",
              "              title=\"Convert this dataframe to an interactive table.\"\n",
              "              style=\"display:none;\">\n",
              "        \n",
              "  <svg xmlns=\"http://www.w3.org/2000/svg\" height=\"24px\"viewBox=\"0 0 24 24\"\n",
              "       width=\"24px\">\n",
              "    <path d=\"M0 0h24v24H0V0z\" fill=\"none\"/>\n",
              "    <path d=\"M18.56 5.44l.94 2.06.94-2.06 2.06-.94-2.06-.94-.94-2.06-.94 2.06-2.06.94zm-11 1L8.5 8.5l.94-2.06 2.06-.94-2.06-.94L8.5 2.5l-.94 2.06-2.06.94zm10 10l.94 2.06.94-2.06 2.06-.94-2.06-.94-.94-2.06-.94 2.06-2.06.94z\"/><path d=\"M17.41 7.96l-1.37-1.37c-.4-.4-.92-.59-1.43-.59-.52 0-1.04.2-1.43.59L10.3 9.45l-7.72 7.72c-.78.78-.78 2.05 0 2.83L4 21.41c.39.39.9.59 1.41.59.51 0 1.02-.2 1.41-.59l7.78-7.78 2.81-2.81c.8-.78.8-2.07 0-2.86zM5.41 20L4 18.59l7.72-7.72 1.47 1.35L5.41 20z\"/>\n",
              "  </svg>\n",
              "      </button>\n",
              "      \n",
              "  <style>\n",
              "    .colab-df-container {\n",
              "      display:flex;\n",
              "      flex-wrap:wrap;\n",
              "      gap: 12px;\n",
              "    }\n",
              "\n",
              "    .colab-df-convert {\n",
              "      background-color: #E8F0FE;\n",
              "      border: none;\n",
              "      border-radius: 50%;\n",
              "      cursor: pointer;\n",
              "      display: none;\n",
              "      fill: #1967D2;\n",
              "      height: 32px;\n",
              "      padding: 0 0 0 0;\n",
              "      width: 32px;\n",
              "    }\n",
              "\n",
              "    .colab-df-convert:hover {\n",
              "      background-color: #E2EBFA;\n",
              "      box-shadow: 0px 1px 2px rgba(60, 64, 67, 0.3), 0px 1px 3px 1px rgba(60, 64, 67, 0.15);\n",
              "      fill: #174EA6;\n",
              "    }\n",
              "\n",
              "    [theme=dark] .colab-df-convert {\n",
              "      background-color: #3B4455;\n",
              "      fill: #D2E3FC;\n",
              "    }\n",
              "\n",
              "    [theme=dark] .colab-df-convert:hover {\n",
              "      background-color: #434B5C;\n",
              "      box-shadow: 0px 1px 3px 1px rgba(0, 0, 0, 0.15);\n",
              "      filter: drop-shadow(0px 1px 2px rgba(0, 0, 0, 0.3));\n",
              "      fill: #FFFFFF;\n",
              "    }\n",
              "  </style>\n",
              "\n",
              "      <script>\n",
              "        const buttonEl =\n",
              "          document.querySelector('#df-81cf9aa9-0144-4782-9af4-262966a81bda button.colab-df-convert');\n",
              "        buttonEl.style.display =\n",
              "          google.colab.kernel.accessAllowed ? 'block' : 'none';\n",
              "\n",
              "        async function convertToInteractive(key) {\n",
              "          const element = document.querySelector('#df-81cf9aa9-0144-4782-9af4-262966a81bda');\n",
              "          const dataTable =\n",
              "            await google.colab.kernel.invokeFunction('convertToInteractive',\n",
              "                                                     [key], {});\n",
              "          if (!dataTable) return;\n",
              "\n",
              "          const docLinkHtml = 'Like what you see? Visit the ' +\n",
              "            '<a target=\"_blank\" href=https://colab.research.google.com/notebooks/data_table.ipynb>data table notebook</a>'\n",
              "            + ' to learn more about interactive tables.';\n",
              "          element.innerHTML = '';\n",
              "          dataTable['output_type'] = 'display_data';\n",
              "          await google.colab.output.renderOutput(dataTable, element);\n",
              "          const docLink = document.createElement('div');\n",
              "          docLink.innerHTML = docLinkHtml;\n",
              "          element.appendChild(docLink);\n",
              "        }\n",
              "      </script>\n",
              "    </div>\n",
              "  </div>\n",
              "  "
            ]
          },
          "metadata": {},
          "execution_count": 23
        }
      ],
      "source": [
        "list_index = list(df_test_X.index.values)\n",
        "\n",
        "y_pred_list = []\n",
        "for i in range(df_test_X.shape[0]):\n",
        "  y_pred_list.append(np.argmax(pred[i]))\n",
        "y_pred_list\n",
        "\n",
        "out = pd.DataFrame({'id': list_index,'target':y_pred_list})\n",
        "filename = 'RNN_LSTM_Tokenization_corrected_V2.csv'\n",
        "out\n",
        "\n"
      ],
      "id": "6LKJFb-CBeF7"
    },
    {
      "cell_type": "code",
      "source": [
        "out.to_csv(filename, index=False)\n",
        "print('Saved file: ' + filename)"
      ],
      "metadata": {
        "id": "IJ86BKiaRVXE",
        "colab": {
          "base_uri": "https://localhost:8080/"
        },
        "outputId": "b6394d34-ee66-4693-ac38-ce29f3df471d"
      },
      "id": "IJ86BKiaRVXE",
      "execution_count": null,
      "outputs": [
        {
          "output_type": "stream",
          "name": "stdout",
          "text": [
            "Saved file: RNN_LSTM_Tokenization_corrected_V2.csv\n"
          ]
        }
      ]
    },
    {
      "cell_type": "code",
      "execution_count": null,
      "metadata": {
        "id": "87975895"
      },
      "outputs": [],
      "source": [
        "out.to_csv(\"/content/gdrive/MyDrive/Colab Notebooks/Kaggle/rnn_lstm_best_model_seed42.csv\", index=False)"
      ],
      "id": "87975895"
    },
    {
      "cell_type": "code",
      "execution_count": null,
      "metadata": {
        "id": "33adcc08"
      },
      "outputs": [],
      "source": [],
      "id": "33adcc08"
    },
    {
      "cell_type": "code",
      "execution_count": null,
      "metadata": {
        "id": "6110ad98"
      },
      "outputs": [],
      "source": [],
      "id": "6110ad98"
    },
    {
      "cell_type": "code",
      "execution_count": null,
      "metadata": {
        "id": "dbf55004"
      },
      "outputs": [],
      "source": [],
      "id": "dbf55004"
    },
    {
      "cell_type": "code",
      "execution_count": null,
      "metadata": {
        "id": "b4dc6647"
      },
      "outputs": [],
      "source": [],
      "id": "b4dc6647"
    },
    {
      "cell_type": "code",
      "execution_count": null,
      "metadata": {
        "id": "d4a7fafd"
      },
      "outputs": [],
      "source": [],
      "id": "d4a7fafd"
    },
    {
      "cell_type": "code",
      "execution_count": null,
      "metadata": {
        "id": "0d84720e"
      },
      "outputs": [],
      "source": [],
      "id": "0d84720e"
    },
    {
      "cell_type": "code",
      "execution_count": null,
      "metadata": {
        "id": "c82eccd8"
      },
      "outputs": [],
      "source": [],
      "id": "c82eccd8"
    },
    {
      "cell_type": "code",
      "execution_count": null,
      "metadata": {
        "id": "ed429e75"
      },
      "outputs": [],
      "source": [],
      "id": "ed429e75"
    },
    {
      "cell_type": "code",
      "execution_count": null,
      "metadata": {
        "id": "1b39f10e"
      },
      "outputs": [],
      "source": [],
      "id": "1b39f10e"
    },
    {
      "cell_type": "code",
      "execution_count": null,
      "metadata": {
        "id": "eb4f2b91"
      },
      "outputs": [],
      "source": [],
      "id": "eb4f2b91"
    },
    {
      "cell_type": "code",
      "execution_count": null,
      "metadata": {
        "id": "cc56dcd2"
      },
      "outputs": [],
      "source": [],
      "id": "cc56dcd2"
    },
    {
      "cell_type": "code",
      "execution_count": null,
      "metadata": {
        "id": "5697396c"
      },
      "outputs": [],
      "source": [],
      "id": "5697396c"
    },
    {
      "cell_type": "code",
      "execution_count": null,
      "metadata": {
        "id": "44b639bf"
      },
      "outputs": [],
      "source": [],
      "id": "44b639bf"
    },
    {
      "cell_type": "code",
      "execution_count": null,
      "metadata": {
        "id": "1514bbb4"
      },
      "outputs": [],
      "source": [],
      "id": "1514bbb4"
    },
    {
      "cell_type": "code",
      "execution_count": null,
      "metadata": {
        "id": "c6cd2e25"
      },
      "outputs": [],
      "source": [],
      "id": "c6cd2e25"
    },
    {
      "cell_type": "code",
      "execution_count": null,
      "metadata": {
        "id": "6b3f8a2f"
      },
      "outputs": [],
      "source": [
        "\n"
      ],
      "id": "6b3f8a2f"
    },
    {
      "cell_type": "code",
      "execution_count": null,
      "metadata": {
        "id": "ef47d783"
      },
      "outputs": [],
      "source": [],
      "id": "ef47d783"
    },
    {
      "cell_type": "code",
      "execution_count": null,
      "metadata": {
        "id": "b26535ff"
      },
      "outputs": [],
      "source": [],
      "id": "b26535ff"
    },
    {
      "cell_type": "code",
      "execution_count": null,
      "metadata": {
        "id": "a92dba8f"
      },
      "outputs": [],
      "source": [],
      "id": "a92dba8f"
    },
    {
      "cell_type": "code",
      "execution_count": null,
      "metadata": {
        "id": "60ed42af"
      },
      "outputs": [],
      "source": [],
      "id": "60ed42af"
    },
    {
      "cell_type": "code",
      "execution_count": null,
      "metadata": {
        "id": "facf9601"
      },
      "outputs": [],
      "source": [],
      "id": "facf9601"
    },
    {
      "cell_type": "code",
      "execution_count": null,
      "metadata": {
        "id": "4a4d386d"
      },
      "outputs": [],
      "source": [],
      "id": "4a4d386d"
    },
    {
      "cell_type": "code",
      "execution_count": null,
      "metadata": {
        "id": "6e45bc89"
      },
      "outputs": [],
      "source": [],
      "id": "6e45bc89"
    },
    {
      "cell_type": "code",
      "execution_count": null,
      "metadata": {
        "id": "885c42fe"
      },
      "outputs": [],
      "source": [],
      "id": "885c42fe"
    },
    {
      "cell_type": "code",
      "execution_count": null,
      "metadata": {
        "id": "afedd52e"
      },
      "outputs": [],
      "source": [],
      "id": "afedd52e"
    },
    {
      "cell_type": "code",
      "execution_count": null,
      "metadata": {
        "id": "2372c450"
      },
      "outputs": [],
      "source": [],
      "id": "2372c450"
    },
    {
      "cell_type": "code",
      "execution_count": null,
      "metadata": {
        "id": "191284d4"
      },
      "outputs": [],
      "source": [],
      "id": "191284d4"
    },
    {
      "cell_type": "code",
      "execution_count": null,
      "metadata": {
        "id": "cf382667"
      },
      "outputs": [],
      "source": [],
      "id": "cf382667"
    },
    {
      "cell_type": "code",
      "execution_count": null,
      "metadata": {
        "id": "99cd2687"
      },
      "outputs": [],
      "source": [],
      "id": "99cd2687"
    },
    {
      "cell_type": "code",
      "execution_count": null,
      "metadata": {
        "id": "fb44b6be"
      },
      "outputs": [],
      "source": [],
      "id": "fb44b6be"
    },
    {
      "cell_type": "code",
      "execution_count": null,
      "metadata": {
        "id": "881b3b1a"
      },
      "outputs": [],
      "source": [],
      "id": "881b3b1a"
    },
    {
      "cell_type": "code",
      "execution_count": null,
      "metadata": {
        "id": "c81296a5"
      },
      "outputs": [],
      "source": [],
      "id": "c81296a5"
    },
    {
      "cell_type": "code",
      "execution_count": null,
      "metadata": {
        "id": "74931bd8"
      },
      "outputs": [],
      "source": [],
      "id": "74931bd8"
    },
    {
      "cell_type": "code",
      "execution_count": null,
      "metadata": {
        "id": "fd2df2c7"
      },
      "outputs": [],
      "source": [],
      "id": "fd2df2c7"
    },
    {
      "cell_type": "code",
      "execution_count": null,
      "metadata": {
        "id": "99a2622b"
      },
      "outputs": [],
      "source": [],
      "id": "99a2622b"
    },
    {
      "cell_type": "code",
      "execution_count": null,
      "metadata": {
        "id": "7ae0ff4a"
      },
      "outputs": [],
      "source": [],
      "id": "7ae0ff4a"
    },
    {
      "cell_type": "code",
      "execution_count": null,
      "metadata": {
        "id": "ee110114"
      },
      "outputs": [],
      "source": [],
      "id": "ee110114"
    },
    {
      "cell_type": "code",
      "execution_count": null,
      "metadata": {
        "id": "2086fde7"
      },
      "outputs": [],
      "source": [],
      "id": "2086fde7"
    },
    {
      "cell_type": "code",
      "execution_count": null,
      "metadata": {
        "id": "a98d61d4"
      },
      "outputs": [],
      "source": [],
      "id": "a98d61d4"
    },
    {
      "cell_type": "code",
      "execution_count": null,
      "metadata": {
        "id": "6dc7aeae"
      },
      "outputs": [],
      "source": [],
      "id": "6dc7aeae"
    },
    {
      "cell_type": "code",
      "execution_count": null,
      "metadata": {
        "id": "04c0d8b0"
      },
      "outputs": [],
      "source": [
        "\n"
      ],
      "id": "04c0d8b0"
    },
    {
      "cell_type": "code",
      "execution_count": null,
      "metadata": {
        "id": "2c80e57e"
      },
      "outputs": [],
      "source": [],
      "id": "2c80e57e"
    },
    {
      "cell_type": "code",
      "execution_count": null,
      "metadata": {
        "id": "861e78ca"
      },
      "outputs": [],
      "source": [],
      "id": "861e78ca"
    },
    {
      "cell_type": "code",
      "execution_count": null,
      "metadata": {
        "id": "62e03596"
      },
      "outputs": [],
      "source": [],
      "id": "62e03596"
    },
    {
      "cell_type": "code",
      "execution_count": null,
      "metadata": {
        "id": "486d993a"
      },
      "outputs": [],
      "source": [],
      "id": "486d993a"
    },
    {
      "cell_type": "code",
      "execution_count": null,
      "metadata": {
        "id": "433607ea"
      },
      "outputs": [],
      "source": [
        "#"
      ],
      "id": "433607ea"
    },
    {
      "cell_type": "code",
      "execution_count": null,
      "metadata": {
        "id": "4a0500e2"
      },
      "outputs": [],
      "source": [
        "#"
      ],
      "id": "4a0500e2"
    },
    {
      "cell_type": "code",
      "execution_count": null,
      "metadata": {
        "id": "7b4c5306"
      },
      "outputs": [],
      "source": [],
      "id": "7b4c5306"
    },
    {
      "cell_type": "code",
      "execution_count": null,
      "metadata": {
        "id": "f481cd13"
      },
      "outputs": [],
      "source": [],
      "id": "f481cd13"
    },
    {
      "cell_type": "code",
      "execution_count": null,
      "metadata": {
        "id": "a5be39e4"
      },
      "outputs": [],
      "source": [],
      "id": "a5be39e4"
    }
  ],
  "metadata": {
    "accelerator": "GPU",
    "colab": {
      "provenance": []
    },
    "gpuClass": "standard",
    "kernelspec": {
      "display_name": "Python 3 (ipykernel)",
      "language": "python",
      "name": "python3"
    },
    "language_info": {
      "codemirror_mode": {
        "name": "ipython",
        "version": 3
      },
      "file_extension": ".py",
      "mimetype": "text/x-python",
      "name": "python",
      "nbconvert_exporter": "python",
      "pygments_lexer": "ipython3",
      "version": "3.9.12"
    }
  },
  "nbformat": 4,
  "nbformat_minor": 5
}